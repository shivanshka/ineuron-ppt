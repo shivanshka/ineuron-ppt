{
 "cells": [
  {
   "cell_type": "markdown",
   "id": "05120513",
   "metadata": {},
   "source": [
    "## Assignment 7"
   ]
  },
  {
   "cell_type": "markdown",
   "id": "c470b451",
   "metadata": {},
   "source": [
    "#### Question 1"
   ]
  },
  {
   "cell_type": "code",
   "execution_count": 1,
   "id": "e40d169c",
   "metadata": {},
   "outputs": [],
   "source": [
    "def isIsomorphic(s, t):\n",
    "    map1 = []\n",
    "    map2 = []\n",
    "    for idx in s:\n",
    "        map1.append(s.index(idx))\n",
    "    for idx in t:\n",
    "        map2.append(t.index(idx))\n",
    "    if map1 == map2:\n",
    "        return True\n",
    "    return False"
   ]
  },
  {
   "cell_type": "code",
   "execution_count": 2,
   "id": "07dfb43f",
   "metadata": {},
   "outputs": [
    {
     "name": "stdout",
     "output_type": "stream",
     "text": [
      "Is Ismorphic = True\n"
     ]
    }
   ],
   "source": [
    "s = \"egg\"\n",
    "t = \"add\"\n",
    "output = isIsomorphic(s, t)\n",
    "print(\"Is Ismorphic =\",output)"
   ]
  },
  {
   "cell_type": "markdown",
   "id": "23f09e8c",
   "metadata": {},
   "source": [
    "#### Question 2"
   ]
  },
  {
   "cell_type": "code",
   "execution_count": 3,
   "id": "b79acdb3",
   "metadata": {},
   "outputs": [],
   "source": [
    "def isStrobogrammatic(num):\n",
    "    maps = {(\"0\", \"0\"), (\"1\", \"1\"), (\"6\", \"9\"), (\"8\", \"8\"), (\"9\", \"6\")}\n",
    "    i,j = 0, len(num) - 1\n",
    "    while i <= j:\n",
    "        if (num[i], num[j]) not in maps:\n",
    "            return False\n",
    "        i += 1\n",
    "        j -= 1\n",
    "    return True"
   ]
  },
  {
   "cell_type": "code",
   "execution_count": 5,
   "id": "17e777d3",
   "metadata": {},
   "outputs": [
    {
     "name": "stdout",
     "output_type": "stream",
     "text": [
      "Is Strobogrammatic Number = True\n"
     ]
    }
   ],
   "source": [
    "num = \"69\"\n",
    "output = isStrobogrammatic(num)\n",
    "print(\"Is Strobogrammatic Number =\",output)"
   ]
  },
  {
   "cell_type": "markdown",
   "id": "2f2dd404",
   "metadata": {},
   "source": [
    "#### Question 3"
   ]
  },
  {
   "cell_type": "code",
   "execution_count": 6,
   "id": "c9c7d484",
   "metadata": {},
   "outputs": [],
   "source": [
    "def addStrings(num1: str, num2: str) -> str:\n",
    "    num1 = num1[::-1]\n",
    "    num2 = num2[::-1]\n",
    "    if len(num1) < len(num2):\n",
    "        num1 += '0' * (len(num2) - len(num1))\n",
    "    else:\n",
    "        num2 += '0' * (len(num1) - len(num2))\n",
    "    \n",
    "    result = ''\n",
    "    carry = 0\n",
    "\n",
    "    for i in range(len(num1)):\n",
    "        digit_sum = int(num1[i]) + int(num2[i]) + carry\n",
    "        carry = digit_sum // 10\n",
    "        result += str(digit_sum % 10)\n",
    "    \n",
    "    if carry > 0:\n",
    "        result += str(carry)\n",
    "    \n",
    "    return result[::-1]"
   ]
  },
  {
   "cell_type": "code",
   "execution_count": 7,
   "id": "0389c790",
   "metadata": {},
   "outputs": [
    {
     "name": "stdout",
     "output_type": "stream",
     "text": [
      "Sum of Number = 134\n"
     ]
    }
   ],
   "source": [
    "num1 = \"11\"\n",
    "num2 = \"123\"\n",
    "output = addStrings(num1,num2)\n",
    "print(\"Sum of Number =\",output)"
   ]
  },
  {
   "cell_type": "markdown",
   "id": "6eb44fa0",
   "metadata": {},
   "source": [
    "#### Question 4"
   ]
  },
  {
   "cell_type": "code",
   "execution_count": 9,
   "id": "a5f28c51",
   "metadata": {},
   "outputs": [],
   "source": [
    "def reverseWords(s: str) -> str:\n",
    "    words=s.split()\n",
    "    ans = \"\"\n",
    "    for  i in range(len(words)):\n",
    "        ans += words[i][::-1]\n",
    "        if i != len(words)-1:\n",
    "            ans+=\" \"\n",
    "    return ans"
   ]
  },
  {
   "cell_type": "code",
   "execution_count": 10,
   "id": "b9b57f1e",
   "metadata": {},
   "outputs": [
    {
     "name": "stdout",
     "output_type": "stream",
     "text": [
      "Reverse order = s'teL ekat edoCteeL tsetnoc\n"
     ]
    }
   ],
   "source": [
    "s = \"Let's take LeetCode contest\"\n",
    "output = reverseWords(s)\n",
    "print(\"Reverse order =\",output)"
   ]
  },
  {
   "cell_type": "markdown",
   "id": "3d5340ff",
   "metadata": {},
   "source": [
    "#### Question 5"
   ]
  },
  {
   "cell_type": "code",
   "execution_count": 11,
   "id": "1ba20cf4",
   "metadata": {},
   "outputs": [],
   "source": [
    "def reverseStr(s: str, k: int) -> str:\n",
    "    tab=[]\n",
    "    for i in range(len(s)):\n",
    "        if (i//k)%2==0:\n",
    "            tab.insert(i-i%k,s[i])\n",
    "        else:\n",
    "            tab.append(s[i])\n",
    "    res=\"\"\n",
    "    for t in tab:\n",
    "        res+=t\n",
    "    return res"
   ]
  },
  {
   "cell_type": "code",
   "execution_count": 12,
   "id": "1ac3f9a6",
   "metadata": {},
   "outputs": [
    {
     "name": "stdout",
     "output_type": "stream",
     "text": [
      "Reverse = bacdfeg\n"
     ]
    }
   ],
   "source": [
    "s = \"abcdefg\"\n",
    "k = 2\n",
    "output = reverseStr(s, k)\n",
    "print(\"Reverse =\",output)"
   ]
  },
  {
   "cell_type": "markdown",
   "id": "509912f8",
   "metadata": {},
   "source": [
    "#### Question 6"
   ]
  },
  {
   "cell_type": "code",
   "execution_count": 13,
   "id": "f302c244",
   "metadata": {},
   "outputs": [],
   "source": [
    "def rotateString(s: str, goal: str) -> bool:\n",
    "    if s == goal:\n",
    "        return True\n",
    "\n",
    "    s, goal = [*s], [*goal]  # unpacking the strings (creates list)\n",
    "\n",
    "    for x in range(len(s)):\n",
    "        a = s[0]\n",
    "        s.pop(0)\n",
    "        s.append(a)\n",
    "\n",
    "        if s == goal:\n",
    "            return True\n",
    "\n",
    "    return False"
   ]
  },
  {
   "cell_type": "code",
   "execution_count": 14,
   "id": "ef1df783",
   "metadata": {},
   "outputs": [
    {
     "name": "stdout",
     "output_type": "stream",
     "text": [
      "Rotated string = True\n"
     ]
    }
   ],
   "source": [
    "s = \"abcde\"\n",
    "goal = \"cdeab\"\n",
    "output = rotateString(s, goal)\n",
    "print(\"Rotated string =\",output)"
   ]
  },
  {
   "cell_type": "markdown",
   "id": "bd389ffe",
   "metadata": {},
   "source": [
    "#### Question 7"
   ]
  },
  {
   "cell_type": "code",
   "execution_count": 15,
   "id": "137dcf30",
   "metadata": {},
   "outputs": [],
   "source": [
    "def solve(s):\n",
    "    ans=[]\n",
    "    for i in s:\n",
    "        if i!=\"#\":\n",
    "            ans.append(i)\n",
    "        elif ans:\n",
    "            ans.pop()\n",
    "    return \"\".join(ans)\n",
    "\n",
    "def backspaceCompare(s: str, t: str) -> bool:\n",
    "    return solve(s)==solve(t)"
   ]
  },
  {
   "cell_type": "code",
   "execution_count": 18,
   "id": "38fec906",
   "metadata": {},
   "outputs": [
    {
     "name": "stdout",
     "output_type": "stream",
     "text": [
      "If they are same =  True\n"
     ]
    }
   ],
   "source": [
    "s = \"ab#c\"\n",
    "t = \"ad#c\"\n",
    "output = backspaceCompare(s,t)\n",
    "print(\"If they are same = \",output)"
   ]
  },
  {
   "cell_type": "markdown",
   "id": "3f29f621",
   "metadata": {},
   "source": [
    "#### Question 8"
   ]
  },
  {
   "cell_type": "code",
   "execution_count": 19,
   "id": "86d3cd6e",
   "metadata": {},
   "outputs": [],
   "source": [
    "def checkStraightLine(coordinates):\n",
    "    x0, y0 = coordinates[0]\n",
    "    x1, y1 = coordinates[1]\n",
    "\n",
    "    for i in range(2, len(coordinates)):\n",
    "        x, y = coordinates[i]\n",
    "        if (x - x0) * (y1 - y0) != (y - y0) * (x1 - x0):\n",
    "            return False\n",
    "\n",
    "    return True"
   ]
  },
  {
   "cell_type": "code",
   "execution_count": 20,
   "id": "325cba41",
   "metadata": {},
   "outputs": [
    {
     "name": "stdout",
     "output_type": "stream",
     "text": [
      "Is Straight line = True\n"
     ]
    }
   ],
   "source": [
    "coordinates = [[1,2],[2,3],[3,4],[4,5],[5,6],[6,7]]\n",
    "output = checkStraightLine(coordinates)\n",
    "print(\"Is Straight line =\",output)"
   ]
  },
  {
   "cell_type": "code",
   "execution_count": null,
   "id": "71d9a692",
   "metadata": {},
   "outputs": [],
   "source": []
  }
 ],
 "metadata": {
  "kernelspec": {
   "display_name": "Python 3 (ipykernel)",
   "language": "python",
   "name": "python3"
  },
  "language_info": {
   "codemirror_mode": {
    "name": "ipython",
    "version": 3
   },
   "file_extension": ".py",
   "mimetype": "text/x-python",
   "name": "python",
   "nbconvert_exporter": "python",
   "pygments_lexer": "ipython3",
   "version": "3.9.12"
  }
 },
 "nbformat": 4,
 "nbformat_minor": 5
}
