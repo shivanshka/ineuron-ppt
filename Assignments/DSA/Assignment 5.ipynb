{
 "cells": [
  {
   "cell_type": "markdown",
   "id": "f22bb57b",
   "metadata": {},
   "source": [
    "## Assignment 5"
   ]
  },
  {
   "cell_type": "markdown",
   "id": "a625d73a",
   "metadata": {},
   "source": [
    "#### Question 1"
   ]
  },
  {
   "cell_type": "code",
   "execution_count": 1,
   "id": "8d6a13bd",
   "metadata": {},
   "outputs": [],
   "source": [
    "from typing import List\n",
    "def construct2DArray(original: List[int], m: int, n: int) -> List[List[int]]:\n",
    "    ans = []\n",
    "    if len(original) == m*n: \n",
    "        for i in range(0, len(original), n): \n",
    "            ans.append(original[i:i+n])\n",
    "    return ans "
   ]
  },
  {
   "cell_type": "code",
   "execution_count": 2,
   "id": "37b851c1",
   "metadata": {},
   "outputs": [
    {
     "name": "stdout",
     "output_type": "stream",
     "text": [
      "Output =  [[1, 2], [3, 4]]\n"
     ]
    }
   ],
   "source": [
    "original = [1,2,3,4]\n",
    "m = 2\n",
    "n = 2\n",
    "output = construct2DArray(original, m, n)\n",
    "print(\"Output = \", output)"
   ]
  },
  {
   "cell_type": "markdown",
   "id": "207fe792",
   "metadata": {},
   "source": [
    "#### Question 2"
   ]
  },
  {
   "cell_type": "code",
   "execution_count": 3,
   "id": "acaeee8b",
   "metadata": {},
   "outputs": [],
   "source": [
    "import math\n",
    "def arrangeCoins(n: int) -> int:\n",
    "    return int(math.sqrt(2 * n + 0.25) - 0.50)"
   ]
  },
  {
   "cell_type": "code",
   "execution_count": 4,
   "id": "b1003c83",
   "metadata": {},
   "outputs": [
    {
     "name": "stdout",
     "output_type": "stream",
     "text": [
      "Output =  2\n"
     ]
    }
   ],
   "source": [
    "n = 5\n",
    "output = arrangeCoins(n)\n",
    "print(\"Output = \", output)"
   ]
  },
  {
   "cell_type": "markdown",
   "id": "35a74e87",
   "metadata": {},
   "source": [
    "#### Question 3"
   ]
  },
  {
   "cell_type": "code",
   "execution_count": 5,
   "id": "5ebc001a",
   "metadata": {},
   "outputs": [],
   "source": [
    "def sortedSquares(nums: List[int]) -> List[int]:\n",
    "    sq_nums = list(map(lambda n: n**2, nums))\n",
    "    sq_nums.sort()\n",
    "    return sq_nums"
   ]
  },
  {
   "cell_type": "code",
   "execution_count": 6,
   "id": "2be6f3c5",
   "metadata": {},
   "outputs": [
    {
     "name": "stdout",
     "output_type": "stream",
     "text": [
      "Output =  [0, 1, 9, 16, 100]\n"
     ]
    }
   ],
   "source": [
    "nums = [-4,-1,0,3,10]\n",
    "output = sortedSquares(nums)\n",
    "print(\"Output = \", output)"
   ]
  },
  {
   "cell_type": "markdown",
   "id": "ffd9aed4",
   "metadata": {},
   "source": [
    "#### Question 4"
   ]
  },
  {
   "cell_type": "code",
   "execution_count": 7,
   "id": "449709bb",
   "metadata": {},
   "outputs": [],
   "source": [
    "def findDifference(nums1: List[int], nums2: List[int]) -> List[List[int]]:\n",
    "    n1=set(nums1)\n",
    "    n2=set(nums2)\n",
    "    r1=list(set(x for x in nums1 if x not in n2))\n",
    "    r2=list(set(x for x in nums2 if x not in n1))\n",
    "    return [r1,r2]"
   ]
  },
  {
   "cell_type": "code",
   "execution_count": 8,
   "id": "a6dd359d",
   "metadata": {},
   "outputs": [
    {
     "name": "stdout",
     "output_type": "stream",
     "text": [
      "Output =  [[1, 3], [4, 6]]\n"
     ]
    }
   ],
   "source": [
    "nums1 = [1,2,3]\n",
    "nums2 = [2,4,6]\n",
    "output = findDifference(nums1, nums2)\n",
    "print(\"Output = \", output)"
   ]
  },
  {
   "cell_type": "markdown",
   "id": "8c90dd4a",
   "metadata": {},
   "source": [
    "#### Question 5"
   ]
  },
  {
   "cell_type": "code",
   "execution_count": 9,
   "id": "278935c8",
   "metadata": {},
   "outputs": [],
   "source": [
    "def findTheDistanceValue(arr1: List[int], arr2: List[int], d: int) -> int:\n",
    "    count=0\n",
    "    for i in arr1:\n",
    "        for j in arr2:\n",
    "            if abs(i-j)<=d:\n",
    "                count+=1\n",
    "                break\n",
    "    return len(arr1)-count"
   ]
  },
  {
   "cell_type": "code",
   "execution_count": 10,
   "id": "9e96a938",
   "metadata": {},
   "outputs": [
    {
     "name": "stdout",
     "output_type": "stream",
     "text": [
      "Output =  2\n"
     ]
    }
   ],
   "source": [
    "arr1 = [4,5,8]\n",
    "arr2 = [10,9,1,8]\n",
    "d = 2\n",
    "output = findTheDistanceValue(arr1, arr2, d)\n",
    "print(\"Output = \", output)"
   ]
  },
  {
   "cell_type": "markdown",
   "id": "e26ddd55",
   "metadata": {},
   "source": [
    "#### Question 6"
   ]
  },
  {
   "cell_type": "code",
   "execution_count": 12,
   "id": "60f9c662",
   "metadata": {},
   "outputs": [],
   "source": [
    "def findDuplicates(nums: List[int]) -> List[int]:\n",
    "    val={}\n",
    "    for i in nums:\n",
    "        if i in val:\n",
    "            val[i]+=1\n",
    "        else:\n",
    "            val[i]=1\n",
    "    keys=[key for key,values in val.items() if values==2]\n",
    "    return keys"
   ]
  },
  {
   "cell_type": "code",
   "execution_count": 13,
   "id": "51a51683",
   "metadata": {},
   "outputs": [
    {
     "name": "stdout",
     "output_type": "stream",
     "text": [
      "Output =  [3, 2]\n"
     ]
    }
   ],
   "source": [
    "nums = [4,3,2,7,8,2,3,1]\n",
    "output = findDuplicates(nums)\n",
    "print(\"Output = \", output)"
   ]
  },
  {
   "cell_type": "markdown",
   "id": "10138e5e",
   "metadata": {},
   "source": [
    "#### Question 7"
   ]
  },
  {
   "cell_type": "code",
   "execution_count": 18,
   "id": "a4bc336a",
   "metadata": {},
   "outputs": [],
   "source": [
    "def findMin(nums: List[int]) -> int:\n",
    "    low=0\n",
    "    high=len(nums)-1\n",
    "    while low<high:\n",
    "        mid=(low+high)//2\n",
    "        if nums[mid]>nums[high]:\n",
    "            low=mid+1\n",
    "        else:\n",
    "            high=mid\n",
    "    return nums[low]"
   ]
  },
  {
   "cell_type": "code",
   "execution_count": 19,
   "id": "c03b7b94",
   "metadata": {},
   "outputs": [
    {
     "name": "stdout",
     "output_type": "stream",
     "text": [
      "Output =  1\n"
     ]
    }
   ],
   "source": [
    "nums = [3,4,5,1,2]\n",
    "output = findMin(nums)\n",
    "print(\"Output = \", output)"
   ]
  },
  {
   "cell_type": "markdown",
   "id": "d31a1da4",
   "metadata": {},
   "source": [
    "#### Question 8"
   ]
  },
  {
   "cell_type": "code",
   "execution_count": 21,
   "id": "47751240",
   "metadata": {},
   "outputs": [],
   "source": [
    "from collections import Counter\n",
    "def findOriginalArray(A):\n",
    "    c = Counter(A)\n",
    "    if c[0] % 2:\n",
    "        return []\n",
    "    for x in sorted(c):\n",
    "        if c[x] > c[2 * x]:\n",
    "            return []\n",
    "        c[2 * x] -= c[x] if x else c[x] / 2\n",
    "    return list(c.elements())"
   ]
  },
  {
   "cell_type": "code",
   "execution_count": 22,
   "id": "7cb2c8b0",
   "metadata": {},
   "outputs": [
    {
     "name": "stdout",
     "output_type": "stream",
     "text": [
      "Output =  [1, 3, 4]\n"
     ]
    }
   ],
   "source": [
    "changed = [1,3,4,2,6,8]\n",
    "output = findOriginalArray(changed)\n",
    "print(\"Output = \", output)"
   ]
  },
  {
   "cell_type": "code",
   "execution_count": null,
   "id": "81c27a38",
   "metadata": {},
   "outputs": [],
   "source": []
  }
 ],
 "metadata": {
  "kernelspec": {
   "display_name": "Python 3 (ipykernel)",
   "language": "python",
   "name": "python3"
  },
  "language_info": {
   "codemirror_mode": {
    "name": "ipython",
    "version": 3
   },
   "file_extension": ".py",
   "mimetype": "text/x-python",
   "name": "python",
   "nbconvert_exporter": "python",
   "pygments_lexer": "ipython3",
   "version": "3.9.12"
  }
 },
 "nbformat": 4,
 "nbformat_minor": 5
}
