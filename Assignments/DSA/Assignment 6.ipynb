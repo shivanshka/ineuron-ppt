{
 "cells": [
  {
   "cell_type": "markdown",
   "id": "5fee7cc3",
   "metadata": {},
   "source": [
    "##  Assignment 6"
   ]
  },
  {
   "cell_type": "markdown",
   "id": "de6f9a8f",
   "metadata": {},
   "source": [
    "#### Question 1"
   ]
  },
  {
   "cell_type": "code",
   "execution_count": 3,
   "id": "a2240905",
   "metadata": {},
   "outputs": [],
   "source": [
    "from typing import List\n",
    "def diStringMatch(s: str) -> List[int]:\n",
    "    L,ic,dc=[],0,len(s)\n",
    "    for i in s:\n",
    "        if i=='I':\n",
    "            L.append(ic)\n",
    "            ic+=1\n",
    "        else:\n",
    "            L.append(dc)\n",
    "            dc-=1\n",
    "    if s[-1]=='I':\n",
    "        L.append(ic)\n",
    "    else:\n",
    "        L.append(dc)\n",
    "    return L"
   ]
  },
  {
   "cell_type": "code",
   "execution_count": 4,
   "id": "81e97129",
   "metadata": {},
   "outputs": [
    {
     "name": "stdout",
     "output_type": "stream",
     "text": [
      "Output =  [0, 4, 1, 3, 2]\n"
     ]
    }
   ],
   "source": [
    "s = \"IDID\"\n",
    "output = diStringMatch(s)\n",
    "print(\"Output = \",output)"
   ]
  },
  {
   "cell_type": "markdown",
   "id": "ee61c2ba",
   "metadata": {},
   "source": [
    "#### Question 2"
   ]
  },
  {
   "cell_type": "code",
   "execution_count": 5,
   "id": "98185a67",
   "metadata": {},
   "outputs": [],
   "source": [
    "def searchMatrix(matrix: List[List[int]], target: int) -> bool:\n",
    "    for i in range(len(matrix)):\n",
    "        low=0\n",
    "        high=len(matrix[i])-1\n",
    "        while low<=high:\n",
    "            mid=low+(high-low)//2\n",
    "            if matrix[i][mid]==target:\n",
    "                return True\n",
    "            elif matrix[i][mid]<target:\n",
    "                low=mid+1\n",
    "            else:\n",
    "                high=mid-1\n",
    "    return False"
   ]
  },
  {
   "cell_type": "code",
   "execution_count": 6,
   "id": "63b5e250",
   "metadata": {},
   "outputs": [
    {
     "name": "stdout",
     "output_type": "stream",
     "text": [
      "Output =  True\n"
     ]
    }
   ],
   "source": [
    "matrix = [[1,3,5,7],\n",
    "          [10,11,16,20],\n",
    "          [23,30,34,60]]\n",
    "target = 3\n",
    "output = searchMatrix(matrix, target)\n",
    "print(\"Output = \",output)"
   ]
  },
  {
   "cell_type": "markdown",
   "id": "3ea1bc9a",
   "metadata": {},
   "source": [
    "#### Question 3"
   ]
  },
  {
   "cell_type": "code",
   "execution_count": 7,
   "id": "99f515dd",
   "metadata": {},
   "outputs": [],
   "source": [
    "\n",
    "def validMountainArray(arr: List[int]) -> bool:\n",
    "    place = arr.index(max(arr))\n",
    "    if place == 0 or place == len(arr) - 1:\n",
    "        return False\n",
    "    else:\n",
    "        value = True\n",
    "        i = 0\n",
    "        while i < place:\n",
    "            if arr[i] >= arr[i + 1]:\n",
    "                value = False\n",
    "                break\n",
    "            else:\n",
    "                i += 1\n",
    "        i = place + 1\n",
    "        if value:\n",
    "            while i < len(arr):\n",
    "                if arr[i - 1] <= arr[i]:\n",
    "                    print(i)\n",
    "                    return False\n",
    "                else:\n",
    "                    i += 1\n",
    "        else:\n",
    "            return False\n",
    "        return True"
   ]
  },
  {
   "cell_type": "code",
   "execution_count": 8,
   "id": "9c352c18",
   "metadata": {},
   "outputs": [
    {
     "name": "stdout",
     "output_type": "stream",
     "text": [
      "Output =  False\n"
     ]
    }
   ],
   "source": [
    "arr = [2,1]\n",
    "output = validMountainArray(arr)\n",
    "print(\"Output = \",output)"
   ]
  },
  {
   "cell_type": "markdown",
   "id": "f7a0e3d2",
   "metadata": {},
   "source": [
    "#### Question 4"
   ]
  },
  {
   "cell_type": "code",
   "execution_count": 11,
   "id": "3149998b",
   "metadata": {},
   "outputs": [],
   "source": [
    "def findMaxLength(nums: List[int]) -> int:\n",
    "    dic = {0:-1}                                \n",
    "    count = 0                                  \n",
    "    res = 0                                     \n",
    "\n",
    "    for i in range(len(nums)):                  \n",
    "        if nums[i] == 0:                        \n",
    "            count -= 1\n",
    "        if nums[i] == 1:\n",
    "            count += 1\n",
    "\n",
    "        if count in dic:                        \n",
    "            res = max(res, i - dic[count])\n",
    "        else:                                   \n",
    "            dic[count] = i\n",
    "\n",
    "    return res"
   ]
  },
  {
   "cell_type": "code",
   "execution_count": 12,
   "id": "8ced968a",
   "metadata": {},
   "outputs": [
    {
     "name": "stdout",
     "output_type": "stream",
     "text": [
      "Output =  2\n"
     ]
    }
   ],
   "source": [
    "nums = [0,1]\n",
    "output = findMaxLength(nums)\n",
    "print(\"Output = \",output)"
   ]
  },
  {
   "cell_type": "markdown",
   "id": "014f83ff",
   "metadata": {},
   "source": [
    "#### Question 5"
   ]
  },
  {
   "cell_type": "code",
   "execution_count": 13,
   "id": "91686b23",
   "metadata": {},
   "outputs": [],
   "source": [
    "def minProductSum(nums1: List[int], nums2: List[int]) -> int:\n",
    "    nums1.sort()\n",
    "    nums2.sort()\n",
    "    n, res = len(nums1), 0\n",
    "    for i in range(n):\n",
    "        res += nums1[i] * nums2[n - i - 1]\n",
    "    return res"
   ]
  },
  {
   "cell_type": "code",
   "execution_count": 14,
   "id": "584717f1",
   "metadata": {},
   "outputs": [
    {
     "name": "stdout",
     "output_type": "stream",
     "text": [
      "Output =  40\n"
     ]
    }
   ],
   "source": [
    "nums1 = [5,3,4,2]\n",
    "nums2 = [4,2,2,5]\n",
    "output = minProductSum(nums1, nums2)\n",
    "print(\"Output = \",output)"
   ]
  },
  {
   "cell_type": "markdown",
   "id": "4cfbcd99",
   "metadata": {},
   "source": [
    "#### Question 6"
   ]
  },
  {
   "cell_type": "code",
   "execution_count": 19,
   "id": "d3a8e984",
   "metadata": {},
   "outputs": [],
   "source": [
    "from collections import Counter\n",
    "def findOriginalArray(changed: List[int]) -> List[int]:\n",
    "    if len(changed) % 2 == 1:\n",
    "        return []\n",
    "    data = Counter(changed)\n",
    "    result = []\n",
    "    for k in sorted(data):\n",
    "        if data[k] < 0:\n",
    "            return []\n",
    "        value = k * 2\n",
    "        while data[k] > 0:\n",
    "            if data[value] == 0:\n",
    "                return []\n",
    "            result.append(k)\n",
    "            data[k] -= 1\n",
    "            data[value] -= 1\n",
    "    return result"
   ]
  },
  {
   "cell_type": "code",
   "execution_count": 20,
   "id": "c46b8486",
   "metadata": {},
   "outputs": [
    {
     "name": "stdout",
     "output_type": "stream",
     "text": [
      "Output =  [1, 3, 4]\n"
     ]
    }
   ],
   "source": [
    "changed = [1,3,4,2,6,8]\n",
    "output = findOriginalArray(changed)\n",
    "print(\"Output = \",output)"
   ]
  },
  {
   "cell_type": "markdown",
   "id": "daf5ceaa",
   "metadata": {},
   "source": [
    "#### Question 7"
   ]
  },
  {
   "cell_type": "code",
   "execution_count": 21,
   "id": "efeeb8ef",
   "metadata": {},
   "outputs": [],
   "source": [
    "def generateMatrix(n: int) -> List[List[int]]:\n",
    "    matrix = [[0]*n for _ in range(n)]\n",
    "    r, c, dr, dc = 0, 0, 0, 1\n",
    "    for current in range(1, n*n + 1):\n",
    "        matrix[r][c] = current\n",
    "        if not (0 <= r + dr < n and 0 <= c + dc < n and matrix[r + dr][c + dc] == 0):\n",
    "            dr, dc = dc, -dr\n",
    "        r += dr\n",
    "        c += dc\n",
    "    return matrix"
   ]
  },
  {
   "cell_type": "code",
   "execution_count": 22,
   "id": "e260dc04",
   "metadata": {},
   "outputs": [
    {
     "name": "stdout",
     "output_type": "stream",
     "text": [
      "Output =  [[1, 2, 3], [8, 9, 4], [7, 6, 5]]\n"
     ]
    }
   ],
   "source": [
    "n = 3\n",
    "output = generateMatrix(n)\n",
    "print(\"Output = \",output)"
   ]
  },
  {
   "cell_type": "markdown",
   "id": "1359be20",
   "metadata": {},
   "source": [
    "#### Question 8"
   ]
  },
  {
   "cell_type": "code",
   "execution_count": 27,
   "id": "826cd120",
   "metadata": {},
   "outputs": [],
   "source": [
    "def multiply(A: List[List[int]], B: List[List[int]]) -> List[List[int]]:\n",
    "    ret = [[0 for j in range(len(B[0]))] for i in range(len(A))]\n",
    "\n",
    "    for i, row in enumerate(A):\n",
    "        for k, a in enumerate(row):\n",
    "            if a:\n",
    "                for j, b in enumerate(B[k]):\n",
    "                    if b:\n",
    "                        ret[i][j] += a * b\n",
    "    return ret"
   ]
  },
  {
   "cell_type": "code",
   "execution_count": 28,
   "id": "3f96231f",
   "metadata": {},
   "outputs": [
    {
     "name": "stdout",
     "output_type": "stream",
     "text": [
      "Output =  [[7, 0, 0], [-7, 0, 3]]\n"
     ]
    }
   ],
   "source": [
    "mat1 = [[1,0,0],[-1,0,3]]\n",
    "mat2 = [[7,0,0],[0,0,0],[0,0,1]]\n",
    "output = multiply(mat1, mat2)\n",
    "print(\"Output = \",output)"
   ]
  },
  {
   "cell_type": "code",
   "execution_count": null,
   "id": "340bbe08",
   "metadata": {},
   "outputs": [],
   "source": []
  }
 ],
 "metadata": {
  "kernelspec": {
   "display_name": "Python 3 (ipykernel)",
   "language": "python",
   "name": "python3"
  },
  "language_info": {
   "codemirror_mode": {
    "name": "ipython",
    "version": 3
   },
   "file_extension": ".py",
   "mimetype": "text/x-python",
   "name": "python",
   "nbconvert_exporter": "python",
   "pygments_lexer": "ipython3",
   "version": "3.9.12"
  }
 },
 "nbformat": 4,
 "nbformat_minor": 5
}
