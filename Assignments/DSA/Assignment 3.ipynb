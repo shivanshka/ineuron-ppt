{
 "cells": [
  {
   "cell_type": "markdown",
   "id": "849b1682",
   "metadata": {},
   "source": [
    "## Assignment 3"
   ]
  },
  {
   "cell_type": "markdown",
   "id": "ec707dd5",
   "metadata": {},
   "source": [
    "Question 1  \n",
    "Given an integer array nums of length n and an integer target, find three integers in nums such that the sum is closest to the target. Return the sum of the three integers.  \n",
    "You may assume that each input would have exactly one solution.  \n",
    "Example 1:  \n",
    "Input: nums = [-1,2,1,-4], target = 1  \n",
    "Output: 2  \n",
    "Explanation: The sum that is closest to the target is 2. (-1 + 2 + 1 = 2).  "
   ]
  },
  {
   "cell_type": "code",
   "execution_count": 2,
   "id": "bd4d6fed",
   "metadata": {},
   "outputs": [],
   "source": [
    "from typing import List\n",
    "def Closest(nums: List[int], target: int) -> int:\n",
    "    closet = float('inf')\n",
    "    nums.sort()\n",
    "    for i in range(len(nums) - 2):\n",
    "        l, r = i + 1, len(nums) - 1\n",
    "        while l < r:\n",
    "            sum3 = nums[i] + nums[l] + nums[r]\n",
    "            print(sum3)\n",
    "            if sum3 < target:\n",
    "                l += 1\n",
    "            else:\n",
    "                r -=1\n",
    "            if abs(sum3 - target) < abs(closet - target):\n",
    "                closet = sum3\n",
    "    return closet"
   ]
  },
  {
   "cell_type": "code",
   "execution_count": 3,
   "id": "8068478f",
   "metadata": {},
   "outputs": [
    {
     "name": "stdout",
     "output_type": "stream",
     "text": [
      "-3\n",
      "-1\n",
      "2\n",
      "Output =  2\n"
     ]
    }
   ],
   "source": [
    "nums = [-1,2,1,-4]\n",
    "target = 1\n",
    "output = Closest(nums, target)\n",
    "print(\"Output = \", output)"
   ]
  },
  {
   "cell_type": "markdown",
   "id": "5f5a5724",
   "metadata": {},
   "source": [
    "Question 2  \n",
    "Given an array nums of n integers, return an array of all the unique quadruplets  \n",
    "[nums[a], nums[b], nums[c], nums[d]] such that:  \n",
    "● 0 <= a, b, c, d < n  \n",
    "● a, b, c, and d are distinct.  \n",
    "● nums[a] + nums[b] + nums[c] + nums[d] == target  \n",
    "You may return the answer in any order.  \n",
    "Example 1:  \n",
    "Input: nums = [1,0,-1,0,-2,2], target = 0  \n",
    "Output: [[-2,-1,1,2],[-2,0,0,2],[-1,0,0,1]]  "
   ]
  },
  {
   "cell_type": "code",
   "execution_count": 4,
   "id": "b986ca69",
   "metadata": {},
   "outputs": [],
   "source": [
    "def fourSum(snums: List[int], target: int) -> List[List[int]]:\n",
    "    n = len(nums)\n",
    "    ans = set()\n",
    "    for i in range(n-3):\n",
    "        for j in range(i+1, n-2):\n",
    "            for k in range(j+1, n-1):\n",
    "                for l in range(k+1, n):\n",
    "                    if nums[i] + nums[j] + nums[k] + nums[l] == target:\n",
    "                        ans.add(tuple(sorted((nums[i], nums[j], nums[k], nums[l]))))\n",
    "\n",
    "    res = []\n",
    "    for i in ans:\n",
    "        res += list(i),\n",
    "    return res"
   ]
  },
  {
   "cell_type": "code",
   "execution_count": 5,
   "id": "9f91de8a",
   "metadata": {},
   "outputs": [
    {
     "name": "stdout",
     "output_type": "stream",
     "text": [
      "Output =  [[-2, -1, 1, 2], [-1, 0, 0, 1], [-2, 0, 0, 2]]\n"
     ]
    }
   ],
   "source": [
    "nums = [1,0,-1,0,-2,2]\n",
    "target = 0\n",
    "output = fourSum(nums, target)\n",
    "print(\"Output = \", output)"
   ]
  },
  {
   "cell_type": "markdown",
   "id": "7cf8d5d6",
   "metadata": {},
   "source": [
    "Question 3  \n",
    "A permutation of an array of integers is an arrangement of its members into a sequence or linear order.  \n",
    "For example, for arr = [1,2,3], the following are all the permutations of arr:  \n",
    "[1,2,3], [1,3,2], [2, 1, 3], [2, 3, 1], [3,1,2], [3,2,1].  \n",
    "The next permutation of an array of integers is the next lexicographically greater permutation of its integer. More formally, if all the permutations of the array are sorted in one container according to their lexicographical order, then the next permutation of that array is the permutation that follows it in the sorted container.  \n",
    "If such an arrangement is not possible, the array must be rearranged as the lowest possible order (i.e., sorted in ascending order).  \n",
    "● For example, the next permutation of arr = [1,2,3] is [1,3,2].  \n",
    "● Similarly, the next permutation of arr = [2,3,1] is [3,1,2].  \n",
    "● While the next permutation of arr = [3,2,1] is [1,2,3] because [3,2,1] does not have a lexicographical larger rearrangement.  \n",
    "Given an array of integers nums, find the next permutation of nums.  \n",
    "The replacement must be in place and use only constant extra memory.  \n",
    "Example 1:  \n",
    "Input: nums = [1,2,3]  \n",
    "Output: [1,3,2]  "
   ]
  },
  {
   "cell_type": "code",
   "execution_count": 6,
   "id": "d5c55476",
   "metadata": {},
   "outputs": [],
   "source": [
    "def nextPermutation(nums: List[int]) -> None:\n",
    "    \"\"\"\n",
    "    Do not return anything, modify nums in-place instead.\n",
    "    \"\"\"\n",
    "    # Base case\n",
    "    if nums == sorted(nums, key=lambda x: -x):\n",
    "        nums.sort()\n",
    "        return\n",
    "\n",
    "    for i in range(len(nums) - 1, 0, -1):\n",
    "        if nums[i - 1] < nums[i]:\n",
    "            # Find the first value that is less than the current value\n",
    "            min_idx, min_val = len(nums), float('inf')\n",
    "            for j in range(len(nums) - 1, i - 1, -1):\n",
    "                if nums[j] > nums[i - 1] and nums[j] < min_val:\n",
    "                    min_val = nums[j]\n",
    "                    min_idx = j\n",
    "            nums[i - 1], nums[min_idx] = nums[min_idx], nums[i - 1]\n",
    "\n",
    "            # Bubble Sort\n",
    "            while True:\n",
    "                swapped = False\n",
    "                for k in range(i, len(nums) - 1):\n",
    "                    if nums[k] > nums[k + 1]:\n",
    "                        swapped = True\n",
    "                        nums[k], nums[k + 1] = nums[k + 1], nums[k]\n",
    "                if swapped == False: break\n",
    "\n",
    "            return"
   ]
  },
  {
   "cell_type": "code",
   "execution_count": 7,
   "id": "2436b6cf",
   "metadata": {},
   "outputs": [
    {
     "data": {
      "text/plain": [
       "[1, 3, 2]"
      ]
     },
     "execution_count": 7,
     "metadata": {},
     "output_type": "execute_result"
    }
   ],
   "source": [
    "nums = [1,2,3]\n",
    "nextPermutation(nums)\n",
    "nums"
   ]
  },
  {
   "cell_type": "markdown",
   "id": "4fec909c",
   "metadata": {},
   "source": [
    "Question 4  \n",
    "Given a sorted array of distinct integers and a target value, return the index if the target is found. If not, return the index where it would be if it were inserted\n",
    "in order.  \n",
    "You must write an algorithm with O(log n) runtime complexity.  \n",
    "Example 1:  \n",
    "Input: nums = [1,3,5,6], target = 5  \n",
    "Output: 2  "
   ]
  },
  {
   "cell_type": "code",
   "execution_count": 8,
   "id": "92129416",
   "metadata": {},
   "outputs": [],
   "source": [
    "def searchInsert(nums: List[int], target: int) -> int:\n",
    "    left,right=0,len(nums)-1\n",
    "    while left<=right:\n",
    "        mid=(left+right)//2\n",
    "        if nums[mid]==target:\n",
    "            return mid\n",
    "        elif nums[mid]<target:\n",
    "            left=mid+1\n",
    "        else:\n",
    "            right=mid-1\n",
    "    return left"
   ]
  },
  {
   "cell_type": "code",
   "execution_count": 9,
   "id": "9d552ec8",
   "metadata": {},
   "outputs": [
    {
     "name": "stdout",
     "output_type": "stream",
     "text": [
      "Output =  2\n"
     ]
    }
   ],
   "source": [
    "nums = [1,3,5,6]\n",
    "target = 5\n",
    "output = searchInsert(nums, target)\n",
    "print(\"Output = \", output)"
   ]
  },
  {
   "cell_type": "markdown",
   "id": "ec646236",
   "metadata": {},
   "source": [
    "Question 5  \n",
    "You are given a large integer represented as an integer array digits, where each digits[i] is the ith digit of the integer. The digits are ordered from most significant to least significant in left-to-right order. The large integer does not contain any leading 0's.  \n",
    "Increment the large integer by one and return the resulting array of digits.  \n",
    "Example 1:  \n",
    "Input: digits = [1,2,3]  \n",
    "Output: [1,2,4]  \n",
    "Explanation: The array represents the integer 123.  \n",
    "Incrementing by one gives 123 + 1 = 124.  \n",
    "Thus, the result should be [1,2,4].  "
   ]
  },
  {
   "cell_type": "code",
   "execution_count": 10,
   "id": "d3788abd",
   "metadata": {},
   "outputs": [],
   "source": [
    "def plusOne(digits: List[int]) -> List[int]:\n",
    "    integer = 0\n",
    "    for i in digits:\n",
    "        integer = integer*10 + i\n",
    "    integer += 1\n",
    "    res = []\n",
    "    while integer != 0:\n",
    "        res.insert(0, integer % 10)\n",
    "        integer = integer//10\n",
    "    return res"
   ]
  },
  {
   "cell_type": "code",
   "execution_count": 11,
   "id": "55f4ec22",
   "metadata": {},
   "outputs": [
    {
     "name": "stdout",
     "output_type": "stream",
     "text": [
      "Output =  [1, 2, 4]\n"
     ]
    }
   ],
   "source": [
    "digits = [1,2,3]\n",
    "output = plusOne(digits)\n",
    "print(\"Output = \", output)"
   ]
  },
  {
   "cell_type": "markdown",
   "id": "98355462",
   "metadata": {},
   "source": [
    "Question 6  \n",
    "Given a non-empty array of integers nums, every element appears twice except for one. Find that single one. You must implement a solution with a linear runtime complexity and use only constant extra space.  \n",
    "Example 1:  \n",
    "Input: nums = [2,2,1]  \n",
    "Output: 1  "
   ]
  },
  {
   "cell_type": "code",
   "execution_count": 12,
   "id": "3123981a",
   "metadata": {},
   "outputs": [],
   "source": [
    "def singleNumber(nums: List[int]) -> int:\n",
    "    xor = 0\n",
    "    for num in nums:\n",
    "        xor ^= num\n",
    "\n",
    "    return xor"
   ]
  },
  {
   "cell_type": "code",
   "execution_count": 13,
   "id": "f45a8a08",
   "metadata": {},
   "outputs": [
    {
     "name": "stdout",
     "output_type": "stream",
     "text": [
      "Output =  1\n"
     ]
    }
   ],
   "source": [
    "nums = [2,2,1]\n",
    "output = singleNumber(nums)\n",
    "print(\"Output = \", output)"
   ]
  },
  {
   "cell_type": "markdown",
   "id": "190ae155",
   "metadata": {},
   "source": [
    "Question 7  \n",
    "You are given an inclusive range [lower, upper] and a sorted unique integer array nums, where all elements are within the inclusive range. A number x is considered missing if x is in the range [lower, upper] and x is not in nums.  \n",
    "Return the shortest sorted list of ranges that exactly covers all the missing numbers. That is, no element of nums is included in any of the ranges, and each missing number is covered by one of the ranges.  \n",
    "Example 1:  \n",
    "Input: nums = [0,1,3,50,75], lower = 0, upper = 99  \n",
    "Output: [[2,2],[4,49],[51,74],[76,99]]  \n",
    "Explanation: The ranges are:  \n",
    "[2,2]  \n",
    "[4,49]  \n",
    "[51,74]  \n",
    "[76,99]  "
   ]
  },
  {
   "cell_type": "code",
   "execution_count": 22,
   "id": "d4c567a2",
   "metadata": {},
   "outputs": [],
   "source": [
    "def findMissingRanges(nums: List[int], lower: int, upper: int) -> List[str]:\n",
    "    def f(a, b):\n",
    "        return str(a) if a == b else f'{a}->{b}'\n",
    "\n",
    "    n = len(nums)\n",
    "    if n == 0:\n",
    "        return [f(lower, upper)]\n",
    "    ans = []\n",
    "    if nums[0] > lower:\n",
    "        ans.append(f(lower, nums[0] - 1))\n",
    "    for a, b in pairwise(nums):\n",
    "        if b - a > 1:\n",
    "            ans.append(f(a + 1, b - 1))\n",
    "    if nums[-1] < upper:\n",
    "        ans.append(f(nums[-1] + 1, upper))\n",
    "    return ans"
   ]
  },
  {
   "cell_type": "code",
   "execution_count": null,
   "id": "651d01f6",
   "metadata": {},
   "outputs": [],
   "source": [
    "nums = [0,1,3,50,75]\n",
    "lower = 0\n",
    "upper = 99\n",
    "output = findMissingRanges(nums, lower, upper)\n",
    "print(\"Output = \", output)"
   ]
  },
  {
   "cell_type": "markdown",
   "id": "ea8f50a9",
   "metadata": {},
   "source": [
    "Question 8  \n",
    "Given an array of meeting time intervals where intervals[i] = [starti, endi], determine if a person could attend all meetings.  \n",
    "Example 1:  \n",
    "Input: intervals = [[0,30],[5,10],[15,20]]  \n",
    "Output: false  "
   ]
  },
  {
   "cell_type": "code",
   "execution_count": 28,
   "id": "8b1cdfda",
   "metadata": {},
   "outputs": [],
   "source": [
    "def canAttendMeetings(intervals):\n",
    "    new_intervals = sorted(intervals, key=lambda x: x[0])\n",
    "    for i in range(1,len(new_intervals)):\n",
    "        if new_intervals[i-1][1] > new_intervals[i][0]:\n",
    "            return False\n",
    "    return True"
   ]
  },
  {
   "cell_type": "code",
   "execution_count": 29,
   "id": "9c46d95c",
   "metadata": {},
   "outputs": [
    {
     "name": "stdout",
     "output_type": "stream",
     "text": [
      "Output =  False\n"
     ]
    }
   ],
   "source": [
    "intervals = [[0,30],[5,10],[15,20]]\n",
    "output = canAttendMeetings(intervals)\n",
    "print(\"Output = \", output)"
   ]
  },
  {
   "cell_type": "code",
   "execution_count": null,
   "id": "5c8d2b38",
   "metadata": {},
   "outputs": [],
   "source": []
  }
 ],
 "metadata": {
  "kernelspec": {
   "display_name": "Python 3 (ipykernel)",
   "language": "python",
   "name": "python3"
  },
  "language_info": {
   "codemirror_mode": {
    "name": "ipython",
    "version": 3
   },
   "file_extension": ".py",
   "mimetype": "text/x-python",
   "name": "python",
   "nbconvert_exporter": "python",
   "pygments_lexer": "ipython3",
   "version": "3.9.12"
  }
 },
 "nbformat": 4,
 "nbformat_minor": 5
}
