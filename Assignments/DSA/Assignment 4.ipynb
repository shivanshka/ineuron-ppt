{
 "cells": [
  {
   "cell_type": "markdown",
   "id": "646030e4",
   "metadata": {},
   "source": [
    "## Assignment 4"
   ]
  },
  {
   "cell_type": "markdown",
   "id": "c9eb066f",
   "metadata": {},
   "source": [
    "Question 1  \n",
    "Given three integer arrays arr1, arr2 and arr3 sorted in strictly increasing order, return a sorted array of only the integers that appeared in all three arrays.  \n",
    "Example 1:  \n",
    "Input: arr1 = [1,2,3,4,5], arr2 = [1,2,5,7,9], arr3 = [1,3,4,5,8]  \n",
    "Output: [1,5]  \n",
    "Explanation: Only 1 and 5 appeared in the three arrays.  "
   ]
  },
  {
   "cell_type": "code",
   "execution_count": 1,
   "id": "a1ae519b",
   "metadata": {},
   "outputs": [],
   "source": [
    "from typing import List\n",
    "def arraysIntersection(arr1: List[int], arr2: List[int], arr3: List[int]) -> List[int]:\n",
    "    def find(arr, val):\n",
    "        left, right = 0, len(arr) - 1\n",
    "        while left < right:\n",
    "            mid = (left + right) >> 1\n",
    "            if arr[mid] >= val:\n",
    "                right = mid\n",
    "            else:\n",
    "                left = mid + 1\n",
    "        return arr[left] == val\n",
    "\n",
    "    res = []\n",
    "    for num in arr1:\n",
    "        if find(arr2, num) and find(arr3, num):\n",
    "            res.append(num)\n",
    "    return res"
   ]
  },
  {
   "cell_type": "code",
   "execution_count": 2,
   "id": "a3b3e845",
   "metadata": {},
   "outputs": [
    {
     "name": "stdout",
     "output_type": "stream",
     "text": [
      "Output =  [1, 5]\n"
     ]
    }
   ],
   "source": [
    "arr1 = [1,2,3,4,5]\n",
    "arr2 = [1,2,5,7,9]\n",
    "arr3 = [1,3,4,5,8]\n",
    "output = arraysIntersection(arr1, arr2, arr3)\n",
    "print(\"Output = \", output)"
   ]
  },
  {
   "cell_type": "markdown",
   "id": "83c84d46",
   "metadata": {},
   "source": [
    "Question 2  \n",
    "Given two 0-indexed integer arrays nums1 and nums2, return a list answer of size 2 where:  \n",
    "answer[0] is a list of all distinct integers in nums1 which are not present in nums2.  \n",
    "answer[1] is a list of all distinct integers in nums2 which are not present in nums1.  \n",
    "Note that the integers in the lists may be returned in any order.  \n",
    "Example 1:  \n",
    "Input: nums1 = [1,2,3], nums2 = [2,4,6]  \n",
    "Output: [[1,3],[4,6]]  \n",
    "Explanation:  \n",
    "For nums1, nums1[1] = 2 is present at index 0 of nums2, whereas nums1[0] = 1 and nums1[2] = 3 are not present in nums2. Therefore, answer[0] = [1,3].  \n",
    "For nums2, nums2[0] = 2 is present at index 1 of nums1, whereas nums2[1] = 4 and nums2[2] = 6 are not present in nums2. Therefore, answer[1] = [4,6].  "
   ]
  },
  {
   "cell_type": "code",
   "execution_count": 3,
   "id": "fed630b9",
   "metadata": {},
   "outputs": [],
   "source": [
    " def findDifference(nums1: List[int], nums2: List[int]) -> List[List[int]]:\n",
    "    n1=set(nums1)\n",
    "    n2=set(nums2)\n",
    "    r1=list(set(x for x in nums1 if x not in n2))\n",
    "    r2=list(set(x for x in nums2 if x not in n1))\n",
    "    return [r1,r2]"
   ]
  },
  {
   "cell_type": "code",
   "execution_count": 4,
   "id": "a2d45652",
   "metadata": {},
   "outputs": [
    {
     "name": "stdout",
     "output_type": "stream",
     "text": [
      "Output =  [[1, 3], [4, 6]]\n"
     ]
    }
   ],
   "source": [
    "nums1 = [1,2,3]\n",
    "nums2 = [2,4,6]\n",
    "output = findDifference(nums1, nums2)\n",
    "print(\"Output = \", output)"
   ]
  },
  {
   "cell_type": "markdown",
   "id": "6de5b1a1",
   "metadata": {},
   "source": [
    "Question 3  \n",
    "Given a 2D integer array matrix, return the transpose of matrix.  \n",
    "The transpose of a matrix is the matrix flipped over its main diagonal, switching the matrix's row and column indices.  \n",
    "Example 1:  \n",
    "Input: matrix = [[1,2,3],[4,5,6],[7,8,9]]  \n",
    "Output: [[1,4,7],[2,5,8],[3,6,9]]  "
   ]
  },
  {
   "cell_type": "code",
   "execution_count": 5,
   "id": "1069a5c5",
   "metadata": {},
   "outputs": [],
   "source": [
    "def transpose(matrix: List[List[int]]) -> List[List[int]]:\n",
    "    m,n=len(matrix),len(matrix[0])\n",
    "    ans = [[None] * m for _ in range(n)]\n",
    "    for i in range(m):\n",
    "        for j in range(n):\n",
    "            ans[j][i]=matrix[i][j]\n",
    "\n",
    "    return ans"
   ]
  },
  {
   "cell_type": "code",
   "execution_count": 6,
   "id": "19cec427",
   "metadata": {},
   "outputs": [
    {
     "name": "stdout",
     "output_type": "stream",
     "text": [
      "Output =  [[1, 4, 7], [2, 5, 8], [3, 6, 9]]\n"
     ]
    }
   ],
   "source": [
    "matrix = [[1,2,3],[4,5,6],[7,8,9]]\n",
    "output = transpose(matrix)\n",
    "print(\"Output = \", output)"
   ]
  },
  {
   "cell_type": "markdown",
   "id": "561dfa3c",
   "metadata": {},
   "source": [
    "Question 4  \n",
    "Given an integer array nums of 2n integers, group these integers into n pairs (a1, b1), (a2, b2), ..., (an, bn) such that the sum of min(ai, bi) for all i is maximized. Return the maximized sum.  \n",
    "Example 1:  \n",
    "Input: nums = [1,4,3,2]  \n",
    "Output: 4  \n",
    "Explanation: All possible pairings (ignoring the ordering of elements) are:  \n",
    "1. (1, 4), (2, 3) -> min(1, 4) + min(2, 3) = 1 + 2 = 3  \n",
    "2. (1, 3), (2, 4) -> min(1, 3) + min(2, 4) = 1 + 2 = 3  \n",
    "3. (1, 2), (3, 4) -> min(1, 2) + min(3, 4) = 1 + 3 = 4  \n",
    "So the maximum possible sum is 4.  "
   ]
  },
  {
   "cell_type": "code",
   "execution_count": 8,
   "id": "6ea914b1",
   "metadata": {},
   "outputs": [],
   "source": [
    "def arrayPairSum(nums: List[int]) -> int:\n",
    "    nums.sort()\n",
    "    res = 0\n",
    "    for i in range(0, len(nums), 2):\n",
    "        res += nums[i]\n",
    "    return res"
   ]
  },
  {
   "cell_type": "code",
   "execution_count": 9,
   "id": "dd2d3578",
   "metadata": {},
   "outputs": [
    {
     "name": "stdout",
     "output_type": "stream",
     "text": [
      "Output =  4\n"
     ]
    }
   ],
   "source": [
    "nums = [1,4,3,2]\n",
    "output = arrayPairSum(nums)\n",
    "print(\"Output = \", output)"
   ]
  },
  {
   "cell_type": "markdown",
   "id": "ba5645b6",
   "metadata": {},
   "source": [
    "Question 5  \n",
    "You have n coins and you want to build a staircase with these coins. The staircase consists of k rows where the ith row has exactly i coins. The last row of the staircase may be incomplete.  \n",
    "Given the integer n, return the number of complete rows of the staircase you will build.  \n",
    "Example 1:  \n",
    "Input: n = 5  \n",
    "Output: 2  \n",
    "Explanation: Because the 3rd row is incomplete, we return 2."
   ]
  },
  {
   "cell_type": "code",
   "execution_count": 13,
   "id": "4c200204",
   "metadata": {},
   "outputs": [],
   "source": [
    "import math\n",
    "def arrangeCoins( n: int) -> int:\n",
    "    return int(math.sqrt(2 * n + 0.25) - 0.50)"
   ]
  },
  {
   "cell_type": "code",
   "execution_count": 14,
   "id": "a193684d",
   "metadata": {},
   "outputs": [
    {
     "name": "stdout",
     "output_type": "stream",
     "text": [
      "Output =  2\n"
     ]
    }
   ],
   "source": [
    "n = 5\n",
    "output = arrangeCoins(n)\n",
    "print(\"Output = \", output)"
   ]
  },
  {
   "cell_type": "markdown",
   "id": "946d7cb3",
   "metadata": {},
   "source": [
    "Question 6  \n",
    "Given an integer array nums sorted in non-decreasing order, return an array of the squares of each number sorted in non-decreasing order.  \n",
    "Example 1:  \n",
    "Input: nums = [-4,-1,0,3,10]  \n",
    "Output: [0,1,9,16,100]  \n",
    "Explanation: After squaring, the array becomes [16,1,0,9,100].  \n",
    "After sorting, it becomes [0,1,9,16,100]  "
   ]
  },
  {
   "cell_type": "code",
   "execution_count": 15,
   "id": "48bdb010",
   "metadata": {},
   "outputs": [],
   "source": [
    "def sortedSquares(nums: List[int]) -> List[int]:\n",
    "    sq_nums = list(map(lambda n: n**2, nums))\n",
    "    sq_nums.sort()\n",
    "    return sq_nums"
   ]
  },
  {
   "cell_type": "code",
   "execution_count": 16,
   "id": "9134cefa",
   "metadata": {},
   "outputs": [
    {
     "name": "stdout",
     "output_type": "stream",
     "text": [
      "Output =  [0, 1, 9, 16, 100]\n"
     ]
    }
   ],
   "source": [
    "nums = [-4,-1,0,3,10]\n",
    "output = sortedSquares(nums)\n",
    "print(\"Output = \", output)"
   ]
  },
  {
   "cell_type": "markdown",
   "id": "a02ed80a",
   "metadata": {},
   "source": [
    "Question 7  \n",
    "You are given an m x n matrix M initialized with all 0's and an array of operations ops, where ops[i] = [ai, bi] means M[x][y] should be incremented by one for all 0 <= x < ai and 0 <= y < bi.  \n",
    "Count and return the number of maximum integers in the matrix after performing all the operations  \n",
    "Example 1:  \n",
    "Input: m = 3, n = 3, ops = [[2,2],[3,3]]  \n",
    "Output: 4  \n",
    "Explanation: The maximum integer in M is 2, and there are four of it in M.  \n",
    "So return 4.  "
   ]
  },
  {
   "cell_type": "code",
   "execution_count": 17,
   "id": "4b996a61",
   "metadata": {},
   "outputs": [],
   "source": [
    " def maxCount(m: int, n: int, ops: List[List[int]]) -> int:\n",
    "    min_row = m\n",
    "    min_col = n\n",
    "    for i in range(len(ops)):\n",
    "        min_row=min(min_row, ops[i][0])\n",
    "        min_col=min(min_col, ops[i][1])\n",
    "    return min_row*min_col"
   ]
  },
  {
   "cell_type": "code",
   "execution_count": 18,
   "id": "f90bef82",
   "metadata": {},
   "outputs": [
    {
     "name": "stdout",
     "output_type": "stream",
     "text": [
      "Output =  4\n"
     ]
    }
   ],
   "source": [
    "m = 3\n",
    "n = 3\n",
    "ops = [[2,2],[3,3]]\n",
    "output = maxCount(m, n, ops)\n",
    "print(\"Output = \", output)"
   ]
  },
  {
   "cell_type": "markdown",
   "id": "2d4292b8",
   "metadata": {},
   "source": [
    "Question 8  \n",
    "Given the array nums consisting of 2n elements in the form [x1,x2,...,xn,y1,y2,...,yn].  \n",
    "Return the array in the form [x1,y1,x2,y2,...,xn,yn].  \n",
    "Example 1:  \n",
    "Input: nums = [2,5,1,3,4,7], n = 3  \n",
    "Output: [2,3,5,4,1,7]  \n",
    "Explanation: Since x1=2, x2=5, x3=1, y1=3, y2=4, y3=7 then the answer is  [2,3,5,4,1,7]."
   ]
  },
  {
   "cell_type": "code",
   "execution_count": 19,
   "id": "7da2bc06",
   "metadata": {},
   "outputs": [],
   "source": [
    "def shuffle(nums: List[int], n: int) -> List[int]:\n",
    "    i=0\n",
    "    j=n\n",
    "    res=[]\n",
    "    #Store the values in another array...\n",
    "    while(i<n):\n",
    "        res.append(nums[i])\n",
    "        res.append(nums[j])\n",
    "        i+=1\n",
    "        j+=1\n",
    "    return res"
   ]
  },
  {
   "cell_type": "code",
   "execution_count": 20,
   "id": "b99866ea",
   "metadata": {},
   "outputs": [
    {
     "name": "stdout",
     "output_type": "stream",
     "text": [
      "Output =  [2, 3, 5, 4, 1, 7]\n"
     ]
    }
   ],
   "source": [
    "nums = [2,5,1,3,4,7]\n",
    "n = 3\n",
    "output = shuffle(nums, n)\n",
    "print(\"Output = \", output)"
   ]
  },
  {
   "cell_type": "code",
   "execution_count": null,
   "id": "b9edf571",
   "metadata": {},
   "outputs": [],
   "source": []
  }
 ],
 "metadata": {
  "kernelspec": {
   "display_name": "Python 3 (ipykernel)",
   "language": "python",
   "name": "python3"
  },
  "language_info": {
   "codemirror_mode": {
    "name": "ipython",
    "version": 3
   },
   "file_extension": ".py",
   "mimetype": "text/x-python",
   "name": "python",
   "nbconvert_exporter": "python",
   "pygments_lexer": "ipython3",
   "version": "3.9.12"
  }
 },
 "nbformat": 4,
 "nbformat_minor": 5
}
