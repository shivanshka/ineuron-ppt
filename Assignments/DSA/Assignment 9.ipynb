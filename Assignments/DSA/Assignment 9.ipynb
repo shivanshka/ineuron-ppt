{
 "cells": [
  {
   "cell_type": "markdown",
   "id": "b6c56d1f",
   "metadata": {},
   "source": [
    "## Assignment 9"
   ]
  },
  {
   "cell_type": "markdown",
   "id": "318c16be",
   "metadata": {},
   "source": [
    "#### Question 1"
   ]
  },
  {
   "cell_type": "code",
   "execution_count": 1,
   "id": "33aa1e0b",
   "metadata": {},
   "outputs": [],
   "source": [
    "def isPowerOfTwo(n):\n",
    "        if n == 0: return False\n",
    "        return n == 1 or (n % 2 == 0 and isPowerOfTwo(n // 2))"
   ]
  },
  {
   "cell_type": "code",
   "execution_count": 3,
   "id": "1bbacbac",
   "metadata": {},
   "outputs": [
    {
     "name": "stdout",
     "output_type": "stream",
     "text": [
      "Is power of 2 =  True\n"
     ]
    }
   ],
   "source": [
    "n = 1\n",
    "output= isPowerOfTwo(n)\n",
    "print(\"Is power of 2 = \",output)"
   ]
  },
  {
   "cell_type": "code",
   "execution_count": 4,
   "id": "4a666a9f",
   "metadata": {},
   "outputs": [
    {
     "name": "stdout",
     "output_type": "stream",
     "text": [
      "Is power of 2 =  True\n"
     ]
    }
   ],
   "source": [
    "n = 16\n",
    "output= isPowerOfTwo(n)\n",
    "print(\"Is power of 2 = \",output)"
   ]
  },
  {
   "cell_type": "code",
   "execution_count": 5,
   "id": "2856b968",
   "metadata": {},
   "outputs": [
    {
     "name": "stdout",
     "output_type": "stream",
     "text": [
      "Is power of 2 =  False\n"
     ]
    }
   ],
   "source": [
    "n = 3\n",
    "output= isPowerOfTwo(n)\n",
    "print(\"Is power of 2 = \",output)"
   ]
  },
  {
   "cell_type": "markdown",
   "id": "da059289",
   "metadata": {},
   "source": [
    "#### Question 2"
   ]
  },
  {
   "cell_type": "code",
   "execution_count": 12,
   "id": "628a5635",
   "metadata": {},
   "outputs": [],
   "source": [
    "def sum_nat_num(n):\n",
    "    summ = n*(n+1)/2\n",
    "    return summ\n",
    "\n",
    "# using recusion\n",
    "\n",
    "def sum_nat_num2(n, summ=0):\n",
    "    if n > 0:\n",
    "        return sum_nat_num2(n-1, summ+n)\n",
    "    return summ"
   ]
  },
  {
   "cell_type": "code",
   "execution_count": 13,
   "id": "39197d4f",
   "metadata": {},
   "outputs": [
    {
     "name": "stdout",
     "output_type": "stream",
     "text": [
      "Sum of first 3 natural numbers =  6\n"
     ]
    }
   ],
   "source": [
    "n = 3\n",
    "output= sum_nat_num2(n)\n",
    "print(f\"Sum of first {n} natural numbers = \",output)"
   ]
  },
  {
   "cell_type": "code",
   "execution_count": 14,
   "id": "468eb2e8",
   "metadata": {},
   "outputs": [
    {
     "name": "stdout",
     "output_type": "stream",
     "text": [
      "Sum of first 5 natural numbers =  15\n"
     ]
    }
   ],
   "source": [
    "n = 5\n",
    "output= sum_nat_num2(n)\n",
    "print(f\"Sum of first {n} natural numbers = \",output)"
   ]
  },
  {
   "cell_type": "markdown",
   "id": "23d49016",
   "metadata": {},
   "source": [
    "#### Question 3"
   ]
  },
  {
   "cell_type": "code",
   "execution_count": 17,
   "id": "46ffc665",
   "metadata": {},
   "outputs": [],
   "source": [
    "def factorial(n, fact=1):\n",
    "    if n >0:\n",
    "        return factorial(n-1, fact*n)\n",
    "    return fact"
   ]
  },
  {
   "cell_type": "code",
   "execution_count": 19,
   "id": "125c0ca7",
   "metadata": {},
   "outputs": [
    {
     "name": "stdout",
     "output_type": "stream",
     "text": [
      "Factorial of 5 =  120\n"
     ]
    }
   ],
   "source": [
    "n = 5\n",
    "output= factorial(n)\n",
    "print(f\"Factorial of {n} = \",output)"
   ]
  },
  {
   "cell_type": "code",
   "execution_count": 20,
   "id": "794e1ca2",
   "metadata": {},
   "outputs": [
    {
     "name": "stdout",
     "output_type": "stream",
     "text": [
      "Factorial of 4 =  24\n"
     ]
    }
   ],
   "source": [
    "n = 4\n",
    "output= factorial(n)\n",
    "print(f\"Factorial of {n} = \",output)"
   ]
  },
  {
   "cell_type": "markdown",
   "id": "0c11dd7a",
   "metadata": {},
   "source": [
    "#### Question 4"
   ]
  },
  {
   "cell_type": "code",
   "execution_count": 21,
   "id": "f37f073f",
   "metadata": {},
   "outputs": [],
   "source": [
    "def power_recr(n,p):\n",
    "    if p==0:\n",
    "        return 1\n",
    "    else:\n",
    "        return (n*power_recr(n,p-1))\n",
    "    "
   ]
  },
  {
   "cell_type": "code",
   "execution_count": 26,
   "id": "ef7dc282",
   "metadata": {},
   "outputs": [
    {
     "name": "stdout",
     "output_type": "stream",
     "text": [
      "5^2 =  25\n"
     ]
    }
   ],
   "source": [
    "N=5\n",
    "P=2\n",
    "output= power_recr(N,P)\n",
    "print(f\"{N}^{P} = \",output)"
   ]
  },
  {
   "cell_type": "code",
   "execution_count": 27,
   "id": "3d4d9cfd",
   "metadata": {},
   "outputs": [
    {
     "name": "stdout",
     "output_type": "stream",
     "text": [
      "2^5 =  32\n"
     ]
    }
   ],
   "source": [
    "N=2\n",
    "P=5\n",
    "output= power_recr(N,P)\n",
    "print(f\"{N}^{P} = \",output)"
   ]
  },
  {
   "cell_type": "markdown",
   "id": "26b15f7f",
   "metadata": {},
   "source": [
    "#### Question 5"
   ]
  },
  {
   "cell_type": "code",
   "execution_count": 28,
   "id": "7ff91f49",
   "metadata": {},
   "outputs": [],
   "source": [
    "def max_ele(A,n):\n",
    "    if (n == 1):\n",
    "        return A[0]\n",
    "    return max(A[n - 1], max_ele(A, n - 1))"
   ]
  },
  {
   "cell_type": "code",
   "execution_count": 31,
   "id": "2340876e",
   "metadata": {},
   "outputs": [
    {
     "name": "stdout",
     "output_type": "stream",
     "text": [
      "Maximum Element =  8\n"
     ]
    }
   ],
   "source": [
    "arr = [1, 4, 3, -5, -4, 8, 6]\n",
    "n =len(arr)\n",
    "output= max_ele(arr,n)\n",
    "print(\"Maximum Element = \",output)"
   ]
  },
  {
   "cell_type": "code",
   "execution_count": 32,
   "id": "2aa77bfb",
   "metadata": {},
   "outputs": [
    {
     "name": "stdout",
     "output_type": "stream",
     "text": [
      "Maximum Element =  45\n"
     ]
    }
   ],
   "source": [
    "arr = [1, 4, 45, 6, 10, -8]\n",
    "n =len(arr)\n",
    "output= max_ele(arr,n)\n",
    "print(\"Maximum Element = \",output)"
   ]
  },
  {
   "cell_type": "markdown",
   "id": "20fad07b",
   "metadata": {},
   "source": [
    "#### Question 6"
   ]
  },
  {
   "cell_type": "code",
   "execution_count": 33,
   "id": "526f7711",
   "metadata": {},
   "outputs": [],
   "source": [
    "def AP_nth_term(a,d,n):\n",
    "    return (a + (n - 1) * d)"
   ]
  },
  {
   "cell_type": "code",
   "execution_count": 35,
   "id": "4a8c8ed2",
   "metadata": {},
   "outputs": [
    {
     "name": "stdout",
     "output_type": "stream",
     "text": [
      "5th term of AP =  6\n"
     ]
    }
   ],
   "source": [
    "a = 2 \n",
    "d = 1 \n",
    "N = 5\n",
    "output= AP_nth_term(a,d,N)\n",
    "print(f\"{N}th term of AP = \",output)"
   ]
  },
  {
   "cell_type": "code",
   "execution_count": 36,
   "id": "5921bf42",
   "metadata": {},
   "outputs": [
    {
     "name": "stdout",
     "output_type": "stream",
     "text": [
      "10th term of AP =  23\n"
     ]
    }
   ],
   "source": [
    "a = 5\n",
    "d = 2 \n",
    "N = 10\n",
    "output= AP_nth_term(a,d,N)\n",
    "print(f\"{N}th term of AP = \",output)"
   ]
  },
  {
   "cell_type": "markdown",
   "id": "7ba17143",
   "metadata": {},
   "source": [
    "#### Question 7"
   ]
  },
  {
   "cell_type": "code",
   "execution_count": 38,
   "id": "34796d2e",
   "metadata": {},
   "outputs": [],
   "source": [
    "def permute(s, answer):\n",
    "    if (len(s) == 0):\n",
    "        print(answer, end=\"  \")\n",
    "        return\n",
    " \n",
    "    for i in range(len(s)):\n",
    "        ch = s[i]\n",
    "        left_substr = s[0:i]\n",
    "        right_substr = s[i + 1:]\n",
    "        rest = left_substr + right_substr\n",
    "        permute(rest, answer + ch)"
   ]
  },
  {
   "cell_type": "code",
   "execution_count": 39,
   "id": "4748941c",
   "metadata": {},
   "outputs": [
    {
     "name": "stdout",
     "output_type": "stream",
     "text": [
      "Permutations for ABC = \n",
      "ABC  ACB  BAC  BCA  CAB  CBA  "
     ]
    }
   ],
   "source": [
    "S= \"ABC\"\n",
    "answer =\"\"\n",
    "print(f\"Permutations for {S} = \")\n",
    "permute(S,answer)\n"
   ]
  },
  {
   "cell_type": "code",
   "execution_count": 40,
   "id": "cb47a674",
   "metadata": {},
   "outputs": [
    {
     "name": "stdout",
     "output_type": "stream",
     "text": [
      "Permutations for XY = \n",
      "XY  YX  "
     ]
    }
   ],
   "source": [
    "S= \"XY\"\n",
    "answer =\"\"\n",
    "print(f\"Permutations for {S} = \")\n",
    "permute(S,answer)\n"
   ]
  },
  {
   "cell_type": "markdown",
   "id": "3df61fa0",
   "metadata": {},
   "source": [
    "#### Question 8"
   ]
  },
  {
   "cell_type": "code",
   "execution_count": 41,
   "id": "9b8c3533",
   "metadata": {},
   "outputs": [],
   "source": [
    "def arr_ele_product(arr, i=0, product=1):\n",
    "    if i < len(arr):\n",
    "        return arr_ele_product(arr, i+1, product*arr[i])\n",
    "    return product"
   ]
  },
  {
   "cell_type": "code",
   "execution_count": 44,
   "id": "73638721",
   "metadata": {},
   "outputs": [
    {
     "name": "stdout",
     "output_type": "stream",
     "text": [
      "Product of elements =  120\n"
     ]
    }
   ],
   "source": [
    "arr = [1, 2, 3, 4, 5]\n",
    "output= arr_ele_product(arr)\n",
    "print(\"Product of elements = \",output)"
   ]
  },
  {
   "cell_type": "code",
   "execution_count": 45,
   "id": "02878e79",
   "metadata": {},
   "outputs": [
    {
     "name": "stdout",
     "output_type": "stream",
     "text": [
      "Product of elements =  18\n"
     ]
    }
   ],
   "source": [
    "arr = [1, 6,3]\n",
    "output= arr_ele_product(arr)\n",
    "print(\"Product of elements = \",output)"
   ]
  },
  {
   "cell_type": "code",
   "execution_count": null,
   "id": "bd755794",
   "metadata": {},
   "outputs": [],
   "source": []
  }
 ],
 "metadata": {
  "kernelspec": {
   "display_name": "Python 3 (ipykernel)",
   "language": "python",
   "name": "python3"
  },
  "language_info": {
   "codemirror_mode": {
    "name": "ipython",
    "version": 3
   },
   "file_extension": ".py",
   "mimetype": "text/x-python",
   "name": "python",
   "nbconvert_exporter": "python",
   "pygments_lexer": "ipython3",
   "version": "3.9.12"
  }
 },
 "nbformat": 4,
 "nbformat_minor": 5
}
