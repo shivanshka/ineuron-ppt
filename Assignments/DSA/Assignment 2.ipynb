{
 "cells": [
  {
   "cell_type": "markdown",
   "id": "8255ad29",
   "metadata": {},
   "source": [
    "## Assignment 2"
   ]
  },
  {
   "cell_type": "markdown",
   "id": "05d21fc2",
   "metadata": {},
   "source": [
    "Question 1  \n",
    "Given an integer array nums of 2n integers, group these integers into n\n",
    "pairs (a1, b1), (a2, b2),..., (an, bn) such that the sum of min(ai, bi) for all i is\n",
    "maximized. Return the maximized sum.  \n",
    "Example 1:  \n",
    "Input: nums = [1,4,3,2]  \n",
    "Output: 4  \n",
    "Explanation: All possible pairings (ignoring the ordering of elements) are:  \n",
    "(1, 4), (2, 3) -> min(1, 4) + min(2, 3) = 1 + 2 = 3  \n",
    "(1, 3), (2, 4) -> min(1, 3) + min(2, 4) = 1 + 2 = 3  \n",
    "(1, 2), (3, 4) -> min(1, 2) + min(3, 4) = 1 + 3 = 4  \n",
    "So the maximum possible sum is 4"
   ]
  },
  {
   "cell_type": "code",
   "execution_count": 4,
   "id": "bf48c355",
   "metadata": {},
   "outputs": [],
   "source": [
    "from typing import List\n",
    "def arrayPairSum(nums: List[int]) -> int:\n",
    "    nums.sort()\n",
    "    return sum(nums[::2])"
   ]
  },
  {
   "cell_type": "code",
   "execution_count": 6,
   "id": "b98123e1",
   "metadata": {},
   "outputs": [
    {
     "name": "stdout",
     "output_type": "stream",
     "text": [
      "Output =  4\n"
     ]
    }
   ],
   "source": [
    "nums = [1,4,3,2]\n",
    "output = arrayPairSum(nums)\n",
    "print(\"Output = \",output)"
   ]
  },
  {
   "cell_type": "markdown",
   "id": "332b0b79",
   "metadata": {},
   "source": [
    "Question 2  \n",
    "Alice has n candies, where the ith candy is of type candyType[i]. Alice noticed that she started to gain weight, so she visited a doctor.  \n",
    "The doctor advised Alice to only eat n / 2 of the candies she has (n is alwayseven). Alice likes her candies very much, and she wants to eat the maximumnumber of different types of candies while still following the doctor's advice.  \n",
    "Given the integer array candyType of length n, return the maximum number of different types of candies she can eat if she only eats n / 2 of them.  \n",
    "Example 1:  \n",
    "Input: candyType = [1,1,2,2,3,3]  \n",
    "Output: 3  \n",
    "Explanation: Alice can only eat 6 / 2 = 3 candies. Since there are only 3  \n",
    "types, she can eat one of each type.  "
   ]
  },
  {
   "cell_type": "code",
   "execution_count": 9,
   "id": "95f7b36c",
   "metadata": {},
   "outputs": [],
   "source": [
    "def Candies(candyType):\n",
    "    n = len(candyType) // 2 \n",
    "    LEN = len(set(candyType))\n",
    "    return min(n, LEN)"
   ]
  },
  {
   "cell_type": "code",
   "execution_count": 10,
   "id": "256ea8df",
   "metadata": {},
   "outputs": [
    {
     "name": "stdout",
     "output_type": "stream",
     "text": [
      "Output =  3\n"
     ]
    }
   ],
   "source": [
    "candyType = [1,1,2,2,3,3]\n",
    "output = Candies(candyType)\n",
    "print(\"Output = \",output)"
   ]
  },
  {
   "cell_type": "markdown",
   "id": "bde4144c",
   "metadata": {},
   "source": [
    "Question 3  \n",
    "We define a harmonious array as an array where the difference between its maximum value\n",
    "and its minimum value is exactly 1.  \n",
    "Given an integer array nums, return the length of its longest harmonious subsequence among all its possible subsequences. A subsequence of an array is a sequence that can be derived from the array by deleting some or no elements without changing the order of the remaining elements.  \n",
    "Example 1:  \n",
    "Input: nums = [1,3,2,2,5,2,3,7]  \n",
    "Output: 5  \n",
    "Explanation: The longest harmonious subsequence is [3,2,2,2,3].  "
   ]
  },
  {
   "cell_type": "code",
   "execution_count": 11,
   "id": "9950a2c6",
   "metadata": {},
   "outputs": [],
   "source": [
    "def harmonious(nums: List[int]) -> int:\n",
    "    d, a = {}, 0\n",
    "    for i in nums:\n",
    "        if i not in d: d[i] = 1\n",
    "        else: d[i] += 1\n",
    "    for i in d:\n",
    "        if i + 1 in d.keys():\n",
    "            a = max(a, d[i] + d[i+1])\n",
    "    return a"
   ]
  },
  {
   "cell_type": "code",
   "execution_count": 12,
   "id": "8b14f9f0",
   "metadata": {},
   "outputs": [
    {
     "name": "stdout",
     "output_type": "stream",
     "text": [
      "Output =  5\n"
     ]
    }
   ],
   "source": [
    "nums = [1,3,2,2,5,2,3,7] \n",
    "output = harmonious(nums)\n",
    "print(\"Output = \",output)"
   ]
  },
  {
   "cell_type": "markdown",
   "id": "e6fc4bdd",
   "metadata": {},
   "source": [
    "Question 4  \n",
    "You have a long flowerbed in which some of the plots are planted, and\n",
    "some are not.  \n",
    "However, flowers cannot be planted in adjacent plots.\n",
    "Given an integer array flowerbed containing 0's and 1's, where 0 means\n",
    "empty and 1 means not empty, and an integer n, return true if n new\n",
    "flowers can be planted in the flowerbed without violating the no-adjacentflowers\n",
    "rule and false otherwise.  \n",
    "Example 1:  \n",
    "Input: flowerbed = [1,0,0,0,1], n = 1  \n",
    "Output: true  "
   ]
  },
  {
   "cell_type": "code",
   "execution_count": 14,
   "id": "30878a87",
   "metadata": {},
   "outputs": [],
   "source": [
    " def flowers(flowerbed: List[int], n: int) -> bool:\n",
    "    if n == 0:\n",
    "        return True\n",
    "    for i in range(len(flowerbed)):\n",
    "        if flowerbed[i] == 0 and (i == 0 or flowerbed[i-1] == 0) and (i == len(flowerbed)-1 or flowerbed[i+1] == 0):\n",
    "            flowerbed[i] = 1\n",
    "            n -= 1\n",
    "            if n == 0:\n",
    "                return True\n",
    "    return False"
   ]
  },
  {
   "cell_type": "code",
   "execution_count": 15,
   "id": "07836187",
   "metadata": {},
   "outputs": [
    {
     "name": "stdout",
     "output_type": "stream",
     "text": [
      "Output =  True\n"
     ]
    }
   ],
   "source": [
    "flowerbed = [1,0,0,0,1]\n",
    "n = 1\n",
    "output = flowers(flowerbed ,n)\n",
    "print(\"Output = \",output)"
   ]
  },
  {
   "cell_type": "markdown",
   "id": "829bbbb7",
   "metadata": {},
   "source": [
    "Question 5  \n",
    "Given an integer array nums, find three numbers whose product is maximum and return the maximum product.  \n",
    "Example 1:  \n",
    "Input: nums = [1,2,3]  \n",
    "Output: 6"
   ]
  },
  {
   "cell_type": "code",
   "execution_count": 21,
   "id": "08a035a7",
   "metadata": {},
   "outputs": [],
   "source": [
    "def maximum(vec: List[int]) -> int:\n",
    "    if len(vec) == 3:\n",
    "        return vec[0] * vec[1] * vec[2]\n",
    "    max1 = max2 = max3 = -1000 \n",
    "    min1 = min2 = 1000\n",
    "    for i in vec:\n",
    "        if i > max1:\n",
    "            max3 = max2\n",
    "            max2 = max1\n",
    "            max1 = i\n",
    "        elif i > max2:\n",
    "            max3 = max2\n",
    "            max2 = i\n",
    "        elif i > max3:\n",
    "            max3 = i\n",
    "        if i < min1:\n",
    "            min2 = min1\n",
    "            min1 = i\n",
    "        elif i < min2:\n",
    "            min2 = i\n",
    "    return max(max1 * max2 * max3, min1 * min2 * max1)"
   ]
  },
  {
   "cell_type": "code",
   "execution_count": 22,
   "id": "17647ebf",
   "metadata": {},
   "outputs": [
    {
     "name": "stdout",
     "output_type": "stream",
     "text": [
      "Output =  6\n"
     ]
    }
   ],
   "source": [
    "nums = [1,2,3]\n",
    "output = maximum(nums)\n",
    "print(\"Output = \",output)"
   ]
  },
  {
   "cell_type": "markdown",
   "id": "1921416e",
   "metadata": {},
   "source": [
    "Question 6  \n",
    "Given an array of integers nums which is sorted in ascending order, and an integer target,write a function to search target in nums. If target exists, then return its index. Otherwise,return -1.  \n",
    "You must write an algorithm with O(log n) runtime complexity.  \n",
    "Input: nums = [-1,0,3,5,9,12], target = 9  \n",
    "Output: 4  \n",
    "Explanation: 9 exists in nums and its index is 4"
   ]
  },
  {
   "cell_type": "code",
   "execution_count": 23,
   "id": "b638ad13",
   "metadata": {},
   "outputs": [],
   "source": [
    "def search(nums, target):\n",
    "    \"\"\"\n",
    "    :type nums: List[int]\n",
    "    :type target: int\n",
    "    :rtype: int\n",
    "    \"\"\"\n",
    "    left = 0\n",
    "    right = len(nums) - 1\n",
    "\n",
    "    while left <= right:\n",
    "        mid = (left + right) // 2\n",
    "\n",
    "        if nums[mid] == target:\n",
    "            return mid\n",
    "        elif nums[mid] < target:\n",
    "            left = mid + 1\n",
    "        else:\n",
    "            right = mid - 1\n",
    "\n",
    "    return -1"
   ]
  },
  {
   "cell_type": "code",
   "execution_count": 25,
   "id": "e2a2de5e",
   "metadata": {},
   "outputs": [
    {
     "name": "stdout",
     "output_type": "stream",
     "text": [
      "Output =  4\n"
     ]
    }
   ],
   "source": [
    "nums = [-1,0,3,5,9,12]\n",
    "target = 9\n",
    "output = search(nums, target)\n",
    "print(\"Output = \",output)"
   ]
  },
  {
   "cell_type": "markdown",
   "id": "30d9d339",
   "metadata": {},
   "source": [
    "Question 7  \n",
    "An array is monotonic if it is either monotone increasing or monotone decreasing. An array nums is monotone increasing if for all i <= j, nums[i] <= nums[j]. An array nums is monotone decreasing if for all i <= j, nums[i] >= nums[j]. Given an integer array nums, return true if the given array is monotonic, or false otherwise.  \n",
    "Example 1:  \n",
    "Input: nums = [1,2,2,3]  \n",
    "Output: true"
   ]
  },
  {
   "cell_type": "code",
   "execution_count": 26,
   "id": "1f44696c",
   "metadata": {},
   "outputs": [],
   "source": [
    "def isMonotonic(nums: List[int]) -> bool:\n",
    "    a = sorted(nums)\n",
    "    b = sorted(nums,reverse=True)\n",
    "    if nums == a or nums == b:\n",
    "        return True\n",
    "    return False"
   ]
  },
  {
   "cell_type": "code",
   "execution_count": 27,
   "id": "6bbf4504",
   "metadata": {},
   "outputs": [
    {
     "name": "stdout",
     "output_type": "stream",
     "text": [
      "Output =  True\n"
     ]
    }
   ],
   "source": [
    "nums = [1,2,2,3]\n",
    "output = isMonotonic(nums)\n",
    "print(\"Output = \",output)"
   ]
  },
  {
   "cell_type": "markdown",
   "id": "b27bb6a8",
   "metadata": {},
   "source": [
    "Question 8  \n",
    "You are given an integer array nums and an integer k.\n",
    "In one operation, you can choose any index i where 0 <= i < nums.length\n",
    "and change nums[i] to nums[i] + x where x is an integer from the range [-k,\n",
    "k]. You can apply this operation at most once for each index i.\n",
    "The score of nums is the difference between the maximum and minimum\n",
    "elements in nums.  \n",
    "Return the minimum score of nums after applying the mentioned operation\n",
    "at most once for each index in it.  \n",
    "Example 1:  \n",
    "Input: nums = [1], k = 0  \n",
    "Output: 0  \n",
    "Explanation: The score is max(nums) - min(nums) = 1 - 1 = 0.  "
   ]
  },
  {
   "cell_type": "code",
   "execution_count": 31,
   "id": "1f049087",
   "metadata": {},
   "outputs": [],
   "source": [
    "def smallestRange(nums: List[int], k: int) -> int:\n",
    "    x=max(nums)\n",
    "    y=min(nums)\n",
    "    return max(0,(x-k)-(y+k))"
   ]
  },
  {
   "cell_type": "code",
   "execution_count": 32,
   "id": "edc87942",
   "metadata": {},
   "outputs": [
    {
     "name": "stdout",
     "output_type": "stream",
     "text": [
      "Output =  0\n"
     ]
    }
   ],
   "source": [
    "nums = [1]\n",
    "k = 0\n",
    "output = smallestRange(nums, k)\n",
    "print(\"Output = \",output)"
   ]
  },
  {
   "cell_type": "code",
   "execution_count": null,
   "id": "2a43eedf",
   "metadata": {},
   "outputs": [],
   "source": []
  }
 ],
 "metadata": {
  "kernelspec": {
   "display_name": "Python 3 (ipykernel)",
   "language": "python",
   "name": "python3"
  },
  "language_info": {
   "codemirror_mode": {
    "name": "ipython",
    "version": 3
   },
   "file_extension": ".py",
   "mimetype": "text/x-python",
   "name": "python",
   "nbconvert_exporter": "python",
   "pygments_lexer": "ipython3",
   "version": "3.9.12"
  }
 },
 "nbformat": 4,
 "nbformat_minor": 5
}
