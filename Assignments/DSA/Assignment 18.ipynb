{
 "cells": [
  {
   "cell_type": "markdown",
   "id": "b6c56d1f",
   "metadata": {},
   "source": [
    "## Assignment 18"
   ]
  },
  {
   "cell_type": "markdown",
   "id": "318c16be",
   "metadata": {},
   "source": [
    "#### Question 1"
   ]
  },
  {
   "cell_type": "code",
   "execution_count": 1,
   "id": "82716021",
   "metadata": {},
   "outputs": [],
   "source": [
    "from typing import List\n",
    "def merge(intervals: List[List[int]]) -> List[List[int]]:\n",
    "    if len(intervals)==1:\n",
    "        return intervals\n",
    "    intervals = sorted(intervals)\n",
    "\n",
    "    res = []\n",
    "    for i in range(1,len(intervals)):\n",
    "\n",
    "        if res and intervals[i][0] <= res[-1][1]:\n",
    "            if res[-1][1] >= intervals[i][1]:\n",
    "                continue\n",
    "            else:\n",
    "                res.append([res.pop()[0],intervals[i][1]])\n",
    "\n",
    "        elif intervals[i-1][1] >= intervals[i][0]:\n",
    "            res.append([intervals[i-1][0],max(intervals[i][1],intervals[i-1][1])])\n",
    "\n",
    "        else:\n",
    "            res.append(intervals[i])\n",
    "\n",
    "    if intervals[0][1] < intervals[1][0]: # if first to intervals never overlapped\n",
    "        res = [intervals[0]]+res[:]\n",
    "\n",
    "    return res"
   ]
  },
  {
   "cell_type": "code",
   "execution_count": 2,
   "id": "5a5052d7",
   "metadata": {},
   "outputs": [
    {
     "name": "stdout",
     "output_type": "stream",
     "text": [
      "Output :  [[1, 6], [8, 10], [15, 18]]\n"
     ]
    }
   ],
   "source": [
    "intervals = [[1,3],[2,6],[8,10],[15,18]]\n",
    "output = merge(intervals)\n",
    "print(\"Output : \",output)"
   ]
  },
  {
   "cell_type": "code",
   "execution_count": 3,
   "id": "bc441e1d",
   "metadata": {},
   "outputs": [
    {
     "name": "stdout",
     "output_type": "stream",
     "text": [
      "Output :  [[1, 5]]\n"
     ]
    }
   ],
   "source": [
    "intervals = [[1,4],[4,5]]\n",
    "output = merge(intervals)\n",
    "print(\"Output : \",output)"
   ]
  },
  {
   "cell_type": "markdown",
   "id": "da059289",
   "metadata": {},
   "source": [
    "#### Question 2"
   ]
  },
  {
   "cell_type": "code",
   "execution_count": 6,
   "id": "a3baa988",
   "metadata": {},
   "outputs": [],
   "source": [
    "def sortColors(nums: List[int]) -> None:\n",
    "    left = count = 0\n",
    "    right = len(nums)-1\n",
    "    while count <= right:\n",
    "        if nums[count] == 2:\n",
    "            nums[count], nums[right] = nums[right], nums[count]\n",
    "            right -= 1\n",
    "        elif nums[count] == 0:\n",
    "            nums[count], nums[left] = nums[left], nums[count]\n",
    "            left += 1\n",
    "            count += 1\n",
    "        else:\n",
    "            count += 1\n",
    "    return nums"
   ]
  },
  {
   "cell_type": "code",
   "execution_count": 7,
   "id": "15f2d20f",
   "metadata": {},
   "outputs": [
    {
     "name": "stdout",
     "output_type": "stream",
     "text": [
      "Sorted :  [0, 0, 1, 1, 2, 2]\n"
     ]
    }
   ],
   "source": [
    "nums = [2,0,2,1,1,0]\n",
    "output = sortColors(nums)\n",
    "print(\"Sorted : \",output)"
   ]
  },
  {
   "cell_type": "markdown",
   "id": "23d49016",
   "metadata": {},
   "source": [
    "#### Question 3"
   ]
  },
  {
   "cell_type": "code",
   "execution_count": 8,
   "id": "f46df2c8",
   "metadata": {},
   "outputs": [],
   "source": [
    "def firstBadVersion(self, n: int) -> int:\n",
    "    if n == 1 and isBadVersion(n):\n",
    "        return 1\n",
    "\n",
    "    low = 2 \n",
    "    high = n \n",
    "\n",
    "    while low <= high :\n",
    "        mid = ( low + high ) //2 \n",
    "\n",
    "        if isBadVersion(mid) is False :\n",
    "            low = mid + 1 \n",
    "        else : \n",
    "            if  isBadVersion(mid-1) is False :  \n",
    "                return mid\n",
    "            else :\n",
    "                high = mid -  1\n",
    "\n",
    "    return high "
   ]
  },
  {
   "cell_type": "code",
   "execution_count": null,
   "id": "32715e15",
   "metadata": {},
   "outputs": [],
   "source": []
  },
  {
   "cell_type": "markdown",
   "id": "0c11dd7a",
   "metadata": {},
   "source": [
    "#### Question 4"
   ]
  },
  {
   "cell_type": "code",
   "execution_count": 10,
   "id": "90da0ff7",
   "metadata": {},
   "outputs": [],
   "source": [
    "def maximumGap(nums: List[int]) -> int:\n",
    "    if len(nums) < 2:\n",
    "        return 0\n",
    "\n",
    "    min_val = min(nums)\n",
    "    max_val = max(nums)\n",
    "\n",
    "    bucket_size = max(1, (max_val - min_val) // (len(nums) - 1))\n",
    "    num_buckets = (max_val - min_val) // bucket_size + 1\n",
    "\n",
    "    buckets = [None] * num_buckets\n",
    "\n",
    "    for num in nums:\n",
    "        bucket_index = (num - min_val) // bucket_size\n",
    "        if not buckets[bucket_index]:\n",
    "            buckets[bucket_index] = {'min': num, 'max': num}\n",
    "        else:\n",
    "            buckets[bucket_index]['min'] = min(buckets[bucket_index]['min'], num)\n",
    "            buckets[bucket_index]['max'] = max(buckets[bucket_index]['max'], num)\n",
    "\n",
    "    max_gap = 0\n",
    "    prev_max = min_val\n",
    "    for bucket in buckets:\n",
    "        if bucket:\n",
    "            max_gap = max(max_gap, bucket['min'] - prev_max)\n",
    "            prev_max = bucket['max']\n",
    "\n",
    "    return max_gap"
   ]
  },
  {
   "cell_type": "code",
   "execution_count": 11,
   "id": "f22c18d5",
   "metadata": {},
   "outputs": [
    {
     "name": "stdout",
     "output_type": "stream",
     "text": [
      "Maximum Difference =  3\n"
     ]
    }
   ],
   "source": [
    "nums = [3,6,9,1]\n",
    "output = maximumGap(nums)\n",
    "print(\"Maximum Difference = \",output)"
   ]
  },
  {
   "cell_type": "markdown",
   "id": "26b15f7f",
   "metadata": {},
   "source": [
    "#### Question 5"
   ]
  },
  {
   "cell_type": "code",
   "execution_count": 15,
   "id": "5b723c8f",
   "metadata": {},
   "outputs": [],
   "source": [
    "def containsDuplicate(nums: List[int]) -> bool:\n",
    "    seen = set()\n",
    "    for num in nums:\n",
    "        if num in seen:\n",
    "            return True\n",
    "        seen.add(num)\n",
    "    return False"
   ]
  },
  {
   "cell_type": "code",
   "execution_count": 16,
   "id": "ae54d354",
   "metadata": {},
   "outputs": [
    {
     "name": "stdout",
     "output_type": "stream",
     "text": [
      "Is every element distinct :  True\n"
     ]
    }
   ],
   "source": [
    "nums = [1,2,3,1]\n",
    "output = containsDuplicate(nums)\n",
    "print(\"Is every element distinct : \",output)"
   ]
  },
  {
   "cell_type": "code",
   "execution_count": 18,
   "id": "0be18746",
   "metadata": {},
   "outputs": [
    {
     "name": "stdout",
     "output_type": "stream",
     "text": [
      "Is every element distinct :  False\n"
     ]
    }
   ],
   "source": [
    "nums = [1,2,3,4]\n",
    "output = containsDuplicate(nums)\n",
    "print(\"Is every element distinct : \",output)"
   ]
  },
  {
   "cell_type": "markdown",
   "id": "20fad07b",
   "metadata": {},
   "source": [
    "#### Question 6"
   ]
  },
  {
   "cell_type": "code",
   "execution_count": 19,
   "id": "99f42907",
   "metadata": {},
   "outputs": [],
   "source": [
    "def findMinArrowShots(points: List[List[int]]) -> int:\n",
    "    points.sort()\n",
    "    x=points[0][0]\n",
    "    y=points[0][1]\n",
    "    ans=1\n",
    "    for i in range(1,len(points)):\n",
    "        x=points[i][0]\n",
    "        if y<points[i][0]:\n",
    "            ans+=1\n",
    "            y=points[i][1]\n",
    "        else:\n",
    "            y=min(y,points[i][1])\n",
    "    return ans"
   ]
  },
  {
   "cell_type": "code",
   "execution_count": 20,
   "id": "c89cf90c",
   "metadata": {},
   "outputs": [
    {
     "name": "stdout",
     "output_type": "stream",
     "text": [
      "Minimum number of arrows required :  2\n"
     ]
    }
   ],
   "source": [
    "points = [[10,16],[2,8],[1,6],[7,12]]\n",
    "output = findMinArrowShots(points)\n",
    "print(\"Minimum number of arrows required : \",output)"
   ]
  },
  {
   "cell_type": "code",
   "execution_count": 21,
   "id": "1abac0d6",
   "metadata": {},
   "outputs": [
    {
     "name": "stdout",
     "output_type": "stream",
     "text": [
      "Minimum number of arrows required :  4\n"
     ]
    }
   ],
   "source": [
    "points = [[1,2],[3,4],[5,6],[7,8]]\n",
    "output = findMinArrowShots(points)\n",
    "print(\"Minimum number of arrows required : \",output)"
   ]
  },
  {
   "cell_type": "markdown",
   "id": "7ba17143",
   "metadata": {},
   "source": [
    "#### Question 7"
   ]
  },
  {
   "cell_type": "code",
   "execution_count": 36,
   "id": "ff22843c",
   "metadata": {},
   "outputs": [],
   "source": [
    "import bisect\n",
    "def lengthOfLIS(nums: List[int]) -> int:\n",
    "    #Binary Search\n",
    "    n=len(nums)\n",
    "    temp=[]\n",
    "    cnt=0\n",
    "    for i in range(n):\n",
    "        if i==0 or nums[i]>temp[-1]:\n",
    "            temp.append(nums[i])\n",
    "            cnt+=1\n",
    "        else:\n",
    "            x=bisect.bisect_left(temp,nums[i])\n",
    "            temp[x]=nums[i]\n",
    "\n",
    "    return cnt"
   ]
  },
  {
   "cell_type": "code",
   "execution_count": 37,
   "id": "8eeb1bc7",
   "metadata": {},
   "outputs": [
    {
     "name": "stdout",
     "output_type": "stream",
     "text": [
      "Length :  4\n"
     ]
    }
   ],
   "source": [
    "nums = [10,9,2,5,3,7,101,18]\n",
    "output = lengthOfLIS(points)\n",
    "print(\"Length : \",output)"
   ]
  },
  {
   "cell_type": "code",
   "execution_count": 38,
   "id": "08b4ce0b",
   "metadata": {},
   "outputs": [
    {
     "name": "stdout",
     "output_type": "stream",
     "text": [
      "Length :  4\n"
     ]
    }
   ],
   "source": [
    "nums = [7,7,7,7,7,7,7]\n",
    "output = lengthOfLIS(points)\n",
    "print(\"Length : \",output)"
   ]
  },
  {
   "cell_type": "markdown",
   "id": "3df61fa0",
   "metadata": {},
   "source": [
    "#### Question 8"
   ]
  },
  {
   "cell_type": "code",
   "execution_count": 47,
   "id": "c8bdeee6",
   "metadata": {},
   "outputs": [],
   "source": [
    "import math\n",
    "def find132pattern(nums: List[int]) -> bool:\n",
    "        if len(nums)<3:\n",
    "            return False\n",
    "      \n",
    "        second_num = -math.inf\n",
    "        stck = []\n",
    "        \n",
    "        for i in range(len(nums) - 1, -1, -1):\n",
    "            if nums[i] < second_num:\n",
    "                return True\n",
    "           \n",
    "            while stck and stck[-1] < nums[i]:\n",
    "                second_num = stck.pop()\n",
    "\n",
    "            stck.append(nums[i])\n",
    "        return False"
   ]
  },
  {
   "cell_type": "code",
   "execution_count": 48,
   "id": "73638721",
   "metadata": {},
   "outputs": [
    {
     "name": "stdout",
     "output_type": "stream",
     "text": [
      "is there 132 pattern :  False\n"
     ]
    }
   ],
   "source": [
    "nums = [1,2,3,4]\n",
    "output = find132pattern(nums)\n",
    "print(\"is there 132 pattern : \",output)"
   ]
  },
  {
   "cell_type": "code",
   "execution_count": 49,
   "id": "f0592201",
   "metadata": {},
   "outputs": [
    {
     "name": "stdout",
     "output_type": "stream",
     "text": [
      "is there 132 pattern :  True\n"
     ]
    }
   ],
   "source": [
    "nums = [3,1,4,2]\n",
    "output = find132pattern(nums)\n",
    "print(\"is there 132 pattern : \",output)"
   ]
  },
  {
   "cell_type": "code",
   "execution_count": null,
   "id": "bf3a0376",
   "metadata": {},
   "outputs": [],
   "source": []
  }
 ],
 "metadata": {
  "kernelspec": {
   "display_name": "Python 3 (ipykernel)",
   "language": "python",
   "name": "python3"
  },
  "language_info": {
   "codemirror_mode": {
    "name": "ipython",
    "version": 3
   },
   "file_extension": ".py",
   "mimetype": "text/x-python",
   "name": "python",
   "nbconvert_exporter": "python",
   "pygments_lexer": "ipython3",
   "version": "3.9.12"
  }
 },
 "nbformat": 4,
 "nbformat_minor": 5
}
