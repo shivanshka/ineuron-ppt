{
 "cells": [
  {
   "cell_type": "markdown",
   "id": "b6c56d1f",
   "metadata": {},
   "source": [
    "## Assignment 11"
   ]
  },
  {
   "cell_type": "markdown",
   "id": "318c16be",
   "metadata": {},
   "source": [
    "#### Question 1"
   ]
  },
  {
   "cell_type": "code",
   "execution_count": 1,
   "id": "4035329b",
   "metadata": {},
   "outputs": [],
   "source": [
    "def mySqrt(x: int) -> int:\n",
    "    if x == 0:\n",
    "        return 0\n",
    "    first, last = 1, x\n",
    "    while first <= last:\n",
    "        mid = first + (last - first) // 2\n",
    "        if mid == x // mid:\n",
    "            return mid\n",
    "        elif mid > x // mid:\n",
    "            last = mid - 1\n",
    "        else:\n",
    "            first = mid + 1\n",
    "    return last"
   ]
  },
  {
   "cell_type": "code",
   "execution_count": 9,
   "id": "5ac6ea8b",
   "metadata": {},
   "outputs": [
    {
     "name": "stdout",
     "output_type": "stream",
     "text": [
      "Square root of {x} =  2\n"
     ]
    }
   ],
   "source": [
    "x=4\n",
    "output= mySqrt(x)\n",
    "print(\"Square root of {x} = \", output)"
   ]
  },
  {
   "cell_type": "code",
   "execution_count": 8,
   "id": "840f2f5d",
   "metadata": {},
   "outputs": [
    {
     "name": "stdout",
     "output_type": "stream",
     "text": [
      "Square root of 9 =  3\n"
     ]
    }
   ],
   "source": [
    "x=9\n",
    "output= mySqrt(x)\n",
    "print(f\"Square root of {x} = \", output)"
   ]
  },
  {
   "cell_type": "markdown",
   "id": "da059289",
   "metadata": {},
   "source": [
    "#### Question 2"
   ]
  },
  {
   "cell_type": "code",
   "execution_count": 5,
   "id": "067b50cc",
   "metadata": {},
   "outputs": [],
   "source": [
    "from typing import List\n",
    "def findPeakElement(nums: List[int]) -> int:\n",
    "    n = len(nums)\n",
    "    l, r = 0, n - 1\n",
    "    while l < r:\n",
    "        mid = (l + r) >> 1\n",
    "        if nums[mid] < nums[mid + 1]:\n",
    "            l =  mid + 1\n",
    "        else:\n",
    "            r = mid \n",
    "    return l"
   ]
  },
  {
   "cell_type": "code",
   "execution_count": 7,
   "id": "3763b776",
   "metadata": {},
   "outputs": [
    {
     "name": "stdout",
     "output_type": "stream",
     "text": [
      "Index of peak element =  2\n"
     ]
    }
   ],
   "source": [
    "nums = [1,2,3,1]\n",
    "output= findPeakElement(nums)\n",
    "print(\"Index of peak element = \", output)"
   ]
  },
  {
   "cell_type": "markdown",
   "id": "23d49016",
   "metadata": {},
   "source": [
    "#### Question 3"
   ]
  },
  {
   "cell_type": "code",
   "execution_count": 10,
   "id": "1bff1b3c",
   "metadata": {},
   "outputs": [],
   "source": [
    "def missingNumber(nums: List[int]) -> int:\n",
    "    nums = nums + list(range(0,len(nums)+1))\n",
    "    ans = 0\n",
    "    for i in nums:\n",
    "        ans ^= i\n",
    "    return ans\n"
   ]
  },
  {
   "cell_type": "code",
   "execution_count": 12,
   "id": "93566ddc",
   "metadata": {},
   "outputs": [
    {
     "name": "stdout",
     "output_type": "stream",
     "text": [
      "Missing Number =  2\n"
     ]
    }
   ],
   "source": [
    "nums = [3,0,1]\n",
    "output= missingNumber(nums)\n",
    "print(\"Missing Number = \", output)"
   ]
  },
  {
   "cell_type": "code",
   "execution_count": 13,
   "id": "f8c28f8c",
   "metadata": {},
   "outputs": [
    {
     "name": "stdout",
     "output_type": "stream",
     "text": [
      "Missing Number =  8\n"
     ]
    }
   ],
   "source": [
    "nums = [9,6,4,2,3,5,7,0,1]\n",
    "output= missingNumber(nums)\n",
    "print(\"Missing Number = \", output)"
   ]
  },
  {
   "cell_type": "markdown",
   "id": "0c11dd7a",
   "metadata": {},
   "source": [
    "#### Question 4"
   ]
  },
  {
   "cell_type": "code",
   "execution_count": 14,
   "id": "ad2b6000",
   "metadata": {},
   "outputs": [],
   "source": [
    "def findDuplicate(nums: List[int]) -> int:\n",
    "    nums.sort()\n",
    "    left = 0\n",
    "    right =  len(nums) - 1\n",
    "    while left < right:\n",
    "        mid = (left + right) // 2\n",
    "        if nums[mid] < (mid + 1):\n",
    "            right = mid\n",
    "        else:\n",
    "            left = mid + 1\n",
    "    return nums[left]"
   ]
  },
  {
   "cell_type": "code",
   "execution_count": 15,
   "id": "8f5ea76f",
   "metadata": {},
   "outputs": [
    {
     "name": "stdout",
     "output_type": "stream",
     "text": [
      "Duplicate Element =  2\n"
     ]
    }
   ],
   "source": [
    "nums = [1,3,4,2,2]\n",
    "output= findDuplicate(nums)\n",
    "print(\"Duplicate Element = \", output)"
   ]
  },
  {
   "cell_type": "code",
   "execution_count": 16,
   "id": "96d6172b",
   "metadata": {},
   "outputs": [
    {
     "name": "stdout",
     "output_type": "stream",
     "text": [
      "Duplicate Element =  3\n"
     ]
    }
   ],
   "source": [
    "nums = [3,1,3,4,2]\n",
    "output= findDuplicate(nums)\n",
    "print(\"Duplicate Element = \", output)"
   ]
  },
  {
   "cell_type": "markdown",
   "id": "26b15f7f",
   "metadata": {},
   "source": [
    "#### Question 5"
   ]
  },
  {
   "cell_type": "code",
   "execution_count": 19,
   "id": "fd36f8ce",
   "metadata": {},
   "outputs": [],
   "source": [
    "def binarySearch(numOne, numTwo):\n",
    "    numTwo.sort()\n",
    "    result = []\n",
    "    seen = set()\n",
    "    for num in numOne:\n",
    "        if binarySearchHelper(numTwo, num) and num not in seen:\n",
    "            result.append(num)\n",
    "            seen.add(num)\n",
    "        seen.add(num)\n",
    "\n",
    "    return result\n",
    "    \n",
    "def binarySearchHelper(numOne, num):\n",
    "    left, right = 0, len(numOne) - 1\n",
    "    while left <= right:\n",
    "        mid = (left + right) // 2 \n",
    "\n",
    "        if numOne[mid] == num:\n",
    "            return True\n",
    "\n",
    "        elif numOne[mid] < num:\n",
    "            left = mid + 1\n",
    "        else:\n",
    "            right = mid - 1 \n",
    "\n",
    "    return False"
   ]
  },
  {
   "cell_type": "code",
   "execution_count": 21,
   "id": "42819728",
   "metadata": {},
   "outputs": [
    {
     "name": "stdout",
     "output_type": "stream",
     "text": [
      "Intersection =  [2]\n"
     ]
    }
   ],
   "source": [
    "nums1 = [1,2,2,1]\n",
    "nums2 = [2,2]\n",
    "output= binarySearch(nums1, nums2)\n",
    "print(\"Intersection = \", output)"
   ]
  },
  {
   "cell_type": "code",
   "execution_count": 22,
   "id": "9feb0e7e",
   "metadata": {},
   "outputs": [
    {
     "name": "stdout",
     "output_type": "stream",
     "text": [
      "Intersection =  [4, 9]\n"
     ]
    }
   ],
   "source": [
    "nums1 = [4,9,5]\n",
    "nums2 = [9,4,9,8,4]\n",
    "output= binarySearch(nums1, nums2)\n",
    "print(\"Intersection = \", output)"
   ]
  },
  {
   "cell_type": "markdown",
   "id": "20fad07b",
   "metadata": {},
   "source": [
    "#### Question 6"
   ]
  },
  {
   "cell_type": "code",
   "execution_count": 23,
   "id": "4cdf7d74",
   "metadata": {},
   "outputs": [],
   "source": [
    "def findMin(nums: List[int]) -> int:\n",
    "    low=0\n",
    "    high=len(nums)-1\n",
    "    res=nums[0]\n",
    "    while low<=high:\n",
    "        if nums[low]<nums[high]:\n",
    "            res=min(res,nums[low])\n",
    "            break\n",
    "        mid=(low+high)//2\n",
    "        res=min(res,nums[mid])\n",
    "        if nums[mid]>=nums[low]:\n",
    "            low=mid+1\n",
    "        else:\n",
    "            high=mid-1\n",
    "    return res"
   ]
  },
  {
   "cell_type": "code",
   "execution_count": 26,
   "id": "303d682b",
   "metadata": {},
   "outputs": [
    {
     "name": "stdout",
     "output_type": "stream",
     "text": [
      "Minimum =  1\n"
     ]
    }
   ],
   "source": [
    "nums = [3,4,5,1,2]\n",
    "output= findMin(nums)\n",
    "print(\"Minimum = \", output)"
   ]
  },
  {
   "cell_type": "code",
   "execution_count": 27,
   "id": "7714b090",
   "metadata": {},
   "outputs": [
    {
     "name": "stdout",
     "output_type": "stream",
     "text": [
      "Minimum =  0\n"
     ]
    }
   ],
   "source": [
    "nums = [4,5,6,7,0,1,2]\n",
    "output= findMin(nums)\n",
    "print(\"Minimum = \", output)"
   ]
  },
  {
   "cell_type": "markdown",
   "id": "7ba17143",
   "metadata": {},
   "source": [
    "#### Question 7"
   ]
  },
  {
   "cell_type": "code",
   "execution_count": 29,
   "id": "84ecb754",
   "metadata": {},
   "outputs": [],
   "source": [
    "def searchRange(nums: List[int], target: int) -> List[int]:# i = 0\n",
    "    start = -1\n",
    "    end = -1\n",
    "    l, r = 0, len(nums) - 1\n",
    "\n",
    "    while (l <= r):\n",
    "        mid = l + (r - l) // 2\n",
    "        if (nums[mid] < target):\n",
    "            l = mid + 1\n",
    "        elif (nums[mid] > target):\n",
    "            r = mid - 1\n",
    "        else:\n",
    "            r1 = mid + 1\n",
    "            l1 = mid - 1\n",
    "            if (l1 >= l and r1 <= r and nums[r1] == target and nums[l1] != target):\n",
    "                start = l\n",
    "                l = mid\n",
    "            elif (l1 >= l and r1 <= r and  nums[l1] == target and nums[r1] != target):\n",
    "                end = r\n",
    "                r = mid\n",
    "            else:\n",
    "                if (nums[l] == nums[r] == target):\n",
    "                    return [l, r]\n",
    "                elif (nums[l] != target):\n",
    "                    l += 1\n",
    "                elif (nums[r] != target):\n",
    "                    r -= 1\n",
    "    return [start, end]"
   ]
  },
  {
   "cell_type": "code",
   "execution_count": 30,
   "id": "86f81679",
   "metadata": {},
   "outputs": [
    {
     "name": "stdout",
     "output_type": "stream",
     "text": [
      "Output =  [3, 4]\n"
     ]
    }
   ],
   "source": [
    "nums = [5,7,7,8,8,10]\n",
    "target = 8\n",
    "output= searchRange(nums, target)\n",
    "print(\"Output = \", output)"
   ]
  },
  {
   "cell_type": "code",
   "execution_count": 31,
   "id": "29744b5f",
   "metadata": {},
   "outputs": [
    {
     "name": "stdout",
     "output_type": "stream",
     "text": [
      "Output =  [-1, -1]\n"
     ]
    }
   ],
   "source": [
    "nums = [5,7,7,8,8,10]\n",
    "target = 6\n",
    "output= searchRange(nums, target)\n",
    "print(\"Output = \", output)"
   ]
  },
  {
   "cell_type": "markdown",
   "id": "3df61fa0",
   "metadata": {},
   "source": [
    "#### Question 8"
   ]
  },
  {
   "cell_type": "code",
   "execution_count": 34,
   "id": "55645898",
   "metadata": {},
   "outputs": [],
   "source": [
    "def intersect(nums1: List[int], nums2: List[int]) -> List[int]:\n",
    "    res = []\n",
    "    for e in nums1:\n",
    "        ans, pos = search(e, nums2)\n",
    "        if ans:\n",
    "            del nums2[pos]#will make BS more quick\n",
    "            res.append(e)\n",
    "    return res\n",
    "\n",
    "def search(value, a):\n",
    "    a.sort()\n",
    "    l , r = 0 , len(a)-1\n",
    "    while l<=r:\n",
    "        m = l+(r-l)//2\n",
    "        if a[m]==value:\n",
    "            return True, m\n",
    "        elif a[m]<value:\n",
    "            l=m+1\n",
    "        else:\n",
    "            r=m-1\n",
    "    return None, -1"
   ]
  },
  {
   "cell_type": "code",
   "execution_count": 35,
   "id": "73638721",
   "metadata": {},
   "outputs": [
    {
     "name": "stdout",
     "output_type": "stream",
     "text": [
      "Intersection =  [2, 2]\n"
     ]
    }
   ],
   "source": [
    "nums1 = [1,2,2,1]\n",
    "nums2 = [2,2]\n",
    "output= intersect(nums1, nums2)\n",
    "print(\"Intersection = \", output)"
   ]
  },
  {
   "cell_type": "code",
   "execution_count": 36,
   "id": "7cb7ba3f",
   "metadata": {},
   "outputs": [
    {
     "name": "stdout",
     "output_type": "stream",
     "text": [
      "Intersection =  [4, 9]\n"
     ]
    }
   ],
   "source": [
    "nums1 = [4,9,5]\n",
    "nums2 = [9,4,9,8,4]\n",
    "output= intersect(nums1, nums2)\n",
    "print(\"Intersection = \", output)"
   ]
  },
  {
   "cell_type": "code",
   "execution_count": null,
   "id": "1371e4dd",
   "metadata": {},
   "outputs": [],
   "source": []
  }
 ],
 "metadata": {
  "kernelspec": {
   "display_name": "Python 3 (ipykernel)",
   "language": "python",
   "name": "python3"
  },
  "language_info": {
   "codemirror_mode": {
    "name": "ipython",
    "version": 3
   },
   "file_extension": ".py",
   "mimetype": "text/x-python",
   "name": "python",
   "nbconvert_exporter": "python",
   "pygments_lexer": "ipython3",
   "version": "3.9.12"
  }
 },
 "nbformat": 4,
 "nbformat_minor": 5
}
