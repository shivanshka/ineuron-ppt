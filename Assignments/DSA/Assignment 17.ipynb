{
 "cells": [
  {
   "cell_type": "markdown",
   "id": "b6c56d1f",
   "metadata": {},
   "source": [
    "## Assignment 17"
   ]
  },
  {
   "cell_type": "markdown",
   "id": "318c16be",
   "metadata": {},
   "source": [
    "#### Question 1"
   ]
  },
  {
   "cell_type": "code",
   "execution_count": 1,
   "id": "8f239746",
   "metadata": {},
   "outputs": [],
   "source": [
    "def first_non_repeating(str1:str):\n",
    "    for i in range(len(str1)):\n",
    "        if list(str1).count(str1[i]) == 1:\n",
    "            return i\n",
    "    return -1"
   ]
  },
  {
   "cell_type": "code",
   "execution_count": 2,
   "id": "8eb38ec1",
   "metadata": {},
   "outputs": [
    {
     "name": "stdout",
     "output_type": "stream",
     "text": [
      "Index of first non repeating char =  0\n"
     ]
    }
   ],
   "source": [
    "s = \"leetcode\"\n",
    "output = first_non_repeating(s)\n",
    "print(\"Index of first non repeating char = \",output)"
   ]
  },
  {
   "cell_type": "code",
   "execution_count": 3,
   "id": "050a8bfa",
   "metadata": {},
   "outputs": [
    {
     "name": "stdout",
     "output_type": "stream",
     "text": [
      "Index of first non repeating char =  2\n"
     ]
    }
   ],
   "source": [
    "s = \"loveleetcode\"\n",
    "output = first_non_repeating(s)\n",
    "print(\"Index of first non repeating char = \",output)"
   ]
  },
  {
   "cell_type": "markdown",
   "id": "da059289",
   "metadata": {},
   "source": [
    "#### Question 2"
   ]
  },
  {
   "cell_type": "code",
   "execution_count": 8,
   "id": "fc444bae",
   "metadata": {},
   "outputs": [],
   "source": [
    "from typing import List\n",
    "def maxSubarraySumCircular(nums: List[int]) -> int:\n",
    "    cur_max = 0\n",
    "    cur_min = 0\n",
    "    _sum = 0\n",
    "    max_sum = nums[0]\n",
    "    min_sum = nums[0]\n",
    "    for num in nums:\n",
    "        cur_max = max(cur_max, 0) + num\n",
    "        max_sum = max(max_sum, cur_max)\n",
    "        cur_min = min(cur_min, 0) + num\n",
    "        min_sum = min(min_sum, cur_min)\n",
    "        _sum += num\n",
    "    return max_sum if _sum == min_sum else max(max_sum, _sum - min_sum)"
   ]
  },
  {
   "cell_type": "code",
   "execution_count": 9,
   "id": "e5b021ff",
   "metadata": {},
   "outputs": [
    {
     "name": "stdout",
     "output_type": "stream",
     "text": [
      "Output =  3\n"
     ]
    }
   ],
   "source": [
    "nums = [1,-2,3,-2]\n",
    "output = maxSubarraySumCircular(nums)\n",
    "print(\"Output = \", output)"
   ]
  },
  {
   "cell_type": "code",
   "execution_count": 10,
   "id": "bb204f7b",
   "metadata": {},
   "outputs": [
    {
     "name": "stdout",
     "output_type": "stream",
     "text": [
      "Output =  10\n"
     ]
    }
   ],
   "source": [
    "nums = [5,-3,5]\n",
    "output = maxSubarraySumCircular(nums)\n",
    "print(\"Output = \", output)"
   ]
  },
  {
   "cell_type": "markdown",
   "id": "23d49016",
   "metadata": {},
   "source": [
    "#### Question 3"
   ]
  },
  {
   "cell_type": "code",
   "execution_count": 15,
   "id": "b85fde24",
   "metadata": {},
   "outputs": [],
   "source": [
    "from collections import deque\n",
    "def countStudents(students: List[int], sandwiches: List[int]) -> int:\n",
    "    students = deque(students) \n",
    "    sandwhiches = deque(sandwiches) \n",
    "    count = 0 \n",
    "    while count < len(students):   \n",
    "        if students[0] == sandwhiches[0]:  \n",
    "            sandwhiches.popleft() \n",
    "            count = 0 \n",
    "        else:\n",
    "            students.append(students[0]) \n",
    "            count += 1 \n",
    "        students.popleft() \n",
    "    return len(students) "
   ]
  },
  {
   "cell_type": "code",
   "execution_count": 16,
   "id": "931989b7",
   "metadata": {},
   "outputs": [
    {
     "name": "stdout",
     "output_type": "stream",
     "text": [
      "Output =  0\n"
     ]
    }
   ],
   "source": [
    "students = [1,1,0,0]\n",
    "sandwiches = [0,1,0,1]\n",
    "output = countStudents(students, sandwiches)\n",
    "print(\"Output = \", output)"
   ]
  },
  {
   "cell_type": "code",
   "execution_count": 17,
   "id": "79efefb0",
   "metadata": {},
   "outputs": [
    {
     "name": "stdout",
     "output_type": "stream",
     "text": [
      "Output =  3\n"
     ]
    }
   ],
   "source": [
    "students = [1,1,1,0,0,1]\n",
    "sandwiches = [1,0,0,0,1,1]\n",
    "output = countStudents(students, sandwiches)\n",
    "print(\"Output = \", output)"
   ]
  },
  {
   "cell_type": "markdown",
   "id": "0c11dd7a",
   "metadata": {},
   "source": [
    "#### Question 4"
   ]
  },
  {
   "cell_type": "code",
   "execution_count": 18,
   "id": "7387f583",
   "metadata": {},
   "outputs": [],
   "source": [
    "from collections import deque\n",
    "class RecentCounter:\n",
    "    def __init__(self):\n",
    "        self.queue = deque()\n",
    "\n",
    "    def ping(self, t: int) -> int:\n",
    "        while self.queue and t - self.queue[0] > 3000:\n",
    "            self.queue.popleft()\n",
    "        self.queue.append(t)\n",
    "        \n",
    "        return len(self.queue)"
   ]
  },
  {
   "cell_type": "code",
   "execution_count": null,
   "id": "5e7531de",
   "metadata": {},
   "outputs": [],
   "source": []
  },
  {
   "cell_type": "markdown",
   "id": "26b15f7f",
   "metadata": {},
   "source": [
    "#### Question 5"
   ]
  },
  {
   "cell_type": "code",
   "execution_count": 19,
   "id": "0c4716e5",
   "metadata": {},
   "outputs": [],
   "source": [
    "from collections import deque\n",
    "def findTheWinner(n: int, k: int) -> int:\n",
    "    q = deque([i for i in range(1, n + 1)])\n",
    "\n",
    "    while len(q) > 1:\n",
    "        for i in range(k - 1):\n",
    "            val = q.popleft()\n",
    "            q.append(val)\n",
    "\n",
    "        q.popleft()\n",
    "\n",
    "    return q.popleft()"
   ]
  },
  {
   "cell_type": "code",
   "execution_count": 22,
   "id": "94d58735",
   "metadata": {},
   "outputs": [
    {
     "name": "stdout",
     "output_type": "stream",
     "text": [
      "Winner =  3\n"
     ]
    }
   ],
   "source": [
    "n = 5\n",
    "k = 2\n",
    "output = findTheWinner(n,k)\n",
    "print(\"Winner = \",output)"
   ]
  },
  {
   "cell_type": "code",
   "execution_count": 23,
   "id": "7cd89598",
   "metadata": {},
   "outputs": [
    {
     "name": "stdout",
     "output_type": "stream",
     "text": [
      "Winner =  1\n"
     ]
    }
   ],
   "source": [
    "n = 6\n",
    "k = 5\n",
    "output = findTheWinner(n,k)\n",
    "print(\"Winner = \",output)"
   ]
  },
  {
   "cell_type": "markdown",
   "id": "20fad07b",
   "metadata": {},
   "source": [
    "#### Question 6"
   ]
  },
  {
   "cell_type": "code",
   "execution_count": 25,
   "id": "60bf918f",
   "metadata": {},
   "outputs": [],
   "source": [
    "from collections import deque\n",
    "def deckRevealedIncreasing(deck: List[int]) -> List[int]:\n",
    "    d=deque(sorted(deck))\n",
    "    res = deque()\n",
    "    l = len(d)\n",
    "    while l != len(res):\n",
    "        t = d.pop()\n",
    "        if len(res)>0:\n",
    "            r = res.pop()\n",
    "            res.appendleft(r)\n",
    "        res.appendleft(t)\n",
    "    return res"
   ]
  },
  {
   "cell_type": "code",
   "execution_count": 26,
   "id": "b31c354a",
   "metadata": {},
   "outputs": [
    {
     "name": "stdout",
     "output_type": "stream",
     "text": [
      "Ordering of deck =  deque([2, 13, 3, 11, 5, 17, 7])\n"
     ]
    }
   ],
   "source": [
    "deck = [17,13,11,2,3,5,7]\n",
    "output = deckRevealedIncreasing(deck)\n",
    "print(\"Ordering of deck = \",output)"
   ]
  },
  {
   "cell_type": "code",
   "execution_count": 27,
   "id": "6c23c418",
   "metadata": {},
   "outputs": [
    {
     "name": "stdout",
     "output_type": "stream",
     "text": [
      "Ordering of deck =  deque([1, 1000])\n"
     ]
    }
   ],
   "source": [
    "deck = [1,1000]\n",
    "output = deckRevealedIncreasing(deck)\n",
    "print(\"Ordering of deck = \",output)"
   ]
  },
  {
   "cell_type": "markdown",
   "id": "7ba17143",
   "metadata": {},
   "source": [
    "#### Question 7"
   ]
  },
  {
   "cell_type": "code",
   "execution_count": 28,
   "id": "fec37e9f",
   "metadata": {},
   "outputs": [],
   "source": [
    "class FrontMiddleBackQueue:\n",
    "    def __init__(self):\n",
    "        self.queue=[]\n",
    "        \n",
    "    def pushFront(self, val: int) -> None:\n",
    "        self.queue.insert(0,val)\n",
    "        \n",
    "    def pushMiddle(self, val: int) -> None:\n",
    "        n=len(self.queue)\n",
    "        self.queue.insert(n//2,val)\n",
    "        \n",
    "    def pushBack(self, val: int) -> None:\n",
    "        self.queue.append(val)\n",
    "\n",
    "    def popFront(self) -> int:\n",
    "        if len(self.queue)==0:\n",
    "            return -1    \n",
    "        return self.queue.pop(0)\n",
    "        \n",
    "    def popMiddle(self) -> int:\n",
    "        if len(self.queue)==0:\n",
    "            return -1\n",
    "        n=len(self.queue)\n",
    "        if n%2==0:\n",
    "            n=(n//2)-1\n",
    "        else:\n",
    "            n=int(n//2)\n",
    "        return self.queue.pop(n)\n",
    "        \n",
    "    def popBack(self) -> int:\n",
    "        if len(self.queue)==0:\n",
    "            return -1 \n",
    "        return self.queue.pop()\n",
    "        "
   ]
  },
  {
   "cell_type": "code",
   "execution_count": 32,
   "id": "76b34aca",
   "metadata": {},
   "outputs": [
    {
     "name": "stdout",
     "output_type": "stream",
     "text": [
      "2 1 3 4 -1\n"
     ]
    }
   ],
   "source": [
    "obj = FrontMiddleBackQueue()\n",
    "obj.pushFront(1)\n",
    "obj.pushMiddle(2)\n",
    "obj.pushMiddle(3)\n",
    "obj.pushBack(4)\n",
    "param_4 = obj.popFront()\n",
    "param_5 = obj.popMiddle()\n",
    "param_6 = obj.popMiddle()\n",
    "param_7 = obj.popBack()\n",
    "param_8 = obj.popFront()\n",
    "print(param_4,param_5,param_6,param_7,param_8)"
   ]
  },
  {
   "cell_type": "markdown",
   "id": "3df61fa0",
   "metadata": {},
   "source": [
    "#### Question 8"
   ]
  },
  {
   "cell_type": "code",
   "execution_count": 33,
   "id": "4570c5bc",
   "metadata": {},
   "outputs": [],
   "source": [
    "from collections import deque\n",
    "class DataStream:\n",
    "    def __init__(self, value: int, k: int):\n",
    "        self.value = value\n",
    "        self.k = k\n",
    "        self.deque = deque()\n",
    "        self.count = 0\n",
    "\n",
    "    def consec(self, num: int) -> bool:\n",
    "        if len(self.deque) == self.k:\n",
    "            if self.deque[0] == self.value:\n",
    "                self.count -= 1\n",
    "            self.deque.popleft()\n",
    "        self.deque.append(num)\n",
    "        if num == self.value:\n",
    "            self.count += 1\n",
    "        return self.count == self.k"
   ]
  },
  {
   "cell_type": "code",
   "execution_count": null,
   "id": "73638721",
   "metadata": {},
   "outputs": [],
   "source": []
  }
 ],
 "metadata": {
  "kernelspec": {
   "display_name": "Python 3 (ipykernel)",
   "language": "python",
   "name": "python3"
  },
  "language_info": {
   "codemirror_mode": {
    "name": "ipython",
    "version": 3
   },
   "file_extension": ".py",
   "mimetype": "text/x-python",
   "name": "python",
   "nbconvert_exporter": "python",
   "pygments_lexer": "ipython3",
   "version": "3.9.12"
  }
 },
 "nbformat": 4,
 "nbformat_minor": 5
}
