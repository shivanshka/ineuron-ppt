{
 "cells": [
  {
   "cell_type": "markdown",
   "id": "b6c56d1f",
   "metadata": {},
   "source": [
    "## Assignment 10"
   ]
  },
  {
   "cell_type": "markdown",
   "id": "318c16be",
   "metadata": {},
   "source": [
    "#### Question 1"
   ]
  },
  {
   "cell_type": "code",
   "execution_count": 1,
   "id": "afd46b91",
   "metadata": {},
   "outputs": [],
   "source": [
    "def isPowerOf3(n):\n",
    "    if n==0:\n",
    "        return False\n",
    "    elif n==1:\n",
    "        return True\n",
    "    else:\n",
    "        return n%3==0 and isPowerOf3(n/3)"
   ]
  },
  {
   "cell_type": "code",
   "execution_count": 2,
   "id": "4a58fe4e",
   "metadata": {},
   "outputs": [
    {
     "name": "stdout",
     "output_type": "stream",
     "text": [
      "Is 27 Power of 3 =  True\n"
     ]
    }
   ],
   "source": [
    "n=27\n",
    "output = isPowerOf3(n)\n",
    "print(f\"Is {n} Power of 3 = \",output)"
   ]
  },
  {
   "cell_type": "code",
   "execution_count": 3,
   "id": "3bc1a948",
   "metadata": {},
   "outputs": [
    {
     "name": "stdout",
     "output_type": "stream",
     "text": [
      "Is -1 Power of 3 =  False\n"
     ]
    }
   ],
   "source": [
    "n=-1\n",
    "output = isPowerOf3(n)\n",
    "print(f\"Is {n} Power of 3 = \",output)"
   ]
  },
  {
   "cell_type": "markdown",
   "id": "da059289",
   "metadata": {},
   "source": [
    "#### Question 2"
   ]
  },
  {
   "cell_type": "code",
   "execution_count": 5,
   "id": "d45791ad",
   "metadata": {},
   "outputs": [],
   "source": [
    "def lastRemaining(n: int) -> int:\n",
    "    if(n == 1):\n",
    "        return 1\n",
    "    return 2 * ((n // 2 - lastRemaining(n // 2)) + 1)"
   ]
  },
  {
   "cell_type": "code",
   "execution_count": 6,
   "id": "258b0d2a",
   "metadata": {},
   "outputs": [
    {
     "name": "stdout",
     "output_type": "stream",
     "text": [
      "Output =   6\n"
     ]
    }
   ],
   "source": [
    "n=9\n",
    "output = lastRemaining(n)\n",
    "print(\"Output =  \",output)"
   ]
  },
  {
   "cell_type": "markdown",
   "id": "23d49016",
   "metadata": {},
   "source": [
    "#### Question 3"
   ]
  },
  {
   "cell_type": "code",
   "execution_count": 20,
   "id": "2f4327c9",
   "metadata": {},
   "outputs": [],
   "source": [
    "def find_subsets(str1:str):\n",
    "    def SubSet(str1, index, curr):\n",
    "        n = len(str1)\n",
    "        if (index == n):\n",
    "            return\n",
    "        subsets.add(curr)\n",
    "        for i in range(index + 1, n):\n",
    "            curr += str1[i]\n",
    "            SubSet(str1, i, curr)\n",
    "            curr = curr.replace(curr[len(curr) - 1], \"\")\n",
    "        return\n",
    "    \n",
    "    subsets=set()\n",
    "    SubSet(str1, -1, \"\")\n",
    "    return sorted(subsets)"
   ]
  },
  {
   "cell_type": "code",
   "execution_count": 21,
   "id": "bfe7e073",
   "metadata": {},
   "outputs": [
    {
     "name": "stdout",
     "output_type": "stream",
     "text": [
      "Subsets =  ['', 'a', 'ab', 'abc', 'ac', 'b', 'bc', 'c']\n"
     ]
    }
   ],
   "source": [
    "set1 = \"abc\"\n",
    "output = find_subsets(set1)\n",
    "print(\"Subsets = \",output)"
   ]
  },
  {
   "cell_type": "code",
   "execution_count": 22,
   "id": "2a1dc9f1",
   "metadata": {},
   "outputs": [
    {
     "name": "stdout",
     "output_type": "stream",
     "text": [
      "Subsets =  ['', 'a', 'ab', 'abc', 'abcd', 'abd', 'ac', 'acd', 'ad', 'b', 'bc', 'bcd', 'bd', 'c', 'cd', 'd']\n"
     ]
    }
   ],
   "source": [
    "set1 = \"abcd\"\n",
    "output = find_subsets(set1)\n",
    "print(\"Subsets = \",output)"
   ]
  },
  {
   "cell_type": "markdown",
   "id": "0c11dd7a",
   "metadata": {},
   "source": [
    "#### Question 4"
   ]
  },
  {
   "cell_type": "code",
   "execution_count": 23,
   "id": "f40e867a",
   "metadata": {},
   "outputs": [],
   "source": [
    "def string_len(str1:str):\n",
    "    if str1=='':\n",
    "        return 0\n",
    "    else:\n",
    "        return 1+string_len(str1[1:])\n",
    "    "
   ]
  },
  {
   "cell_type": "code",
   "execution_count": 24,
   "id": "635066bf",
   "metadata": {},
   "outputs": [
    {
     "name": "stdout",
     "output_type": "stream",
     "text": [
      "Length of String =   4\n"
     ]
    }
   ],
   "source": [
    "str1=\"abcd\"\n",
    "output = string_len(str1)\n",
    "print(\"Length of String =  \",output)"
   ]
  },
  {
   "cell_type": "code",
   "execution_count": 25,
   "id": "2b2b3bfc",
   "metadata": {},
   "outputs": [
    {
     "name": "stdout",
     "output_type": "stream",
     "text": [
      "Length of String =   13\n"
     ]
    }
   ],
   "source": [
    "str1=\"GEEKSFORGEEKS\"\n",
    "output = string_len(str1)\n",
    "print(\"Length of String =  \",output)"
   ]
  },
  {
   "cell_type": "markdown",
   "id": "26b15f7f",
   "metadata": {},
   "source": [
    "#### Question 5"
   ]
  },
  {
   "cell_type": "code",
   "execution_count": 26,
   "id": "79bf3ddc",
   "metadata": {},
   "outputs": [],
   "source": [
    "def countSubstrs(str, i, j, n):\n",
    "    # base cases\n",
    "    if (n == 1):\n",
    "        return 1\n",
    "    if (n <= 0):\n",
    "        return 0\n",
    " \n",
    "    res = (countSubstrs(str, i + 1, j, n - 1) + countSubstrs(str, i, j - 1, n - 1)\n",
    "        - countSubstrs(str, i + 1, j - 1, n - 2))    \n",
    " \n",
    "    if (str[i] == str[j]):\n",
    "        res += 1\n",
    " \n",
    "    return res"
   ]
  },
  {
   "cell_type": "code",
   "execution_count": 28,
   "id": "da59398a",
   "metadata": {},
   "outputs": [
    {
     "name": "stdout",
     "output_type": "stream",
     "text": [
      "Output =  7\n"
     ]
    }
   ],
   "source": [
    "str = \"abcab\"\n",
    "n = len(str)\n",
    "print(\"Output = \",countSubstrs(str, 0, n - 1, n))"
   ]
  },
  {
   "cell_type": "markdown",
   "id": "20fad07b",
   "metadata": {},
   "source": [
    "#### Question 6"
   ]
  },
  {
   "cell_type": "code",
   "execution_count": 61,
   "id": "f471abbe",
   "metadata": {},
   "outputs": [],
   "source": [
    "def TowerOfHanoi(n, from_rod, to_rod, aux_rod):\n",
    "    if n == 0:\n",
    "        return\n",
    "    TowerOfHanoi(n-1, from_rod, aux_rod, to_rod)\n",
    "    print(\"Move disk\", n, \"from rod\", from_rod, \"to rod\", to_rod)\n",
    "    TowerOfHanoi(n-1, aux_rod, to_rod, from_rod)\n",
    "  "
   ]
  },
  {
   "cell_type": "code",
   "execution_count": 64,
   "id": "ed6d9fc4",
   "metadata": {},
   "outputs": [
    {
     "name": "stdout",
     "output_type": "stream",
     "text": [
      "Move disk 1 from rod 1 to rod 3\n",
      "Move disk 2 from rod 1 to rod 2\n",
      "Move disk 1 from rod 3 to rod 2\n"
     ]
    }
   ],
   "source": [
    "N = 2\n",
    "TowerOfHanoi(N, '1', '2', '3')"
   ]
  },
  {
   "cell_type": "code",
   "execution_count": 65,
   "id": "4401aa26",
   "metadata": {},
   "outputs": [
    {
     "name": "stdout",
     "output_type": "stream",
     "text": [
      "Move disk 1 from rod 1 to rod 2\n",
      "Move disk 2 from rod 1 to rod 3\n",
      "Move disk 1 from rod 2 to rod 3\n",
      "Move disk 3 from rod 1 to rod 2\n",
      "Move disk 1 from rod 3 to rod 1\n",
      "Move disk 2 from rod 3 to rod 2\n",
      "Move disk 1 from rod 1 to rod 2\n"
     ]
    }
   ],
   "source": [
    "N = 3\n",
    "TowerOfHanoi(N, '1', '2', '3')"
   ]
  },
  {
   "cell_type": "markdown",
   "id": "7ba17143",
   "metadata": {},
   "source": [
    "#### Question 7"
   ]
  },
  {
   "cell_type": "code",
   "execution_count": 31,
   "id": "0cb3ac4b",
   "metadata": {},
   "outputs": [],
   "source": [
    "def toString(List):\n",
    "    return ''.join(List)\n",
    "\n",
    "def permute(a, l, r):\n",
    "    if l == r:\n",
    "        print(toString(a), end=' ')\n",
    "    else:\n",
    "        for i in range(l, r):\n",
    "            a[l], a[i] = a[i], a[l]\n",
    "            permute(a, l+1, r)\n",
    "            a[l], a[i] = a[i], a[l]"
   ]
  },
  {
   "cell_type": "code",
   "execution_count": 32,
   "id": "3d7b82c5",
   "metadata": {},
   "outputs": [
    {
     "name": "stdout",
     "output_type": "stream",
     "text": [
      "cd dc "
     ]
    }
   ],
   "source": [
    "string = \"cd\"\n",
    "n = len(string)\n",
    "a = list(string)\n",
    "permute(a, 0, n)"
   ]
  },
  {
   "cell_type": "code",
   "execution_count": 33,
   "id": "55cfb92d",
   "metadata": {},
   "outputs": [
    {
     "name": "stdout",
     "output_type": "stream",
     "text": [
      "abb abb bab bba bba bab "
     ]
    }
   ],
   "source": [
    "string = \"abb\"\n",
    "n = len(string)\n",
    "a = list(string)\n",
    "permute(a, 0, n)"
   ]
  },
  {
   "cell_type": "markdown",
   "id": "3df61fa0",
   "metadata": {},
   "source": [
    "#### Question 8"
   ]
  },
  {
   "cell_type": "code",
   "execution_count": 57,
   "id": "0eda48e1",
   "metadata": {},
   "outputs": [],
   "source": [
    "def count_consonant(str1:str, count=0):\n",
    "    if str1=='':\n",
    "        return count\n",
    "    \n",
    "    vowels = list(\"AEIOU\")\n",
    "    ch = str1[0].upper()\n",
    "    \n",
    "    if ch not in vowels and ord(ch) >=65:\n",
    "        return count_consonant(str1[1:], count+1)\n",
    "    else:\n",
    "        return count_consonant(str1[1:], count)"
   ]
  },
  {
   "cell_type": "code",
   "execution_count": 58,
   "id": "78632752",
   "metadata": {},
   "outputs": [
    {
     "name": "stdout",
     "output_type": "stream",
     "text": [
      "No of consonant =   3\n"
     ]
    }
   ],
   "source": [
    "str1 = \"abc de\"\n",
    "output = count_consonant(str1)\n",
    "print(\"No of consonant =  \",output)"
   ]
  },
  {
   "cell_type": "code",
   "execution_count": 60,
   "id": "73638721",
   "metadata": {},
   "outputs": [
    {
     "name": "stdout",
     "output_type": "stream",
     "text": [
      "No of consonant =   12\n"
     ]
    }
   ],
   "source": [
    "str1 = \"geeksforgeeks portal\"\n",
    "output = count_consonant(str1)\n",
    "print(\"No of consonant =  \",output)"
   ]
  },
  {
   "cell_type": "code",
   "execution_count": null,
   "id": "e9e109d8",
   "metadata": {},
   "outputs": [],
   "source": []
  }
 ],
 "metadata": {
  "kernelspec": {
   "display_name": "Python 3 (ipykernel)",
   "language": "python",
   "name": "python3"
  },
  "language_info": {
   "codemirror_mode": {
    "name": "ipython",
    "version": 3
   },
   "file_extension": ".py",
   "mimetype": "text/x-python",
   "name": "python",
   "nbconvert_exporter": "python",
   "pygments_lexer": "ipython3",
   "version": "3.9.12"
  }
 },
 "nbformat": 4,
 "nbformat_minor": 5
}
