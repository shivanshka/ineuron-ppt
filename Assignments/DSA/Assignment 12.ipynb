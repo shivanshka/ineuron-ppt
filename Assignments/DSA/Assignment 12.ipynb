{
 "cells": [
  {
   "cell_type": "markdown",
   "id": "b6c56d1f",
   "metadata": {},
   "source": [
    "## Assignment 12"
   ]
  },
  {
   "cell_type": "markdown",
   "id": "318c16be",
   "metadata": {},
   "source": [
    "#### Question 1"
   ]
  },
  {
   "cell_type": "code",
   "execution_count": 1,
   "id": "85d074a5",
   "metadata": {},
   "outputs": [],
   "source": [
    "class Node:\n",
    "    def __init__(self):\n",
    "        self.data = 0\n",
    "        self.next = None\n",
    "        \n",
    "# Count of nodes\n",
    "def countOfNodes(head):\n",
    "  \n",
    "    count = 0\n",
    "      \n",
    "    while (head != None):\n",
    "        head = head.next\n",
    "        count += 1\n",
    "      \n",
    "    return count\n",
    "  \n",
    "# Deletes middle node and returns\n",
    "# head of the modified list\n",
    "def deleteMid(head):\n",
    "  \n",
    "    # Base cases\n",
    "    if (head == None):\n",
    "        return None\n",
    "    if (head.next == None):\n",
    "        del head\n",
    "        return None\n",
    "  \n",
    "    copyHead = head\n",
    "   \n",
    "    # Find the count of nodes\n",
    "    count = countOfNodes(head)\n",
    "   \n",
    "    # Find the middle node\n",
    "    mid = count // 2\n",
    "   \n",
    "    # Delete the middle node\n",
    "    while (mid > 1):\n",
    "        mid -= 1\n",
    "        head = head.next\n",
    "   \n",
    "    # Delete the middle node\n",
    "    head.next = head.next.next\n",
    "    return copyHead\n",
    "  \n",
    "def printList(ptr):\n",
    "    while (ptr != None):\n",
    "        print(ptr.data, end = '->')\n",
    "        ptr = ptr.next\n",
    "    print('NULL')\n",
    "      \n",
    "\n",
    "def newNode(data):\n",
    "    temp = Node()\n",
    "    temp.data = data\n",
    "    temp.next = None\n",
    "    return temp\n",
    "  "
   ]
  },
  {
   "cell_type": "code",
   "execution_count": 2,
   "id": "ed10e7f1",
   "metadata": {},
   "outputs": [
    {
     "name": "stdout",
     "output_type": "stream",
     "text": [
      "Given Linked List\n",
      "1->2->3->4->NULL\n",
      "Linked List after deletion of middle\n",
      "1->2->4->NULL\n"
     ]
    }
   ],
   "source": [
    "head = newNode(1)\n",
    "head.next = newNode(2)\n",
    "head.next.next = newNode(3)\n",
    "head.next.next.next = newNode(4)\n",
    "\n",
    "print(\"Given Linked List\")\n",
    "printList(head)\n",
    "\n",
    "head = deleteMid(head)\n",
    "\n",
    "print(\"Linked List after deletion of middle\")\n",
    "printList(head)"
   ]
  },
  {
   "cell_type": "code",
   "execution_count": null,
   "id": "e1bf44ec",
   "metadata": {},
   "outputs": [],
   "source": []
  },
  {
   "cell_type": "markdown",
   "id": "da059289",
   "metadata": {},
   "source": [
    "#### Question 2"
   ]
  },
  {
   "cell_type": "code",
   "execution_count": null,
   "id": "ebae25bd",
   "metadata": {},
   "outputs": [],
   "source": []
  },
  {
   "cell_type": "code",
   "execution_count": null,
   "id": "0610dd8e",
   "metadata": {},
   "outputs": [],
   "source": []
  },
  {
   "cell_type": "markdown",
   "id": "23d49016",
   "metadata": {},
   "source": [
    "#### Question 3"
   ]
  },
  {
   "cell_type": "code",
   "execution_count": 11,
   "id": "6930c734",
   "metadata": {},
   "outputs": [],
   "source": [
    "class Node:\n",
    "    def __init__(self, new_data):\n",
    "        self.data = new_data\n",
    "        self.next = None\n",
    "        \n",
    "class LinkedList:\n",
    "    def __init__(self):\n",
    "        self.head = None\n",
    " \n",
    "    # CreateNode and make linked list\n",
    "    def push(self, new_data):\n",
    "        new_node = Node(new_data)\n",
    "        new_node.next = self.head\n",
    "        self.head = new_node\n",
    " \n",
    "    # Function to get the nth node from\n",
    "    # the last of a linked list\n",
    "    def printNthFromLast(self, n):\n",
    "        temp = self.head  # Used temp variable\n",
    " \n",
    "        length = 0\n",
    "        while temp is not None:\n",
    "            temp = temp.next\n",
    "            length += 1\n",
    " \n",
    "        # Print count\n",
    "        if n > length:  # If entered location is greater\n",
    "                       # than length of linked list\n",
    "            print('Location is greater than the' +\n",
    "                  ' length of LinkedList')\n",
    "            return\n",
    "        temp = self.head\n",
    "        for i in range(0, length - n):\n",
    "            temp = temp.next\n",
    "        return(temp.data)\n",
    "    \n",
    "def printList(ptr):\n",
    "    while (ptr != None):\n",
    "        print(ptr.data, end = '->')\n",
    "        ptr = ptr.next\n",
    "    print('NULL')"
   ]
  },
  {
   "cell_type": "code",
   "execution_count": 12,
   "id": "22944946",
   "metadata": {},
   "outputs": [
    {
     "name": "stdout",
     "output_type": "stream",
     "text": [
      "9->8->7->6->5->4->3->2->1->NULL\n",
      "Output =  2\n"
     ]
    }
   ],
   "source": [
    "llist = LinkedList()\n",
    "for i in range(1,10):\n",
    "    llist.push(i)\n",
    "N=2\n",
    "# Function call\n",
    "printList(llist.head)\n",
    "output = llist.printNthFromLast(N)\n",
    "print(\"Output = \", output)"
   ]
  },
  {
   "cell_type": "markdown",
   "id": "0c11dd7a",
   "metadata": {},
   "source": [
    "#### Question 4"
   ]
  },
  {
   "cell_type": "code",
   "execution_count": 14,
   "id": "3d29bc9e",
   "metadata": {},
   "outputs": [],
   "source": [
    "class Node:\n",
    "    def __init__(self, data):\n",
    "        self.data = data\n",
    "        self.ptr = None\n",
    "\n",
    "def ispalindrome(head):\n",
    "    slow = head\n",
    "    stack = []\n",
    "    ispalin = True\n",
    " \n",
    "    while slow != None:\n",
    "        stack.append(slow.data)\n",
    "        slow = slow.ptr\n",
    "\n",
    "    while head != None:\n",
    "        i = stack.pop()\n",
    "        if head.data == i:\n",
    "            ispalin = True\n",
    "        else:\n",
    "            ispalin = False\n",
    "            break\n",
    "        head = head.ptr\n",
    "    return ispalin\n",
    "\n",
    "def printList(ptr):\n",
    "    while (ptr != None):\n",
    "        print(ptr.data, end = '->')\n",
    "        ptr = ptr.next\n",
    "    print('NULL')\n",
    "    "
   ]
  },
  {
   "cell_type": "code",
   "execution_count": 20,
   "id": "e7038ce8",
   "metadata": {},
   "outputs": [
    {
     "name": "stdout",
     "output_type": "stream",
     "text": [
      "isPalindrome: True\n"
     ]
    }
   ],
   "source": [
    "# Addition of linked list\n",
    "one = Node('R')\n",
    "two = Node('A')\n",
    "three = Node('D')\n",
    "four = Node('A')\n",
    "five = Node('R')\n",
    " \n",
    "# Initialize the next pointer\n",
    "# of every current pointer\n",
    "one.ptr = two\n",
    "two.ptr = three\n",
    "three.ptr = four\n",
    "four.ptr = five\n",
    "five.ptr = None\n",
    " \n",
    "# Call function to check palindrome or not\n",
    "result = ispalindrome(one)\n",
    "print(\"isPalindrome:\", result)"
   ]
  },
  {
   "cell_type": "markdown",
   "id": "26b15f7f",
   "metadata": {},
   "source": [
    "#### Question 5"
   ]
  },
  {
   "cell_type": "code",
   "execution_count": null,
   "id": "f173829b",
   "metadata": {},
   "outputs": [],
   "source": []
  },
  {
   "cell_type": "code",
   "execution_count": null,
   "id": "a5b22708",
   "metadata": {},
   "outputs": [],
   "source": []
  },
  {
   "cell_type": "markdown",
   "id": "20fad07b",
   "metadata": {},
   "source": [
    "#### Question 6"
   ]
  },
  {
   "cell_type": "code",
   "execution_count": 24,
   "id": "675b5be3",
   "metadata": {},
   "outputs": [],
   "source": [
    "class Node:\n",
    "    def __init__(self, data):\n",
    "        self.data = data\n",
    "        self.next = None\n",
    "        \n",
    "class LinkedList:\n",
    "    def __init__(self):\n",
    "        self.head = None\n",
    "\n",
    "    def push(self, new_data):\n",
    "        new_node = Node(new_data)\n",
    "        new_node.next = self.head\n",
    "        self.head = new_node\n",
    "        \n",
    "    def printList(self):\n",
    "        temp = self.head\n",
    "        while(temp):\n",
    "            print (temp.data,end=\"->\")\n",
    "            temp = temp.next\n",
    "            \n",
    "    def skipMdeleteN(self, M, N):\n",
    "        curr = self.head\n",
    "        while(curr):\n",
    "            # Skip M nodes\n",
    "            for count in range(1, M):\n",
    "                if curr is None:\n",
    "                    return \n",
    "                curr = curr.next\n",
    "                      \n",
    "            if curr is None :\n",
    "                return \n",
    "            # Start from next node and delete N nodes\n",
    "            t = curr.next \n",
    "            for count in range(1, N+1):\n",
    "                if t is None:\n",
    "                    break\n",
    "                t = t.next\n",
    "            # Link the previous list with remaining nodes\n",
    "            curr.next = t\n",
    "            # Set Current pointer for next iteration\n",
    "            curr = t "
   ]
  },
  {
   "cell_type": "code",
   "execution_count": 25,
   "id": "a80889d6",
   "metadata": {},
   "outputs": [
    {
     "name": "stdout",
     "output_type": "stream",
     "text": [
      "M = 2, N = 2\n",
      "Given Linked List is:\n",
      "1->2->3->4->5->6->7->8->\n",
      "\n",
      "Linked list after deletion is\n",
      "1->2->5->6->"
     ]
    }
   ],
   "source": [
    "# 1->2->3->4->5->6->7->8->9->10\n",
    "llist = LinkedList()\n",
    "M = 2 \n",
    "N = 2\n",
    "llist.push(8)\n",
    "llist.push(7)\n",
    "llist.push(6)\n",
    "llist.push(5)\n",
    "llist.push(4)\n",
    "llist.push(3)\n",
    "llist.push(2)\n",
    "llist.push(1)\n",
    "  \n",
    "print (\"M = %d, N = %d\\nGiven Linked List is:\" %(M, N))\n",
    "llist.printList()\n",
    "print()\n",
    "  \n",
    "llist.skipMdeleteN(M, N)\n",
    "  \n",
    "print (\"\\nLinked list after deletion is\")\n",
    "llist.printList()"
   ]
  },
  {
   "cell_type": "markdown",
   "id": "7ba17143",
   "metadata": {},
   "source": [
    "#### Question 7"
   ]
  },
  {
   "cell_type": "code",
   "execution_count": 32,
   "id": "4f8ca586",
   "metadata": {},
   "outputs": [],
   "source": [
    "class Node(object):\n",
    "    def __init__(self, data:int):\n",
    "        self.data = data\n",
    "        self.next = None\n",
    "\n",
    "class LinkedList(object):\n",
    "    def __init__(self):\n",
    "        self.head = None\n",
    "          \n",
    "    def push(self, new_data:int):\n",
    "        new_node = Node(new_data)\n",
    "        new_node.next = self.head\n",
    "        self.head = new_node\n",
    "          \n",
    "    def printList(self):\n",
    "        temp = self.head\n",
    "        while temp != None:\n",
    "            print(temp.data, end='->')\n",
    "            temp = temp.next\n",
    "        print(\"Null\")\n",
    "        \n",
    "    def merge(self, p, q):\n",
    "        p_curr = p.head\n",
    "        q_curr = q.head\n",
    "  \n",
    "        # swap their positions until one finishes off\n",
    "        while p_curr != None and q_curr != None:\n",
    "  \n",
    "            # Save next pointers\n",
    "            p_next = p_curr.next\n",
    "            q_next = q_curr.next\n",
    "  \n",
    "            # make q_curr as next of p_curr\n",
    "            q_curr.next = p_next  # change next pointer of q_curr\n",
    "            p_curr.next = q_curr  # change next pointer of p_curr\n",
    "  \n",
    "            # update current pointers for next iteration\n",
    "            p_curr = p_next\n",
    "            q_curr = q_next\n",
    "            q.head = q_curr"
   ]
  },
  {
   "cell_type": "code",
   "execution_count": 33,
   "id": "859fce48",
   "metadata": {},
   "outputs": [
    {
     "name": "stdout",
     "output_type": "stream",
     "text": [
      "First Linked List:\n",
      "0->1->2->3->Null\n",
      "\n",
      "Second Linked List:\n",
      "4->5->6->7->8->Null\n",
      "\n",
      "Modified first linked list:\n",
      "0->4->1->5->2->6->3->7->Null\n",
      "\n",
      "Modified second linked list:\n",
      "8->Null\n"
     ]
    }
   ],
   "source": [
    "llist1 = LinkedList()\n",
    "llist2 = LinkedList()\n",
    "  \n",
    "# Creating LLs\n",
    "  \n",
    "# 1.\n",
    "llist1.push(3)\n",
    "llist1.push(2)\n",
    "llist1.push(1)\n",
    "llist1.push(0)\n",
    "  \n",
    "# 2.\n",
    "for i in range(8, 3, -1):\n",
    "    llist2.push(i)\n",
    "    \n",
    "print(\"First Linked List:\")\n",
    "llist1.printList()\n",
    "  \n",
    "print(\"\\nSecond Linked List:\")\n",
    "llist2.printList()\n",
    "  \n",
    "# Merging the LLs\n",
    "llist1.merge(p=llist1, q=llist2)\n",
    "  \n",
    "print(\"\\nModified first linked list:\")\n",
    "llist1.printList()\n",
    "  \n",
    "print(\"\\nModified second linked list:\")\n",
    "llist2.printList()"
   ]
  },
  {
   "cell_type": "code",
   "execution_count": null,
   "id": "25855fd7",
   "metadata": {},
   "outputs": [],
   "source": []
  },
  {
   "cell_type": "markdown",
   "id": "3df61fa0",
   "metadata": {},
   "source": [
    "#### Question 8"
   ]
  },
  {
   "cell_type": "code",
   "execution_count": 34,
   "id": "3e93652e",
   "metadata": {},
   "outputs": [],
   "source": [
    "class Node:\n",
    "    def __init__(self, data):\n",
    "        self.data = data  # Assign data\n",
    "        self.next = None  # Initialize next as null\n",
    "        \n",
    "class LinkedList:\n",
    "    def __init__(self):\n",
    "        self.head = None\n",
    "\n",
    "def Circular(head):\n",
    "    if head == None:\n",
    "        return True\n",
    "  \n",
    "    # Next of head\n",
    "    node = head.next\n",
    "    i = 0\n",
    "    while((node is not None) and (node is not head)):\n",
    "        i = i + 1\n",
    "        node = node.next\n",
    "  \n",
    "    return(node == head)    "
   ]
  },
  {
   "cell_type": "code",
   "execution_count": 35,
   "id": "4c8e0ab2",
   "metadata": {},
   "outputs": [
    {
     "name": "stdout",
     "output_type": "stream",
     "text": [
      "No\n",
      "Yes\n"
     ]
    }
   ],
   "source": [
    "llist = LinkedList()\n",
    "llist.head = Node(1)\n",
    "second = Node(2)\n",
    "third = Node(3)\n",
    "fourth = Node(4)\n",
    "\n",
    "llist.head.next = second\n",
    "second.next = third\n",
    "third.next = fourth\n",
    "\n",
    "if (Circular(llist.head)):\n",
    "    print('Yes')\n",
    "else:\n",
    "    print('No')\n",
    "\n",
    "fourth.next = llist.head\n",
    "\n",
    "if (Circular(llist.head)):\n",
    "    print('Yes')\n",
    "else:\n",
    "    print('No')"
   ]
  },
  {
   "cell_type": "code",
   "execution_count": null,
   "id": "73638721",
   "metadata": {},
   "outputs": [],
   "source": []
  }
 ],
 "metadata": {
  "kernelspec": {
   "display_name": "Python 3 (ipykernel)",
   "language": "python",
   "name": "python3"
  },
  "language_info": {
   "codemirror_mode": {
    "name": "ipython",
    "version": 3
   },
   "file_extension": ".py",
   "mimetype": "text/x-python",
   "name": "python",
   "nbconvert_exporter": "python",
   "pygments_lexer": "ipython3",
   "version": "3.9.12"
  }
 },
 "nbformat": 4,
 "nbformat_minor": 5
}
