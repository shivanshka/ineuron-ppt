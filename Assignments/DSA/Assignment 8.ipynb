{
 "cells": [
  {
   "cell_type": "markdown",
   "id": "b6c56d1f",
   "metadata": {},
   "source": [
    "## Assignment 8"
   ]
  },
  {
   "cell_type": "markdown",
   "id": "318c16be",
   "metadata": {},
   "source": [
    "#### Question 1"
   ]
  },
  {
   "cell_type": "code",
   "execution_count": 3,
   "id": "0423b3b6",
   "metadata": {},
   "outputs": [],
   "source": [
    "def minimumDeleteSum(s1: str, s2: str) -> int:\n",
    "    n, m = len(s1), len(s2)\n",
    "    prev = [0] * (m+1)\n",
    "    cur = prev.copy()\n",
    "    for i in range(n):\n",
    "        for j in range(m):\n",
    "            if s1[i] == s2[j]: cur[j+1] = prev[j] + ord(s1[i])\n",
    "            else: cur[j+1] = max(cur[j], prev[j+1])\n",
    "        prev, cur = cur, prev\n",
    "    return sum(map(ord, s1+s2)) - 2 * prev[-1]"
   ]
  },
  {
   "cell_type": "code",
   "execution_count": 4,
   "id": "d89b1974",
   "metadata": {},
   "outputs": [
    {
     "name": "stdout",
     "output_type": "stream",
     "text": [
      "Output =  231\n"
     ]
    }
   ],
   "source": [
    "s1 = \"sea\"\n",
    "s2 = \"eat\"\n",
    "output = minimumDeleteSum(s1, s2)\n",
    "print(\"Output = \", output)"
   ]
  },
  {
   "cell_type": "markdown",
   "id": "da059289",
   "metadata": {},
   "source": [
    "#### Question 2"
   ]
  },
  {
   "cell_type": "code",
   "execution_count": 6,
   "id": "6d29fd59",
   "metadata": {},
   "outputs": [],
   "source": [
    "def checkValidString(self, s: str) -> bool:\n",
    "    leftmin = leftmax = 0\n",
    "    for c in s:\n",
    "        if c == \"(\":\n",
    "            leftmax += 1\n",
    "            leftmin += 1\n",
    "        if c == \")\":\n",
    "            leftmax -= 1\n",
    "            leftmin = max(0, leftmin-1)\n",
    "        if c == \"*\":\n",
    "            leftmax +=1\n",
    "            leftmin = max(0, leftmin-1)\n",
    "        if leftmax < 0:\n",
    "            return False\n",
    "    if leftmin == 0:\n",
    "        return True"
   ]
  },
  {
   "cell_type": "code",
   "execution_count": 7,
   "id": "afca8fce",
   "metadata": {},
   "outputs": [
    {
     "name": "stdout",
     "output_type": "stream",
     "text": [
      "Valid String =  True\n"
     ]
    }
   ],
   "source": [
    "s = \"()\"\n",
    "output = checkValidString(s1, s2)\n",
    "print(\"Valid String = \", output)"
   ]
  },
  {
   "cell_type": "markdown",
   "id": "23d49016",
   "metadata": {},
   "source": [
    "#### Question 3"
   ]
  },
  {
   "cell_type": "code",
   "execution_count": 10,
   "id": "e96a98f9",
   "metadata": {},
   "outputs": [],
   "source": [
    "def minDistance(word1: str, word2: str) -> int:\n",
    "    m, n = len(word1), len(word2)\n",
    "    prev, cur = [0] * (n + 1), [0] * (n + 1)\n",
    "\n",
    "    for i in range(1, m + 1):\n",
    "        for j in range(1, n + 1):\n",
    "            if word1[i - 1] == word2[j - 1]:\n",
    "                cur[j] = 1 + prev[j - 1]\n",
    "            else:\n",
    "                cur[j] = max(prev[j], cur[j - 1])\n",
    "        prev = cur.copy()\n",
    "\n",
    "    return m + n - 2 * prev[n]"
   ]
  },
  {
   "cell_type": "code",
   "execution_count": 13,
   "id": "cf094092",
   "metadata": {},
   "outputs": [
    {
     "name": "stdout",
     "output_type": "stream",
     "text": [
      "Minimum number steps required =  2\n"
     ]
    }
   ],
   "source": [
    "word1 = \"sea\"\n",
    "word2 = \"eat\"\n",
    "output = minDistance(word1, word2)\n",
    "print(\"Minimum number steps required = \", output)"
   ]
  },
  {
   "cell_type": "markdown",
   "id": "0c11dd7a",
   "metadata": {},
   "source": [
    "#### Question 4"
   ]
  },
  {
   "cell_type": "code",
   "execution_count": 30,
   "id": "7c372a2b",
   "metadata": {},
   "outputs": [],
   "source": [
    "class newNode:\n",
    "    def __init__(self, data):\n",
    "        self.data = data\n",
    "        self.left = self.right = None\n",
    "        \n",
    "def preOrder(node):\n",
    "    if (node == None):\n",
    "        return\n",
    "    print(node.data, end=' ')\n",
    "    preOrder(node.left)\n",
    "    preOrder(node.right)\n",
    "\n",
    "def findIndex(Str, si, ei):\n",
    "    if (si > ei):\n",
    "        return -1\n",
    " \n",
    "    s = []\n",
    "    for i in range(si, ei + 1):\n",
    " \n",
    "        # if open parenthesis, push it\n",
    "        if (Str[i] == '('):\n",
    "            s.append(Str[i])\n",
    " \n",
    "        # if close parenthesis\n",
    "        elif (Str[i] == ')'):\n",
    "            if (s[-1] == '('):\n",
    "                s.pop(-1)\n",
    " \n",
    "                # if stack is empty, this is\n",
    "                # the required index\n",
    "                if len(s) == 0:\n",
    "                    return i\n",
    "    # if not found return -1\n",
    "    return -1\n",
    " \n",
    "# function to conStruct tree from String\n",
    " \n",
    "def treeFromString(Str, si, ei):\n",
    " \n",
    "    # Base case\n",
    "    if (si > ei):\n",
    "        return None\n",
    " \n",
    "    # new root\n",
    "    root = newNode(ord(Str[si]) - ord('0'))\n",
    "    index = -1\n",
    " \n",
    "    # if next char is '(' find the\n",
    "    # index of its complement ')'\n",
    "    if (si + 1 <= ei and Str[si + 1] == '('):\n",
    "        index = findIndex(Str, si + 1, ei)\n",
    " \n",
    "    # if index found\n",
    "    if (index != -1):\n",
    " \n",
    "        # call for left subtree\n",
    "        root.left = treeFromString(Str, si + 2,\n",
    "                                   index - 1)\n",
    " \n",
    "        # call for right subtree\n",
    "        root.right = treeFromString(Str, index + 2,\n",
    "                                    ei - 1)\n",
    "    return root\n",
    " "
   ]
  },
  {
   "cell_type": "code",
   "execution_count": 33,
   "id": "4a04ae24",
   "metadata": {},
   "outputs": [
    {
     "name": "stdout",
     "output_type": "stream",
     "text": [
      "4 2 3 1 6 5 "
     ]
    }
   ],
   "source": [
    "s = \"4(2(3)(1))(6(5))\"\n",
    "output = treeFromString(s,0, len(s) - 1)\n",
    "preOrder(output)"
   ]
  },
  {
   "cell_type": "markdown",
   "id": "26b15f7f",
   "metadata": {},
   "source": [
    "#### Question 5"
   ]
  },
  {
   "cell_type": "code",
   "execution_count": 35,
   "id": "0301bf09",
   "metadata": {},
   "outputs": [],
   "source": [
    "from typing import List\n",
    "def compress(chars: List[str]) -> int:\n",
    "    d=[]\n",
    "    c=1\n",
    "    for i in range(1,len(chars)):\n",
    "        if chars[i]==chars[i-1]:\n",
    "            c+=1\n",
    "        else:\n",
    "            d.append([chars[i-1],c])\n",
    "            c=1\n",
    "    d.append([chars[-1],c]) \n",
    "    i=0\n",
    "    for k,v in d:\n",
    "        chars[i]=k\n",
    "        i+=1\n",
    "        if v>1:\n",
    "            for item in str(v):\n",
    "                chars[i]=str(item)\n",
    "                i+=1\n",
    "    return i"
   ]
  },
  {
   "cell_type": "code",
   "execution_count": 36,
   "id": "8e82aa38",
   "metadata": {},
   "outputs": [
    {
     "name": "stdout",
     "output_type": "stream",
     "text": [
      "Output =  6\n"
     ]
    }
   ],
   "source": [
    "chars = [\"a\",\"a\",\"b\",\"b\",\"c\",\"c\",\"c\"]\n",
    "output = compress(chars)\n",
    "print(\"Output = \", output)"
   ]
  },
  {
   "cell_type": "markdown",
   "id": "20fad07b",
   "metadata": {},
   "source": [
    "#### Question 6"
   ]
  },
  {
   "cell_type": "code",
   "execution_count": 41,
   "id": "a68acaa1",
   "metadata": {},
   "outputs": [],
   "source": [
    "from collections import Counter\n",
    "def findAnagrams(s, p):\n",
    "    res = []\n",
    "    c = Counter(p)\n",
    "    cur = Counter(s[:len(p)])\n",
    "    for i in range(len(s)-len(p)+1):\n",
    "        if cur==c:\n",
    "            res.append(i)\n",
    "        if i == len(s)-len(p):\n",
    "            break\n",
    "        cur[s[i]]-=1\n",
    "        if cur[s[i]]==0:\n",
    "            del cur[s[i]]\n",
    "        cur[s[i+len(p)]]+=1\n",
    "    return res"
   ]
  },
  {
   "cell_type": "code",
   "execution_count": 42,
   "id": "1320e493",
   "metadata": {},
   "outputs": [
    {
     "name": "stdout",
     "output_type": "stream",
     "text": [
      "Output =  [0, 6]\n"
     ]
    }
   ],
   "source": [
    "s = \"cbaebabacd\"\n",
    "p = \"abc\"\n",
    "output = findAnagrams(s,p)\n",
    "print(\"Output = \", output)"
   ]
  },
  {
   "cell_type": "markdown",
   "id": "7ba17143",
   "metadata": {},
   "source": [
    "#### Question 7"
   ]
  },
  {
   "cell_type": "code",
   "execution_count": 43,
   "id": "4457529b",
   "metadata": {},
   "outputs": [],
   "source": [
    "def decodeString(s: str) -> str:\n",
    "    st = []\n",
    "    num = 0\n",
    "    res = ''\n",
    "\n",
    "    for ch in s:\n",
    "        if ch.isnumeric():\n",
    "            num = num * 10 + int(ch)\n",
    "        elif ch == '[':\n",
    "            st.append(res)\n",
    "            st.append(num)\n",
    "            res = ''\n",
    "            num = 0\n",
    "        elif ch == ']':\n",
    "            cnt = st.pop()\n",
    "            prev = st.pop()\n",
    "            res = prev + cnt * res\n",
    "        else:\n",
    "            res += ch\n",
    "    return res"
   ]
  },
  {
   "cell_type": "code",
   "execution_count": 44,
   "id": "2a8c03f6",
   "metadata": {},
   "outputs": [
    {
     "name": "stdout",
     "output_type": "stream",
     "text": [
      "Decode String =  aaabcbc\n"
     ]
    }
   ],
   "source": [
    "s = \"3[a]2[bc]\"\n",
    "output = decodeString(s)\n",
    "print(\"Decode String = \", output)"
   ]
  },
  {
   "cell_type": "markdown",
   "id": "3df61fa0",
   "metadata": {},
   "source": [
    "#### Question 8"
   ]
  },
  {
   "cell_type": "code",
   "execution_count": 46,
   "id": "776a37a2",
   "metadata": {},
   "outputs": [],
   "source": [
    "def swap_chars(s: str, goal: str) -> bool:\n",
    "        n = len(s)\n",
    "        if s == goal:\n",
    "            temp = set(s)\n",
    "            return len(temp) < len(goal)  # Swapping same characters\n",
    "\n",
    "        i = 0\n",
    "        j = n - 1\n",
    "\n",
    "        while i < j and s[i] == goal[i]:\n",
    "            i += 1\n",
    "\n",
    "        while j >= 0 and s[j] == goal[j]:\n",
    "            j -= 1\n",
    "\n",
    "        if i < j:\n",
    "            s_list = list(s)\n",
    "            s_list[i], s_list[j] = s_list[j], s_list[i]\n",
    "            s = ''.join(s_list)\n",
    "\n",
    "        return s == goal"
   ]
  },
  {
   "cell_type": "code",
   "execution_count": 48,
   "id": "73638721",
   "metadata": {},
   "outputs": [
    {
     "name": "stdout",
     "output_type": "stream",
     "text": [
      "Swappable =  True\n"
     ]
    }
   ],
   "source": [
    "s = \"ab\"\n",
    "goal = \"ba\"\n",
    "output = swap_chars(s, goal)\n",
    "print(\"Swappable = \", output)"
   ]
  },
  {
   "cell_type": "code",
   "execution_count": null,
   "id": "3c959af9",
   "metadata": {},
   "outputs": [],
   "source": []
  }
 ],
 "metadata": {
  "kernelspec": {
   "display_name": "Python 3 (ipykernel)",
   "language": "python",
   "name": "python3"
  },
  "language_info": {
   "codemirror_mode": {
    "name": "ipython",
    "version": 3
   },
   "file_extension": ".py",
   "mimetype": "text/x-python",
   "name": "python",
   "nbconvert_exporter": "python",
   "pygments_lexer": "ipython3",
   "version": "3.9.12"
  }
 },
 "nbformat": 4,
 "nbformat_minor": 5
}
