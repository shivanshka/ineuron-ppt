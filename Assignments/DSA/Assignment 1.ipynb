{
 "cells": [
  {
   "cell_type": "markdown",
   "id": "d2f707ad",
   "metadata": {},
   "source": [
    "## Assignment 1"
   ]
  },
  {
   "cell_type": "markdown",
   "id": "8d7aff4a",
   "metadata": {},
   "source": [
    "Q1.\n",
    "Given an array of integers nums and an integer target, return indices of the two numbers such that they add up to target.  \n",
    "You may assume that each input would have exactly one solution, and you may not use the same element twice.  \n",
    "You can return the answer in any order.  \n",
    "Example:  \n",
    "Input: nums = [2,7,11,15], target = 9Output0 [0,1]  \n",
    "Explanation:  \n",
    "Because nums[0] + nums[1] == 9, we return [0, 1]"
   ]
  },
  {
   "cell_type": "code",
   "execution_count": 2,
   "id": "dca11904",
   "metadata": {},
   "outputs": [],
   "source": [
    "from typing import List\n",
    "class Ques1:\n",
    "    def twoSum(self, nums: List[int], target: int) -> List[int]:\n",
    "        n = len(nums)\n",
    "        for i in range(n - 1):\n",
    "            for j in range(i + 1, n):\n",
    "                if nums[i] + nums[j] == target:\n",
    "                    return [i, j]\n",
    "        return []"
   ]
  },
  {
   "cell_type": "code",
   "execution_count": 3,
   "id": "3cab7c5d",
   "metadata": {},
   "outputs": [
    {
     "name": "stdout",
     "output_type": "stream",
     "text": [
      "[0, 1]\n"
     ]
    }
   ],
   "source": [
    "nums = [2,7,11,15]\n",
    "target = 9\n",
    "q1 = Ques1()\n",
    "result = q1.twoSum(nums, target)\n",
    "print(result)"
   ]
  },
  {
   "cell_type": "markdown",
   "id": "c538225b",
   "metadata": {},
   "source": [
    "Q2.  \n",
    "Given an integer array nums and an integer val, remove all occurrences of val in nums in-place. The order of the elements may be changed. Then return the number of elements in nums which are not equal to val.  \n",
    "Consider the number of elements in nums which are not equal to val be k, to get accepted, you need to do the following things:  \n",
    "•\n",
    "Change the array nums such that the first k elements of nums contain the elements which are not equal to val. The remaining elements of nums are not important as well as the size of nums.  \n",
    "•\n",
    "Return k.  \n",
    "Example :  \n",
    "Input: nums = [3,2,2,3], val = 3  \n",
    "Output: 2, nums = [2,2,_,_]  \n",
    "Explanation:  \n",
    "Your function should return k = 2, with the first two elements of nums being 2. It does not matter what you leave beyond the returned k (hence they are underscores)[  "
   ]
  },
  {
   "cell_type": "code",
   "execution_count": 4,
   "id": "f5e338cd",
   "metadata": {},
   "outputs": [],
   "source": [
    "class Ques2:\n",
    "    def removeElement(self, nums: List[int], val: int) -> int:\n",
    "        index = 0\n",
    "        for i in range(len(nums)):\n",
    "            if nums[i] != val:\n",
    "                nums[index] = nums[i]\n",
    "                index += 1\n",
    "        return index\n"
   ]
  },
  {
   "cell_type": "code",
   "execution_count": 6,
   "id": "1eb8f628",
   "metadata": {},
   "outputs": [
    {
     "name": "stdout",
     "output_type": "stream",
     "text": [
      "2\n"
     ]
    }
   ],
   "source": [
    "nums = [3,2,2,3]\n",
    "val = 3\n",
    "q2 = Ques2()\n",
    "result = q2.removeElement(nums, val)\n",
    "print(result)"
   ]
  },
  {
   "cell_type": "markdown",
   "id": "e32bb7d1",
   "metadata": {},
   "source": [
    "Q3.\n",
    "Given a sorted array of distinct integers and a target value, return the index if the target is found. If not, return the index where it would be if it were inserted in order.  \n",
    "You must write an algorithm with O(log n) runtime complexity.  \n",
    "Example 1:  \n",
    "Input: nums = [1,3,5,6], target = 5  \n",
    "Output: 2"
   ]
  },
  {
   "cell_type": "code",
   "execution_count": 7,
   "id": "d62ccc7f",
   "metadata": {},
   "outputs": [],
   "source": [
    "def searchInsert(nums: List[int], target: int) -> int:\n",
    "        left,right=0,len(nums)-1\n",
    "        while left<=right:\n",
    "            mid=(left+right)//2\n",
    "            if nums[mid]==target:\n",
    "                return mid\n",
    "            elif nums[mid]<target:\n",
    "                left=mid+1\n",
    "            else:\n",
    "                right=mid-1\n",
    "        return left"
   ]
  },
  {
   "cell_type": "code",
   "execution_count": 9,
   "id": "9b1bbabd",
   "metadata": {},
   "outputs": [
    {
     "name": "stdout",
     "output_type": "stream",
     "text": [
      "Result=  2\n"
     ]
    }
   ],
   "source": [
    "nums = [1,3,5,6] \n",
    "target = 5\n",
    "result = searchInsert(nums,target)\n",
    "print(\"Result= \",result)"
   ]
  },
  {
   "cell_type": "markdown",
   "id": "1ddd766b",
   "metadata": {},
   "source": [
    "Q4.  \n",
    "You are given a large integer represented as an integer array digits, where each digits[i] is the ith digit of the integer. The digits are ordered from most significant to least significant in left-to-right order. The large integer does not contain any leading 0's.  \n",
    "Increment the large integer by one and return the resulting array of digits.  \n",
    "Example 1:  \n",
    "Input: digits = [1,2,3]Output: [1,2,4]  \n",
    "Explanation:  \n",
    "The array represents the integer 123.  \n",
    "Incrementing by one gives 123 + 1 = 124.Thus, the result should be [1,2,4].  "
   ]
  },
  {
   "cell_type": "code",
   "execution_count": 12,
   "id": "7bcd9dfb",
   "metadata": {},
   "outputs": [],
   "source": [
    "def digits_fn(digits):\n",
    "        strings = \"\"\n",
    "        for number in digits:\n",
    "            strings += str(number)\n",
    "\n",
    "        temp = str(int(strings) +1)\n",
    "\n",
    "        return [int(temp[i]) for i in range(len(temp))]\n"
   ]
  },
  {
   "cell_type": "code",
   "execution_count": 13,
   "id": "6637f626",
   "metadata": {},
   "outputs": [
    {
     "name": "stdout",
     "output_type": "stream",
     "text": [
      "Output =  [1, 2, 4]\n"
     ]
    }
   ],
   "source": [
    "digits = [1,2,3]\n",
    "output = digits_fn(digits)\n",
    "print(\"Output = \",output)"
   ]
  },
  {
   "cell_type": "markdown",
   "id": "b802f9a8",
   "metadata": {},
   "source": [
    "Q5.  \n",
    "You are given two integer arrays nums1 and nums2, sorted in non-decreasing order, and two integers m and n, representing the number of elements in nums1 and nums2 respectively.  \n",
    "Merge nums1 and nums2 into a single array sorted in non-decreasing order.  \n",
    "The final sorted array should not be returned by the function, but instead be stored inside the array nums1. To accommodate this, nums1 has a length of m + n, where the first m elements denote the elements that should be merged, and the last n elements are set to 0 and should be ignored. nums2 has a length of n.  \n",
    "Example 1:  \n",
    "Input: nums1 = [1,2,3,0,0,0], m = 3, nums2 = [2,5,6], n = 3Output: [1,2,2,3,5,6]  \n",
    "Explanation:  \n",
    "The arrays we are merging are [1,2,3] and [2,5,6].The result of the merge is [1,2,2,3,5,6] with the underlined elements coming from nums1.  "
   ]
  },
  {
   "cell_type": "code",
   "execution_count": 14,
   "id": "df6db0f0",
   "metadata": {},
   "outputs": [],
   "source": [
    "def merge(nums1, m, nums2, n):\n",
    "    for j in range(n):\n",
    "        nums1[m+j] = nums2[j]\n",
    "    nums1.sort()\n",
    "    return nums1"
   ]
  },
  {
   "cell_type": "code",
   "execution_count": 15,
   "id": "30580c85",
   "metadata": {},
   "outputs": [
    {
     "name": "stdout",
     "output_type": "stream",
     "text": [
      "Output =  [1, 2, 2, 3, 5, 6]\n"
     ]
    }
   ],
   "source": [
    "nums1 = [1,2,3,0,0,0]\n",
    "m = 3\n",
    "nums2 = [2,5,6]\n",
    "n = 3\n",
    "result = merge(nums1, m, nums2, n)\n",
    "print(\"Output = \",result)"
   ]
  },
  {
   "cell_type": "markdown",
   "id": "bc6e98a8",
   "metadata": {},
   "source": [
    "Q6.  \n",
    "Given an integer array nums, return true if any value appears at least twice in the array, and return false if every element is distinct.  \n",
    "Example 1:  \n",
    "Input: nums = [1,2,3,1]  \n",
    "Output: true  "
   ]
  },
  {
   "cell_type": "code",
   "execution_count": 16,
   "id": "dd43986c",
   "metadata": {},
   "outputs": [],
   "source": [
    "def contains_Duplicate(nums: List[int]) -> bool:\n",
    "        n = len(nums)\n",
    "        for i in range(n - 1):\n",
    "            for j in range(i + 1, n):\n",
    "                if nums[i] == nums[j]:\n",
    "                    return True\n",
    "        return False"
   ]
  },
  {
   "cell_type": "code",
   "execution_count": 17,
   "id": "27ff99e7",
   "metadata": {},
   "outputs": [
    {
     "name": "stdout",
     "output_type": "stream",
     "text": [
      "Output =  True\n"
     ]
    }
   ],
   "source": [
    "nums = [1,2,3,1]\n",
    "result = contains_Duplicate(nums)\n",
    "print(\"Output = \",result)"
   ]
  },
  {
   "cell_type": "markdown",
   "id": "2683a955",
   "metadata": {},
   "source": [
    "Q7.  \n",
    "Given an integer array nums, move all 0's to the end of it while maintaining the relative order of the nonzero elements.  \n",
    "Note that you must do this in-place without making a copy of the array.  \n",
    "Example 1:  \n",
    "Input: nums = [0,1,0,3,12]  \n",
    "Output: [1,3,12,0,0]  "
   ]
  },
  {
   "cell_type": "code",
   "execution_count": 18,
   "id": "493bfb59",
   "metadata": {},
   "outputs": [],
   "source": [
    "def moveZeroes(nums: list) -> None:\n",
    "    slow = 0\n",
    "    for fast in range(len(nums)):\n",
    "        if nums[fast] != 0 and nums[slow] == 0:\n",
    "            nums[slow], nums[fast] = nums[fast], nums[slow]\n",
    "        if nums[slow] != 0:\n",
    "            slow += 1"
   ]
  },
  {
   "cell_type": "code",
   "execution_count": 20,
   "id": "0066b7e0",
   "metadata": {},
   "outputs": [
    {
     "data": {
      "text/plain": [
       "[1, 3, 12, 0, 0]"
      ]
     },
     "execution_count": 20,
     "metadata": {},
     "output_type": "execute_result"
    }
   ],
   "source": [
    "nums = [0,1,0,3,12]\n",
    "moveZeroes(nums)\n",
    "nums"
   ]
  },
  {
   "cell_type": "markdown",
   "id": "08a23e01",
   "metadata": {},
   "source": [
    "Q8.  \n",
    "You have a set of integers s, which originally contains all the numbers from 1 to n. Unfortunately, due to some error, one of the numbers in s got duplicated to another number in the set, which results in repetition of one number and loss of another number.  \n",
    "You are given an integer array nums representing the data status of this set after the error.  \n",
    "Find the number that occurs twice and the number that is missing and return them in the form of an array.  \n",
    "Example 1:  \n",
    "Input: nums = [1,2,2,4]  \n",
    "Output: [2,3]  "
   ]
  },
  {
   "cell_type": "code",
   "execution_count": 21,
   "id": "2fc1ad16",
   "metadata": {},
   "outputs": [],
   "source": [
    "import statistics\n",
    "from statistics import mode\n",
    "\n",
    "def findErrorNums(nums: List[int]) -> List[int]:\n",
    "    l=[]\n",
    "    s=set(range(1,len(nums)+1))\n",
    "    l.append(mode(nums))\n",
    "    l.append((list(s-set(nums)))[0])\n",
    "    return l"
   ]
  },
  {
   "cell_type": "code",
   "execution_count": 22,
   "id": "cbf4282a",
   "metadata": {},
   "outputs": [
    {
     "name": "stdout",
     "output_type": "stream",
     "text": [
      "Output =  [2, 3]\n"
     ]
    }
   ],
   "source": [
    "nums = [1,2,2,4]\n",
    "result = findErrorNums(nums)\n",
    "print(\"Output = \",result)"
   ]
  },
  {
   "cell_type": "code",
   "execution_count": null,
   "id": "3f2b7364",
   "metadata": {},
   "outputs": [],
   "source": []
  }
 ],
 "metadata": {
  "kernelspec": {
   "display_name": "Python 3 (ipykernel)",
   "language": "python",
   "name": "python3"
  },
  "language_info": {
   "codemirror_mode": {
    "name": "ipython",
    "version": 3
   },
   "file_extension": ".py",
   "mimetype": "text/x-python",
   "name": "python",
   "nbconvert_exporter": "python",
   "pygments_lexer": "ipython3",
   "version": "3.9.12"
  }
 },
 "nbformat": 4,
 "nbformat_minor": 5
}
