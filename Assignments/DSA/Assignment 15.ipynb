{
 "cells": [
  {
   "cell_type": "markdown",
   "id": "b6c56d1f",
   "metadata": {},
   "source": [
    "## Assignment 15"
   ]
  },
  {
   "cell_type": "markdown",
   "id": "318c16be",
   "metadata": {},
   "source": [
    "#### Question 1"
   ]
  },
  {
   "cell_type": "code",
   "execution_count": 9,
   "id": "ef2b010a",
   "metadata": {},
   "outputs": [],
   "source": [
    "def createStack():\n",
    "    stack = []\n",
    "    return stack\n",
    "\n",
    "def isEmpty(stack):\n",
    "    return len(stack) == 0\n",
    "\n",
    "def push(stack, x):\n",
    "    stack.append(x)\n",
    "    \n",
    "def pop(stack):\n",
    "    if isEmpty(stack):\n",
    "        print(\"Error : stack underflow\")\n",
    "    else:\n",
    "        return stack.pop()\n",
    "\n",
    "def printNGE(arr):\n",
    "    s = createStack()\n",
    "    element = 0\n",
    "    next = 0\n",
    " \n",
    "    # push the first element to stack\n",
    "    push(s, arr[0])\n",
    " \n",
    "    # iterate for rest of the elements\n",
    "    for i in range(1, len(arr), 1):\n",
    "        next = arr[i]\n",
    " \n",
    "        if isEmpty(s) == False:\n",
    " \n",
    "            # if stack is not empty, then pop an element from stack\n",
    "            element = pop(s)\n",
    "            while element < next:\n",
    "                print(str(next), end=' ')\n",
    "                if isEmpty(s) == True:\n",
    "                    break\n",
    "                element = pop(s)\n",
    "            if element > next:\n",
    "                push(s, element)\n",
    "        push(s, next)\n",
    "\n",
    "    while isEmpty(s) == False:\n",
    "        element = pop(s)\n",
    "        next = -1\n",
    "        print(str(next), end=' ')\n",
    " "
   ]
  },
  {
   "cell_type": "code",
   "execution_count": 12,
   "id": "06f8d4b1",
   "metadata": {},
   "outputs": [
    {
     "name": "stdout",
     "output_type": "stream",
     "text": [
      "3 4 4 -1 "
     ]
    }
   ],
   "source": [
    "N = 4\n",
    "arr= [1, 3, 2, 4]\n",
    "printNGE(arr)"
   ]
  },
  {
   "cell_type": "code",
   "execution_count": 13,
   "id": "c46be564",
   "metadata": {},
   "outputs": [
    {
     "name": "stdout",
     "output_type": "stream",
     "text": [
      "8 1 3 -1 -1 "
     ]
    }
   ],
   "source": [
    "N = 5\n",
    "arr= [6, 8, 0, 1, 3]\n",
    "printNGE(arr)"
   ]
  },
  {
   "cell_type": "markdown",
   "id": "da059289",
   "metadata": {},
   "source": [
    "#### Question 2"
   ]
  },
  {
   "cell_type": "code",
   "execution_count": 23,
   "id": "3a9d9fbc",
   "metadata": {},
   "outputs": [],
   "source": [
    "import math as mt\n",
    "\n",
    "def printPrevSmaller(arr, n):\n",
    "    S = list()\n",
    " \n",
    "    for i in range(n):\n",
    "        while (len(S) > 0 and S[-1] >= arr[i]):\n",
    "            S.pop()\n",
    "            \n",
    "        if (len(S) == 0):\n",
    "            print(-1, end = \" \")\n",
    "        else:\n",
    "            print(S[-1], end = \" \")\n",
    " \n",
    "        # Push this element\n",
    "        S.append(arr[i])"
   ]
  },
  {
   "cell_type": "code",
   "execution_count": 24,
   "id": "771d99b9",
   "metadata": {},
   "outputs": [
    {
     "name": "stdout",
     "output_type": "stream",
     "text": [
      "-1 1 1 "
     ]
    }
   ],
   "source": [
    "arr = [ 1,6,2]\n",
    "n = len(arr)\n",
    "printPrevSmaller(arr, n)"
   ]
  },
  {
   "cell_type": "code",
   "execution_count": 25,
   "id": "3383c464",
   "metadata": {},
   "outputs": [
    {
     "name": "stdout",
     "output_type": "stream",
     "text": [
      "-1 1 -1 0 3 4 "
     ]
    }
   ],
   "source": [
    "arr = [1, 5, 0, 3, 4, 5]\n",
    "n = len(arr)\n",
    "printPrevSmaller(arr, n)"
   ]
  },
  {
   "cell_type": "markdown",
   "id": "23d49016",
   "metadata": {},
   "source": [
    "#### Question 3"
   ]
  },
  {
   "cell_type": "code",
   "execution_count": 37,
   "id": "49e2e396",
   "metadata": {},
   "outputs": [],
   "source": [
    "from _collections import deque\n",
    "class Stack:\n",
    "    def __init__(self):\n",
    "        self.q1 = deque()\n",
    "        self.q2 = deque()\n",
    " \n",
    "    def push(self, x):\n",
    "        self.q2.append(x)\n",
    "        while (self.q1):\n",
    "            self.q2.append(self.q1.popleft())\n",
    " \n",
    "        self.q1, self.q2 = self.q2, self.q1\n",
    " \n",
    "    def pop(self):\n",
    "        if self.q1:\n",
    "            print(self.q1.popleft(), end=' ')\n",
    "        else:\n",
    "            print(-1)\n",
    " \n",
    "    def top(self):\n",
    "        if (self.q1):\n",
    "            return self.q1[0]\n",
    "        return None\n",
    " \n",
    "    def size(self):\n",
    "        return len(self.q1)\n",
    " "
   ]
  },
  {
   "cell_type": "code",
   "execution_count": 38,
   "id": "5e158985",
   "metadata": {},
   "outputs": [
    {
     "name": "stdout",
     "output_type": "stream",
     "text": [
      "3 4 "
     ]
    }
   ],
   "source": [
    "s = Stack()\n",
    "s.push(2)\n",
    "s.push(3)\n",
    "s.pop()\n",
    "s.push(4)\n",
    "s.pop()"
   ]
  },
  {
   "cell_type": "code",
   "execution_count": 39,
   "id": "1a028430",
   "metadata": {},
   "outputs": [
    {
     "name": "stdout",
     "output_type": "stream",
     "text": [
      "2 -1\n"
     ]
    }
   ],
   "source": [
    "s2 = Stack()\n",
    "s2.push(2)\n",
    "s2.pop()\n",
    "s2.pop()\n",
    "s2.push(3)"
   ]
  },
  {
   "cell_type": "markdown",
   "id": "0c11dd7a",
   "metadata": {},
   "source": [
    "#### Question 4"
   ]
  },
  {
   "cell_type": "code",
   "execution_count": 48,
   "id": "a4932c15",
   "metadata": {},
   "outputs": [],
   "source": [
    "def insertAtBottom(stack, item):\n",
    "    if isEmpty(stack):\n",
    "        push(stack, item)\n",
    "    else:\n",
    "        temp = pop(stack)\n",
    "        insertAtBottom(stack, item)\n",
    "        push(stack, temp)\n",
    "\n",
    "def reverse(stack):\n",
    "    if not isEmpty(stack):\n",
    "        temp = pop(stack)\n",
    "        reverse(stack)\n",
    "        insertAtBottom(stack, temp)\n",
    "\n",
    "def createStack():\n",
    "    stack = []\n",
    "    return stack\n",
    "\n",
    "def isEmpty(stack):\n",
    "    return len(stack) == 0\n",
    "\n",
    "def push(stack, item):\n",
    "    stack.append(item)\n",
    "\n",
    "def pop(stack):\n",
    "\n",
    "    if(isEmpty(stack)):\n",
    "        print(\"Stack Underflow \")\n",
    "        exit(1)\n",
    " \n",
    "    return stack.pop()\n",
    "\n",
    "def prints(stack):\n",
    "    for i in range(len(stack)-1, -1, -1):\n",
    "        print(stack[i], end=' ')\n",
    "    print()\n",
    "    \n",
    "def insert(stack ,lst:list):\n",
    "    for i in lst[::-1]:\n",
    "        push(stack, i)\n",
    "    "
   ]
  },
  {
   "cell_type": "code",
   "execution_count": 49,
   "id": "f749953b",
   "metadata": {},
   "outputs": [
    {
     "name": "stdout",
     "output_type": "stream",
     "text": [
      "Original Stack \n",
      "3 2 1 7 6 \n",
      "Reversed Stack \n",
      "6 7 1 2 3 \n"
     ]
    }
   ],
   "source": [
    "St = [3,2,1,7,6]\n",
    "stack = createStack()\n",
    "insert(stack, St)\n",
    "print(\"Original Stack \")\n",
    "prints(stack)\n",
    " \n",
    "reverse(stack)\n",
    " \n",
    "print(\"Reversed Stack \")\n",
    "prints(stack)"
   ]
  },
  {
   "cell_type": "code",
   "execution_count": 50,
   "id": "d4e0383f",
   "metadata": {},
   "outputs": [
    {
     "name": "stdout",
     "output_type": "stream",
     "text": [
      "Original Stack \n",
      "4 3 9 6 \n",
      "Reversed Stack \n",
      "6 9 3 4 \n"
     ]
    }
   ],
   "source": [
    "St = [4,3,9,6]\n",
    "stack = createStack()\n",
    "insert(stack, St)\n",
    "print(\"Original Stack \")\n",
    "prints(stack)\n",
    " \n",
    "reverse(stack)\n",
    " \n",
    "print(\"Reversed Stack \")\n",
    "prints(stack)"
   ]
  },
  {
   "cell_type": "markdown",
   "id": "26b15f7f",
   "metadata": {},
   "source": [
    "#### Question 5"
   ]
  },
  {
   "cell_type": "code",
   "execution_count": 51,
   "id": "280e6fad",
   "metadata": {},
   "outputs": [],
   "source": [
    "def createStack():\n",
    "    stack = []\n",
    "    return stack\n",
    "\n",
    "def size(stack):\n",
    "    return len(stack)\n",
    " \n",
    "def isEmpty(stack):\n",
    "    if size(stack) == 0:\n",
    "        return true\n",
    "\n",
    "def push(stack, item):\n",
    "    stack.append(item)\n",
    "    \n",
    "def pop(stack):\n",
    "    if isEmpty(stack):\n",
    "        return\n",
    "    return stack.pop()\n",
    "\n",
    "def reverse(string):\n",
    "    n = len(string)\n",
    "    stack = createStack()\n",
    "    for i in range(0, n, 1):\n",
    "        push(stack, string[i])\n",
    "        \n",
    "    string = \"\"\n",
    "    for i in range(0, n, 1):\n",
    "        string += pop(stack)\n",
    " \n",
    "    return string"
   ]
  },
  {
   "cell_type": "code",
   "execution_count": 53,
   "id": "6a61c397",
   "metadata": {},
   "outputs": [
    {
     "name": "stdout",
     "output_type": "stream",
     "text": [
      "Reversed string = skeeGrofskeeG\n"
     ]
    }
   ],
   "source": [
    "S=\"GeeksforGeeks\"\n",
    "string = reverse(S)\n",
    "print(\"Reversed string = \" + string)"
   ]
  },
  {
   "cell_type": "markdown",
   "id": "20fad07b",
   "metadata": {},
   "source": [
    "#### Question 6"
   ]
  },
  {
   "cell_type": "code",
   "execution_count": 54,
   "id": "a61cd3cb",
   "metadata": {},
   "outputs": [],
   "source": [
    "class Evaluate:\n",
    "    def __init__(self, capacity):\n",
    "        self.top = -1\n",
    "        self.capacity = capacity\n",
    "        self.array = []\n",
    " \n",
    "    # Check if the stack is empty\n",
    "    def isEmpty(self):\n",
    "        return True if self.top == -1 else False\n",
    " \n",
    "    # Return the value of the top of the stack\n",
    "    def peek(self):\n",
    "        return self.array[-1]\n",
    " \n",
    "    # Pop the element from the stack\n",
    "    def pop(self):\n",
    "        if not self.isEmpty():\n",
    "            self.top -= 1\n",
    "            return self.array.pop()\n",
    "        else:\n",
    "            return \"$\"\n",
    " \n",
    "    # Push the element to the stack\n",
    "    def push(self, op):\n",
    "        self.top += 1\n",
    "        self.array.append(op)\n",
    "        \n",
    "    def evaluatePostfix(self, exp):\n",
    "        for i in exp:\n",
    "            if i.isdigit():\n",
    "                self.push(i)\n",
    "            else:\n",
    "                val1 = self.pop()\n",
    "                val2 = self.pop()\n",
    "                self.push(str(eval(val2 + i + val1)))\n",
    " \n",
    "        return int(self.pop())   "
   ]
  },
  {
   "cell_type": "code",
   "execution_count": 55,
   "id": "17b2dbf9",
   "metadata": {},
   "outputs": [
    {
     "name": "stdout",
     "output_type": "stream",
     "text": [
      "postfix evaluation: -4\n"
     ]
    }
   ],
   "source": [
    "exp = \"231*+9-\"\n",
    "obj = Evaluate(len(exp))\n",
    "print(\"postfix evaluation: %d\" % (obj.evaluatePostfix(exp)))"
   ]
  },
  {
   "cell_type": "code",
   "execution_count": 56,
   "id": "31f7fa51",
   "metadata": {},
   "outputs": [
    {
     "name": "stdout",
     "output_type": "stream",
     "text": [
      "postfix evaluation: -3\n"
     ]
    }
   ],
   "source": [
    "exp = \"123+*8-\"\n",
    "obj = Evaluate(len(exp))\n",
    "print(\"postfix evaluation: %d\" % (obj.evaluatePostfix(exp)))"
   ]
  },
  {
   "cell_type": "markdown",
   "id": "7ba17143",
   "metadata": {},
   "source": [
    "#### Question 7"
   ]
  },
  {
   "cell_type": "code",
   "execution_count": 57,
   "id": "1e164a29",
   "metadata": {},
   "outputs": [],
   "source": [
    "class MinStack:\n",
    "    def __init__(self):\n",
    "        self.stack = []\n",
    "        self.minstack = []\n",
    "\n",
    "    def push(self, val: int) -> None:\n",
    "        if not self.stack:\n",
    "            self.stack.append(val)\n",
    "            self.minstack.append(val)\n",
    "        else:\n",
    "            if val < self.minstack[-1]:\n",
    "                self.minstack.append(val)\n",
    "                self.stack.append(val)\n",
    "            else:\n",
    "                self.stack.append(val)\n",
    "                self.minstack.append(self.minstack[-1])\n",
    "\n",
    "    def pop(self) -> None:\n",
    "        self.stack.pop()\n",
    "        self.minstack.pop()\n",
    "\n",
    "    def top(self) -> int:\n",
    "        return self.stack[-1]\n",
    "\n",
    "    def getMin(self) -> int:\n",
    "        return self.minstack[-1]\n",
    "\n",
    "def result(steps:list, arr):\n",
    "    output = []\n",
    "    for i in steps:\n",
    "        if i == \"MinStack\":\n",
    "            minStack = MinStack()\n",
    "            output.append(\"null\")\n",
    "        elif i == \"push\":\n",
    "            minStack = MinStack()\n",
    "            output.append(\"null\")"
   ]
  },
  {
   "cell_type": "code",
   "execution_count": null,
   "id": "25b6b60d",
   "metadata": {},
   "outputs": [],
   "source": []
  },
  {
   "cell_type": "markdown",
   "id": "3df61fa0",
   "metadata": {},
   "source": [
    "#### Question 8"
   ]
  },
  {
   "cell_type": "code",
   "execution_count": 58,
   "id": "4bda6fe8",
   "metadata": {},
   "outputs": [],
   "source": [
    "from typing import List\n",
    "def trap(height: List[int]) -> int:\n",
    "    stack = []\n",
    "    ans = 0\n",
    "    maxTillNow = 0\n",
    "\n",
    "    for i in range(len(height)):\n",
    "        if len(stack) == 0:\n",
    "            stack.append(i)\n",
    "            maxTillNow = i\n",
    "        elif height[i] <= height[maxTillNow]:\n",
    "            stack.append(i)\n",
    "        else:\n",
    "            while len(stack) > 0 and height[maxTillNow] < height[i]:\n",
    "                ans += height[maxTillNow] - height[stack[-1]]\n",
    "                stack.pop()\n",
    "            if len(stack) == 0:\n",
    "                maxTillNow = i\n",
    "            stack.append(i)\n",
    "\n",
    "    while len(stack) > 0:\n",
    "        last = height[stack[-1]]\n",
    "        stack.pop()\n",
    "        while len(stack) > 0:\n",
    "            if height[stack[-1]] > last:\n",
    "                break\n",
    "            ans += (last - height[stack[-1]])\n",
    "            stack.pop()\n",
    "\n",
    "    return ans"
   ]
  },
  {
   "cell_type": "code",
   "execution_count": 59,
   "id": "73638721",
   "metadata": {},
   "outputs": [
    {
     "name": "stdout",
     "output_type": "stream",
     "text": [
      "Output =  6\n"
     ]
    }
   ],
   "source": [
    "height = [0,1,0,2,1,0,1,3,2,1,2,1]\n",
    "output = trap(height)\n",
    "print(\"Output = \", output)"
   ]
  },
  {
   "cell_type": "code",
   "execution_count": 60,
   "id": "eba8369e",
   "metadata": {},
   "outputs": [
    {
     "name": "stdout",
     "output_type": "stream",
     "text": [
      "Output =  9\n"
     ]
    }
   ],
   "source": [
    "height = [4,2,0,3,2,5]\n",
    "output = trap(height)\n",
    "print(\"Output = \", output)"
   ]
  },
  {
   "cell_type": "code",
   "execution_count": null,
   "id": "4d7048a7",
   "metadata": {},
   "outputs": [],
   "source": []
  }
 ],
 "metadata": {
  "kernelspec": {
   "display_name": "Python 3 (ipykernel)",
   "language": "python",
   "name": "python3"
  },
  "language_info": {
   "codemirror_mode": {
    "name": "ipython",
    "version": 3
   },
   "file_extension": ".py",
   "mimetype": "text/x-python",
   "name": "python",
   "nbconvert_exporter": "python",
   "pygments_lexer": "ipython3",
   "version": "3.9.12"
  }
 },
 "nbformat": 4,
 "nbformat_minor": 5
}
