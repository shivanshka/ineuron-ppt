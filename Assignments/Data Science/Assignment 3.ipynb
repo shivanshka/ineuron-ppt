{
 "cells": [
  {
   "cell_type": "markdown",
   "id": "9c37213b",
   "metadata": {},
   "source": [
    "1. Scenario: A company wants to analyze the sales performance of its products in different\n",
    "regions. They have collected the following data:\n",
    "Region A: [10, 15, 12, 8, 14]\n",
    "Region B: [18, 20, 16, 22, 25]\n",
    "Calculate the mean sales for each region."
   ]
  },
  {
   "cell_type": "markdown",
   "id": "29a35953",
   "metadata": {},
   "source": [
    "Ans:  \n",
    "    mean for region A = (10+15+12+8+14)/5 = 59/5 = 11.8  \n",
    "    mean for region B = (18+20+16+22+25)/5 = 101/5 = 20.5  \n",
    "\n",
    "    Since, average sales performance of region A is 11.8 and for region B is 20.5.  \n",
    "    Therefore, company sales performance was better in region B  "
   ]
  },
  {
   "cell_type": "code",
   "execution_count": 9,
   "id": "4035c5a8",
   "metadata": {},
   "outputs": [
    {
     "name": "stdout",
     "output_type": "stream",
     "text": [
      "Mean of A=  11.8\n",
      "Mean of B=  20.2\n"
     ]
    }
   ],
   "source": [
    "import numpy as np\n",
    "A= [10, 15, 12, 8, 14]\n",
    "B= [18, 20, 16, 22, 25]\n",
    "mean_A = np.mean(A)\n",
    "mean_B = np.mean(B)\n",
    "print(\"Mean of A= \",mean_A)\n",
    "print(\"Mean of B= \",mean_B)"
   ]
  },
  {
   "cell_type": "markdown",
   "id": "d145744e",
   "metadata": {},
   "source": [
    "2. Scenario: A survey is conducted to measure customer satisfaction on a scale of 1 to 5. The\n",
    "data collected is as follows:\n",
    "[4, 5, 2, 3, 5, 4, 3, 2, 4, 5]\n",
    "Calculate the mode of the survey responses."
   ]
  },
  {
   "cell_type": "markdown",
   "id": "a6cb46e1",
   "metadata": {},
   "source": [
    "Ans:  \n",
    "     For finding mode, we will first sort the data then count the high occurence of data point  \n",
    "     \n",
    "     Sorted data = [2, 2, 3, 3, 4, 4, 4, 5, 5, 5]  \n",
    "     Mode = 4  \n",
    "     Therefore, most of the customer rated 4 for their satisfaction level.  "
   ]
  },
  {
   "cell_type": "code",
   "execution_count": 8,
   "id": "a23a8a44",
   "metadata": {},
   "outputs": [
    {
     "name": "stdout",
     "output_type": "stream",
     "text": [
      "Mode = 4\n"
     ]
    }
   ],
   "source": [
    "import statistics\n",
    "l = [4, 5, 2, 3, 5, 4, 3, 2, 4, 5]\n",
    "l.sort()\n",
    "print(\"Mode =\",statistics.mode(l))"
   ]
  },
  {
   "cell_type": "markdown",
   "id": "12195878",
   "metadata": {},
   "source": [
    "3. Scenario: A company wants to compare the salaries of two departments. The salary data for\n",
    "Department A and Department B are as follows:  \n",
    "Department A: [5000, 6000, 5500, 7000]  \n",
    "Department B: [4500, 5500, 5800, 6000, 5200]  \n",
    "Calculate the median salary for each department.  "
   ]
  },
  {
   "cell_type": "markdown",
   "id": "e5c591de",
   "metadata": {},
   "source": [
    "Ans:  \n",
    "    For finding median, we will first sort the data in ascending order, then find the data point\n",
    "    that divides the data into two equal parts.  \n",
    "    \n",
    "    Sorted data for Department A = [5000, 5500, 6000, 7000]  \n",
    "    Sorted data for Department B = [4500, 5200, 5500, 5800, 6000]  \n",
    "    \n",
    "    Median for A = [(n/2)th term + (n/2 + 1)th term]/2 = (5500 + 6000)/2 = 5750  \n",
    "    Median for B = [(n+1)/2]th term = 3rd term = 5500  \n",
    "    \n",
    "    Therefore, median salary in Department A is 5750 and in Department B is 5500.  \n",
    "    So, Department A workers have higher salary than Deparment B   "
   ]
  },
  {
   "cell_type": "code",
   "execution_count": 12,
   "id": "65e152ee",
   "metadata": {},
   "outputs": [
    {
     "name": "stdout",
     "output_type": "stream",
     "text": [
      "Median for Department A =  5750.0\n",
      "Median for Department B =  5500\n"
     ]
    }
   ],
   "source": [
    "import statistics\n",
    "A = [5000, 6000, 5500, 7000]\n",
    "B = [4500, 5500, 5800, 6000, 5200]\n",
    "A.sort()\n",
    "B.sort()\n",
    "print(\"Median for Department A = \",statistics.median(A))\n",
    "print(\"Median for Department B = \",statistics.median(B))"
   ]
  },
  {
   "cell_type": "markdown",
   "id": "1e45bd54",
   "metadata": {},
   "source": [
    "4. Scenario: A data analyst wants to determine the variability in the daily stock prices of a\n",
    "company. The data collected is as follows:\n",
    "[25.5, 24.8, 26.1, 25.3, 24.9]\n",
    "Calculate the range of the stock prices"
   ]
  },
  {
   "cell_type": "markdown",
   "id": "d1aff391",
   "metadata": {},
   "source": [
    "Ans:\n",
    "\n",
    "    For finding range of a data, we need first sort the data, then find [Largest - Smallest]\n",
    "    which will give variability data according to range\n",
    "    \n",
    "    Sorted data = [24.8, 24.9, 25.3, 25.5, 26.1]\n",
    "    Range of stock prices = Largest - Smallest = 26.1 - 24.8 = 1.3\n",
    "    \n",
    "    Therefore,  we can say stock prices will fluctuate by 1.3 around mean daily."
   ]
  },
  {
   "cell_type": "code",
   "execution_count": 15,
   "id": "8a6f5060",
   "metadata": {},
   "outputs": [
    {
     "name": "stdout",
     "output_type": "stream",
     "text": [
      "Range of stock prices =  1.3\n"
     ]
    }
   ],
   "source": [
    "l = [25.5, 24.8, 26.1, 25.3, 24.9]\n",
    "l.sort()\n",
    "Range = round(l[-1] - l[0],2)\n",
    "print(\"Range of stock prices = \", Range)"
   ]
  },
  {
   "cell_type": "markdown",
   "id": "d539e124",
   "metadata": {},
   "source": [
    "5. Scenario: A study is conducted to compare the performance of two different teaching\n",
    "methods. The test scores of the students in each group are as follows:  \n",
    "Group A: [85, 90, 92, 88, 91]  \n",
    "Group B: [82, 88, 90, 86, 87]  \n",
    "Perform a t-test to determine if there is a significant difference in the mean scores between the\n",
    "two groups.  "
   ]
  },
  {
   "cell_type": "markdown",
   "id": "7c9656fb",
   "metadata": {},
   "source": [
    "Ans:\n",
    "\n",
    "    Ho : u1 = u2 : There is no significance difference in mean score between two groups\n",
    "    Ha : u1 != u2 : There is significance difference in mean score between two groups\n",
    "\n",
    "    level of significance, alpha = 0.05(5%)\n",
    "\n",
    "    mean score of group A, Xa = (85+90+92+88+91)/5 = 89.2\n",
    "    mean score of group B, Xb = (82+88+90+86+87)/5 = 86.6\n",
    "\n",
    "    standard deviation for group A, SDa = 2.77\n",
    "    standard deviation for group B, SDb = 2.97\n",
    "\n",
    "    Assuming, unequal variance for both the groups\n",
    "    t = (x1 - x2) / √((s1^2 / n1) + (s2^2 / n2))\n",
    "\n",
    "    t = (Xa - Xb) / √((SDa^2 / 5) + (SDb^2 / 5)) = 1.4325 (critical value)\n",
    "\n",
    "    degree of freedom, \n",
    "    df = [((SDa^2 / 5)+(SDb^2 / 5))^2] / [((SDa^2 / 5)^2 / 4) + ((SDb^2 / 5)^2 / 4)]\n",
    "    df = 7.96 = 8 (approx)\n",
    "    \n",
    "    t-values for two-tailed test = [-2.306, 2.306]\n",
    "    \n",
    "    Since, critical value lie in the above interval\n",
    "    Therefore,  we can't reject null hypothesis. Hence, there is no significanr difference in\n",
    "    mean scores of two group\n"
   ]
  },
  {
   "cell_type": "code",
   "execution_count": 26,
   "id": "ba03ec33",
   "metadata": {},
   "outputs": [
    {
     "name": "stdout",
     "output_type": "stream",
     "text": [
      "7.961431434420239\n"
     ]
    }
   ],
   "source": [
    "import math\n",
    "A = [85, 90, 92, 88, 91]\n",
    "B = [82, 88, 90, 86, 87]\n",
    "t = (89.2-86.6) / math.sqrt((2.77**2)/5 +(2.97**2)/5)\n",
    "df = (((2.77**2 / 5)+(2.97**2 / 5))**2) / (((2.77**2 / 5)**2 / 4) + ((2.97**2 / 5)**2 / 4))\n",
    "print(df)"
   ]
  },
  {
   "cell_type": "code",
   "execution_count": 41,
   "id": "a17f1641",
   "metadata": {},
   "outputs": [
    {
     "name": "stdout",
     "output_type": "stream",
     "text": [
      " Ho : u1 = u2 : There is no significance difference in mean score between two groups\n",
      " Ha : u1 != u2 : There is significance difference in mean score between two groups\n",
      "----------------------------------------\n",
      "\n",
      "Critical value = 1.4312528946642733\n",
      "P value = 0.19023970239078333\n",
      "\n",
      "Null hypothesis is not rejected. Therefore, there is no significant difference in mean scores of two group \n"
     ]
    }
   ],
   "source": [
    "import scipy.stats as stats\n",
    "A = [85, 90, 92, 88, 91]\n",
    "B = [82, 88, 90, 86, 87]\n",
    "\n",
    "alpha = 0.05 # level of significance\n",
    "t_value, p_value = stats.ttest_ind(A,B,alternative='two-sided')\n",
    "\n",
    "print(\"\"\" Ho : u1 = u2 : There is no significance difference in mean score between two groups\n",
    " Ha : u1 != u2 : There is significance difference in mean score between two groups\"\"\")\n",
    "\n",
    "print(f\"{'-'*40}\\n\")\n",
    "print(f\"Critical value = {t_value}\\nP value = {p_value}\\n\")\n",
    "\n",
    "if p_value >0.05:\n",
    "    print(\"Null hypothesis is not rejected. Therefore, there is no significant difference in mean scores of two group \")\n",
    "else:\n",
    "    print(\"Null hypothesis is rejected. Therefore, there is significant difference in mean scores of two group \")\n"
   ]
  },
  {
   "cell_type": "markdown",
   "id": "fc98e9dc",
   "metadata": {},
   "source": [
    "6. Scenario: A company wants to analyze the relationship between advertising expenditure and\n",
    "sales. The data collected is as follows:  \n",
    "Advertising Expenditure (in thousands): [10, 15, 12, 8, 14]  \n",
    "Sales (in thousands): [25, 30, 28, 20, 26]  \n",
    "Calculate the correlation coefficient between advertising expenditure and sales.  "
   ]
  },
  {
   "cell_type": "code",
   "execution_count": 40,
   "id": "cd9687e2",
   "metadata": {},
   "outputs": [
    {
     "name": "stdout",
     "output_type": "stream",
     "text": [
      "Correlation Cofficient =  0.8757511375750133\n",
      "Since, correlation coefficient is very high (very close to 1) \n",
      "we can say that Advertising Expenditures and Sales are highly linearly correlated. \n",
      "Therefore, we can say that Sales might increase on increasing advertising expenditure\n"
     ]
    }
   ],
   "source": [
    "import scipy.stats as stats\n",
    "X = [10, 15, 12, 8, 14]\n",
    "Y = [25, 30, 28, 20, 26]\n",
    "corr, _ = stats.pearsonr(X,Y)\n",
    "print(\"Correlation Cofficient = \",corr)\n",
    "print(\"\"\"Since, correlation coefficient is very high (very close to 1) \n",
    "we can say that Advertising Expenditures and Sales are highly linearly correlated. \n",
    "Therefore, we can say that Sales might increase on increasing advertising expenditure\"\"\")"
   ]
  },
  {
   "cell_type": "markdown",
   "id": "c4ed31c4",
   "metadata": {},
   "source": [
    "7. Scenario: A survey is conducted to measure the heights of a group of people. The data\n",
    "collected is as follows:  \n",
    "[160, 170, 165, 155, 175, 180, 170]  \n",
    "Calculate the standard deviation of the heights.  "
   ]
  },
  {
   "cell_type": "code",
   "execution_count": 45,
   "id": "06ad943e",
   "metadata": {},
   "outputs": [
    {
     "name": "stdout",
     "output_type": "stream",
     "text": [
      "Standard Deviation of Heights =  8.591246929842246\n",
      "Therefore,  we can say that, height of a person in group varies by 8.6 cm\n"
     ]
    }
   ],
   "source": [
    "import statistics\n",
    "X = [160, 170, 165, 155, 175, 180, 170]\n",
    "std = statistics.stdev(X)\n",
    "print(\"Standard Deviation of Heights = \",std)\n",
    "print(\"Therefore,  we can say that, height of a person in group varies by 8.6 cm\")"
   ]
  },
  {
   "cell_type": "markdown",
   "id": "4d76fca3",
   "metadata": {},
   "source": [
    "8. Scenario: A company wants to analyze the relationship between employee tenure and job\n",
    "satisfaction. The data collected is as follows:  \n",
    "Employee Tenure (in years): [2, 3, 5, 4, 6, 2, 4]  \n",
    "Job Satisfaction (on a scale of 1 to 10): [7, 8, 6, 9, 5, 7, 6]  \n",
    "Perform a linear regression analysis to predict job satisfaction based on employee tenure.  "
   ]
  },
  {
   "cell_type": "code",
   "execution_count": 74,
   "id": "4bbe2783",
   "metadata": {},
   "outputs": [
    {
     "name": "stdout",
     "output_type": "stream",
     "text": [
      "                            OLS Regression Results                            \n",
      "==============================================================================\n",
      "Dep. Variable:                      y   R-squared:                       0.271\n",
      "Model:                            OLS   Adj. R-squared:                  0.125\n",
      "Method:                 Least Squares   F-statistic:                     1.859\n",
      "Date:                Tue, 11 Jul 2023   Prob (F-statistic):              0.231\n",
      "Time:                        22:56:40   Log-Likelihood:                -10.362\n",
      "No. Observations:                   7   AIC:                             24.72\n",
      "Df Residuals:                       5   BIC:                             24.62\n",
      "Df Model:                           1                                         \n",
      "Covariance Type:            nonrobust                                         \n",
      "==============================================================================\n",
      "                 coef    std err          t      P>|t|      [0.025      0.975]\n",
      "------------------------------------------------------------------------------\n",
      "const          8.5957      1.361      6.316      0.001       5.097      12.094\n",
      "x1            -0.4681      0.343     -1.363      0.231      -1.351       0.414\n",
      "==============================================================================\n",
      "Omnibus:                          nan   Durbin-Watson:                   2.414\n",
      "Prob(Omnibus):                    nan   Jarque-Bera (JB):                1.954\n",
      "Skew:                           1.292   Prob(JB):                        0.376\n",
      "Kurtosis:                       3.166   Cond. No.                         12.0\n",
      "==============================================================================\n",
      "\n",
      "Notes:\n",
      "[1] Standard Errors assume that the covariance matrix of the errors is correctly specified.\n"
     ]
    },
    {
     "name": "stderr",
     "output_type": "stream",
     "text": [
      "D:\\Anaconda\\lib\\site-packages\\statsmodels\\stats\\stattools.py:74: ValueWarning: omni_normtest is not valid with less than 8 observations; 7 samples were given.\n",
      "  warn(\"omni_normtest is not valid with less than 8 observations; %i \"\n"
     ]
    }
   ],
   "source": [
    "import scipy.stats as stats\n",
    "import statsmodels.api as sm\n",
    "employee = [2, 3, 5, 4, 6, 2, 4]\n",
    "job_sats = [7, 8, 6, 9, 5, 7, 6]\n",
    "\n",
    "employee = sm.add_constant(employee)\n",
    "result = sm.OLS(job_sats, employee).fit()\n",
    "print(result.summary())"
   ]
  },
  {
   "cell_type": "markdown",
   "id": "93b08892",
   "metadata": {},
   "source": [
    "Based on above regression analysis, there is inverse relationship between employee tenure and job satisfaction. We can say that based on above data, with 1 year increase in eomployee tenure job satisfaction rating will decrease by 0.4."
   ]
  },
  {
   "cell_type": "markdown",
   "id": "de3e920a",
   "metadata": {},
   "source": [
    "9. Scenario: A study is conducted to compare the effectiveness of two different medications.\n",
    "The recovery times of the patients in each group are as follows:  \n",
    "Medication A: [10, 12, 14, 11, 13]  \n",
    "Medication B: [15, 17, 16, 14, 18]  \n",
    "Perform an analysis of variance (ANOVA) to determine if there is a significant difference in the\n",
    "mean recovery times between the two medications.  "
   ]
  },
  {
   "cell_type": "code",
   "execution_count": 47,
   "id": "0895b7b1",
   "metadata": {},
   "outputs": [
    {
     "name": "stdout",
     "output_type": "stream",
     "text": [
      " Ho : u1 = u2 : There is no significance difference in mean recovery time between two medications\n",
      " Ha : u1 != u2 : There is significance difference in mean recovery time between two medications\n",
      "----------------------------------------\n",
      "\n",
      "Critical value = 16.0\n",
      "P value = 0.003949772803445326\n",
      "\n",
      "Null hypothesis is rejected. Therefore, there is significant difference in mean recovery time between two medications \n"
     ]
    }
   ],
   "source": [
    "import scipy.stats as stats\n",
    "A = [10, 12, 14, 11, 13]\n",
    "B = [15, 17, 16, 14, 18]\n",
    "\n",
    "alpha = 0.01 # (1%)level of significance (Healthcare domain that's why smaller alpha)\n",
    "f_value, p_value = stats.f_oneway(A,B)\n",
    "\n",
    "print(\"\"\" Ho : u1 = u2 : There is no significance difference in mean recovery time between two medications\n",
    " Ha : u1 != u2 : There is significance difference in mean recovery time between two medications\"\"\")\n",
    "\n",
    "print(f\"{'-'*40}\\n\")\n",
    "print(f\"Critical value = {f_value}\\nP value = {p_value}\\n\")\n",
    "\n",
    "if p_value >0.01:\n",
    "    print(\"Null hypothesis is not rejected. Therefore, there is no significant difference in mean recovery time between two medications \")\n",
    "else:\n",
    "    print(\"Null hypothesis is rejected. Therefore, there is significant difference in mean recovery time between two medications \")\n"
   ]
  },
  {
   "cell_type": "markdown",
   "id": "39c3580d",
   "metadata": {},
   "source": [
    "10. Scenario: A company wants to analyze customer feedback ratings on a scale of 1 to 10. The\n",
    "data collected is as follows:  \n",
    "[8, 9, 7, 6, 8, 10, 9, 8, 7, 8]  \n",
    "Calculate the 75th percentile of the feedback ratings.  "
   ]
  },
  {
   "cell_type": "raw",
   "id": "84006ca3",
   "metadata": {},
   "source": [
    "Ans: \n",
    "    "
   ]
  },
  {
   "cell_type": "code",
   "execution_count": 58,
   "id": "1b950f69",
   "metadata": {},
   "outputs": [
    {
     "name": "stdout",
     "output_type": "stream",
     "text": [
      "75th percentile of feedback ratings =  8.75\n"
     ]
    }
   ],
   "source": [
    "import numpy as np\n",
    "X = [8, 9, 7, 6, 8, 10, 9, 8, 7, 8]\n",
    "X.sort()\n",
    "per_75 = np.percentile(X,75)\n",
    "print(\"75th percentile of feedback ratings = \",per_75)"
   ]
  },
  {
   "cell_type": "markdown",
   "id": "3bb28c78",
   "metadata": {},
   "source": [
    "11. Scenario: A quality control department wants to test the weight consistency of a product.\n",
    "The weights of a sample of products are as follows:  \n",
    "[10.2, 9.8, 10.0, 10.5, 10.3, 10.1]  \n",
    "Perform a hypothesis test to determine if the mean weight differs significantly from 10 grams.  "
   ]
  },
  {
   "cell_type": "code",
   "execution_count": 61,
   "id": "ce920645",
   "metadata": {},
   "outputs": [
    {
     "name": "stdout",
     "output_type": "stream",
     "text": [
      " Ho : u = 10 : the mean weight do not differs significantly from 10 grams\n",
      " Ha : u != 10 : the mean weight differs significantly from 10 grams\n",
      "----------------------------------------\n",
      "\n",
      "Critical value = 1.5126584522688367\n",
      "P value = 0.19077595151110102\n",
      "\n",
      "Null hypothesis is not rejected. Therefore, the mean weight do not differs significantly from 10 grams\n"
     ]
    }
   ],
   "source": [
    "### Since, sample size < 30 and population standard deviation is unknown. So we use t-test here\n",
    "import scipy.stats as stats\n",
    "A = [10.2, 9.8, 10.0, 10.5, 10.3, 10.1]\n",
    "u =10 ## pop mean\n",
    "\n",
    "alpha = 0.05 # level of significance\n",
    "t_value, p_value = stats.ttest_1samp(A,u)\n",
    "\n",
    "print(\"\"\" Ho : u = 10 : the mean weight do not differs significantly from 10 grams\n",
    " Ha : u != 10 : the mean weight differs significantly from 10 grams\"\"\")\n",
    "\n",
    "print(f\"{'-'*40}\\n\")\n",
    "print(f\"Critical value = {t_value}\\nP value = {p_value}\\n\")\n",
    "\n",
    "if p_value >0.05:\n",
    "    print(\"Null hypothesis is not rejected. Therefore, the mean weight do not differs significantly from 10 grams\")\n",
    "else:\n",
    "    print(\"Null hypothesis is rejected. Therefore, the mean weight differs significantly from 10 grams\")\n"
   ]
  },
  {
   "cell_type": "markdown",
   "id": "1992ca99",
   "metadata": {},
   "source": [
    "12. Scenario: A company wants to analyze the click-through rates of two different website\n",
    "designs. The number of clicks for each design is as follows:  \n",
    "Design A: [100, 120, 110, 90, 95]  \n",
    "Design B: [80, 85, 90, 95, 100]  \n",
    "Perform a chi-square test to determine if there is a significant difference in the click-through\n",
    "rates between the two designs.  "
   ]
  },
  {
   "cell_type": "code",
   "execution_count": null,
   "id": "acbea398",
   "metadata": {},
   "outputs": [],
   "source": [
    "import scipy.stats as stats\n",
    "A= [100, 120, 110, 90, 95]\n",
    "B= [80, 85, 90, 95, 100]\n",
    "    \n",
    "alpha = 0.05 # level of significance\n",
    "t_value, p_value = stats.ttest_1samp(A,u)\n",
    "\n",
    "print(\"\"\" Ho : u = 10 : the mean weight do not differs significantly from 10 grams\n",
    " Ha : u != 10 : the mean weight differs significantly from 10 grams\"\"\")\n",
    "\n",
    "print(f\"{'-'*40}\\n\")\n",
    "print(f\"Critical value = {t_value}\\nP value = {p_value}\\n\")\n",
    "\n",
    "if p_value >0.05:\n",
    "    print(\"Null hypothesis is not rejected. Therefore, the mean weight do not differs significantly from 10 grams\")\n",
    "else:\n",
    "    print(\"Null hypothesis is rejected. Therefore, the mean weight differs significantly from 10 grams\")\n"
   ]
  },
  {
   "cell_type": "markdown",
   "id": "92be7b2f",
   "metadata": {},
   "source": [
    "13. Scenario: A survey is conducted to measure customer satisfaction with a product on a scale\n",
    "of 1 to 10. The data collected is as follows:  \n",
    "[7, 9, 6, 8, 10, 7, 8, 9, 7, 8]  \n",
    "Calculate the 95% confidence interval for the population mean satisfaction score.  "
   ]
  },
  {
   "cell_type": "code",
   "execution_count": 65,
   "id": "586f0853",
   "metadata": {},
   "outputs": [
    {
     "name": "stdout",
     "output_type": "stream",
     "text": [
      "Sample Mean = 7.9\n",
      "Standard Error = 0.3785938897200182\n",
      "95% Confidence Interval for population mean of satisfaction score \n",
      " (7.043561120599888, 8.756438879400113)\n"
     ]
    }
   ],
   "source": [
    "### Since, sample size < 30, therfore, it will follow t-distribution\n",
    "import statistics\n",
    "import scipy.stats as st\n",
    "A = [7, 9, 6, 8, 10, 7, 8, 9, 7, 8]\n",
    "mean = statistics.mean(A)\n",
    "standard_error = st.sem(A)\n",
    "print(f\"Sample Mean = {mean}\\nStandard Error = {standard_error}\")\n",
    "CI = st.t.interval(alpha=0.95,\n",
    "                   loc=mean,\n",
    "                   scale=standard_error,\n",
    "                   df=len(A)-1)\n",
    "print(\"95% Confidence Interval for population mean of satisfaction score \\n\",CI)"
   ]
  },
  {
   "cell_type": "markdown",
   "id": "8a81c990",
   "metadata": {},
   "source": [
    "14. Scenario: A company wants to analyze the effect of temperature on product performance.\n",
    "The data collected is as follows:  \n",
    "Temperature (in degrees Celsius): [20, 22, 23, 19, 21]  \n",
    "Performance (on a scale of 1 to 10): [8, 7, 9, 6, 8]  \n",
    "Perform a simple linear regression to predict performance based on temperature.  "
   ]
  },
  {
   "cell_type": "code",
   "execution_count": 75,
   "id": "2c9963cd",
   "metadata": {},
   "outputs": [
    {
     "name": "stdout",
     "output_type": "stream",
     "text": [
      "                            OLS Regression Results                            \n",
      "==============================================================================\n",
      "Dep. Variable:                      y   R-squared:                       0.481\n",
      "Model:                            OLS   Adj. R-squared:                  0.308\n",
      "Method:                 Least Squares   F-statistic:                     2.778\n",
      "Date:                Tue, 11 Jul 2023   Prob (F-statistic):              0.194\n",
      "Time:                        23:03:36   Log-Likelihood:                -5.5542\n",
      "No. Observations:                   5   AIC:                             15.11\n",
      "Df Residuals:                       3   BIC:                             14.33\n",
      "Df Model:                           1                                         \n",
      "Covariance Type:            nonrobust                                         \n",
      "==============================================================================\n",
      "                 coef    std err          t      P>|t|      [0.025      0.975]\n",
      "------------------------------------------------------------------------------\n",
      "const         -2.9000      6.314     -0.459      0.677     -22.995      17.195\n",
      "x1             0.5000      0.300      1.667      0.194      -0.455       1.455\n",
      "==============================================================================\n",
      "Omnibus:                          nan   Durbin-Watson:                   3.056\n",
      "Prob(Omnibus):                    nan   Jarque-Bera (JB):                0.522\n",
      "Skew:                          -0.348   Prob(JB):                        0.770\n",
      "Kurtosis:                       1.578   Cond. No.                         314.\n",
      "==============================================================================\n",
      "\n",
      "Notes:\n",
      "[1] Standard Errors assume that the covariance matrix of the errors is correctly specified.\n"
     ]
    },
    {
     "name": "stderr",
     "output_type": "stream",
     "text": [
      "D:\\Anaconda\\lib\\site-packages\\statsmodels\\stats\\stattools.py:74: ValueWarning: omni_normtest is not valid with less than 8 observations; 5 samples were given.\n",
      "  warn(\"omni_normtest is not valid with less than 8 observations; %i \"\n"
     ]
    }
   ],
   "source": [
    "import scipy.stats as stats\n",
    "import statsmodels.api as sm\n",
    "temp = [20, 22, 23, 19, 21]\n",
    "perf = [8, 7, 9, 6, 8]\n",
    "\n",
    "temp = sm.add_constant(temp)\n",
    "result = sm.OLS(perf, temp).fit()\n",
    "print(result.summary())"
   ]
  },
  {
   "cell_type": "markdown",
   "id": "7f8ca741",
   "metadata": {},
   "source": [
    "**Conclusion:**\n",
    "On the basis of above regression analysis,  we can say that, when temperature is higher, product performance better precisely,  when temperature increases by 1 C then product performance will increase by 0.5."
   ]
  },
  {
   "cell_type": "markdown",
   "id": "dec3691f",
   "metadata": {},
   "source": [
    "15. Scenario: A study is conducted to compare the preferences of two groups of participants.\n",
    "The preferences are measured on a Likert scale from 1 to 5. The data collected is as follows:  \n",
    "Group A: [4, 3, 5, 2, 4]  \n",
    "Group B: [3, 2, 4, 3, 3]  \n",
    "Perform a Mann-Whitney U test to determine if there is a significant difference in the median\n",
    "preferences between the two groups.  "
   ]
  },
  {
   "cell_type": "code",
   "execution_count": 70,
   "id": "5a3b3d66",
   "metadata": {},
   "outputs": [
    {
     "name": "stdout",
     "output_type": "stream",
     "text": [
      " Ho: There is no significant difference in the median preferences between the two groups\n",
      " Ha: There is a significant difference in the median preferences between the two groups\n",
      "----------------------------------------\n",
      "\n",
      "Critical value = 17.0\n",
      "P value = 0.380836480306712\n",
      "\n",
      "Null hypothesis is not rejected. Therefore, There is no significant difference in the median preferences between the two groups\n"
     ]
    }
   ],
   "source": [
    "import scipy.stats as stats\n",
    "A= [4, 3, 5, 2, 4]\n",
    "B= [3, 2, 4, 3, 3]\n",
    "    \n",
    "alpha = 0.05 # level of significance\n",
    "crit_value, p_value = stats.mannwhitneyu(A,B,alternative='two-sided')\n",
    "\n",
    "print(\"\"\" Ho: There is no significant difference in the median preferences between the two groups\n",
    " Ha: There is a significant difference in the median preferences between the two groups\"\"\")\n",
    "\n",
    "print(f\"{'-'*40}\\n\")\n",
    "print(f\"Critical value = {crit_value}\\nP value = {p_value}\\n\")\n",
    "\n",
    "if p_value >0.05:\n",
    "    print(\"Null hypothesis is not rejected. Therefore, There is no significant difference in the median preferences between the two groups\")\n",
    "else:\n",
    "    print(\"Null hypothesis is rejected. Therefore, There is significant difference in the median preferences between the two groups\")\n"
   ]
  },
  {
   "cell_type": "markdown",
   "id": "def67e7b",
   "metadata": {},
   "source": [
    "16. Scenario: A company wants to analyze the distribution of customer ages. The data collected\n",
    "is as follows:  \n",
    "[25, 30, 35, 40, 45, 50, 55, 60, 65, 70]  \n",
    "Calculate the interquartile range (IQR) of the ages.  "
   ]
  },
  {
   "cell_type": "code",
   "execution_count": 68,
   "id": "d55cd64b",
   "metadata": {},
   "outputs": [
    {
     "name": "stdout",
     "output_type": "stream",
     "text": [
      "Interquartile range (IQR) of the ages =  22.5\n"
     ]
    }
   ],
   "source": [
    "import scipy.stats as stats\n",
    "A = [25, 30, 35, 40, 45, 50, 55, 60, 65, 70]\n",
    "iqr = stats.iqr(A)\n",
    "print(\"Interquartile range (IQR) of the ages = \",iqr)"
   ]
  },
  {
   "cell_type": "markdown",
   "id": "4700f66c",
   "metadata": {},
   "source": [
    "17. Scenario: A study is conducted to compare the performance of three different machine\n",
    "learning algorithms. The accuracy scores for each algorithm are as follows:  \n",
    "Algorithm A: [0.85, 0.80, 0.82, 0.87, 0.83]  \n",
    "Algorithm B: [0.78, 0.82, 0.84, 0.80, 0.79]  \n",
    "Algorithm C: [0.90, 0.88, 0.89, 0.86, 0.87]  \n",
    "Perform a Kruskal-Wallis test to determine if there is a significant difference in the median\n",
    "accuracy scores between the algorithms."
   ]
  },
  {
   "cell_type": "code",
   "execution_count": 71,
   "id": "42f44260",
   "metadata": {},
   "outputs": [
    {
     "name": "stdout",
     "output_type": "stream",
     "text": [
      " Ho: There is no significant difference in the median accuracy scores between the algorithms.\n",
      " Ha: There is a significant difference in the median accuracy scores between the algorithms.\n",
      "----------------------------------------\n",
      "\n",
      "Critical value = 9.696947935368053\n",
      "P value = 0.007840333026249539\n",
      "\n",
      "Null hypothesis is rejected. Therefore, There is significant difference in the median accuracy scores between the algorithms.\n"
     ]
    }
   ],
   "source": [
    "import scipy.stats as stats\n",
    "A= [0.85, 0.80, 0.82, 0.87, 0.83]\n",
    "B= [0.78, 0.82, 0.84, 0.80, 0.79]\n",
    "C= [0.90, 0.88, 0.89, 0.86, 0.87] \n",
    "\n",
    "alpha = 0.05 # level of significance\n",
    "h_value, p_value = stats.kruskal(A,B,C)\n",
    "\n",
    "print(\"\"\" Ho: There is no significant difference in the median accuracy scores between the algorithms.\n",
    " Ha: There is a significant difference in the median accuracy scores between the algorithms.\"\"\")\n",
    "\n",
    "print(f\"{'-'*40}\\n\")\n",
    "print(f\"Critical value = {h_value}\\nP value = {p_value}\\n\")\n",
    "\n",
    "if p_value >0.05:\n",
    "    print(\"Null hypothesis is not rejected. Therefore, There is no significant difference in the median accuracy scores between the algorithms.\")\n",
    "else:\n",
    "    print(\"Null hypothesis is rejected. Therefore, There is significant difference in the median accuracy scores between the algorithms.\")\n"
   ]
  },
  {
   "cell_type": "markdown",
   "id": "b3ce88ff",
   "metadata": {},
   "source": [
    "18. Scenario: A company wants to analyze the effect of price on sales. The data collected is as\n",
    "follows:  \n",
    "Price (in dollars): [10, 15, 12, 8, 14]  \n",
    "Sales: [100, 80, 90, 110, 95]  \n",
    "Perform a simple linear regression to predict sales based on price."
   ]
  },
  {
   "cell_type": "code",
   "execution_count": 79,
   "id": "ed71221f",
   "metadata": {},
   "outputs": [
    {
     "name": "stdout",
     "output_type": "stream",
     "text": [
      "                            OLS Regression Results                            \n",
      "==============================================================================\n",
      "Dep. Variable:                      y   R-squared:                       0.806\n",
      "Model:                            OLS   Adj. R-squared:                  0.742\n",
      "Method:                 Least Squares   F-statistic:                     12.50\n",
      "Date:                Tue, 11 Jul 2023   Prob (F-statistic):             0.0385\n",
      "Time:                        23:16:25   Log-Likelihood:                -14.503\n",
      "No. Observations:                   5   AIC:                             33.01\n",
      "Df Residuals:                       3   BIC:                             32.22\n",
      "Df Model:                           1                                         \n",
      "Covariance Type:            nonrobust                                         \n",
      "==============================================================================\n",
      "                 coef    std err          t      P>|t|      [0.025      0.975]\n",
      "------------------------------------------------------------------------------\n",
      "const        136.3720     11.976     11.387      0.001      98.259     174.485\n",
      "x1            -3.5061      0.992     -3.535      0.039      -6.663      -0.350\n",
      "==============================================================================\n",
      "Omnibus:                          nan   Durbin-Watson:                   0.811\n",
      "Prob(Omnibus):                    nan   Jarque-Bera (JB):                0.632\n",
      "Skew:                           0.770   Prob(JB):                        0.729\n",
      "Kurtosis:                       2.186   Cond. No.                         57.3\n",
      "==============================================================================\n",
      "\n",
      "Notes:\n",
      "[1] Standard Errors assume that the covariance matrix of the errors is correctly specified.\n"
     ]
    },
    {
     "name": "stderr",
     "output_type": "stream",
     "text": [
      "D:\\Anaconda\\lib\\site-packages\\statsmodels\\stats\\stattools.py:74: ValueWarning: omni_normtest is not valid with less than 8 observations; 5 samples were given.\n",
      "  warn(\"omni_normtest is not valid with less than 8 observations; %i \"\n"
     ]
    }
   ],
   "source": [
    "import scipy.stats as stats\n",
    "import statsmodels.api as sm\n",
    "price = [10, 15, 12, 8, 14]\n",
    "sales = [100, 80, 90, 110, 95]\n",
    "\n",
    "price = sm.add_constant(price)\n",
    "result = sm.OLS(sales, price).fit()\n",
    "print(result.summary())"
   ]
  },
  {
   "cell_type": "markdown",
   "id": "2c42bf00",
   "metadata": {},
   "source": [
    "**Conclusion:**  \n",
    "Based on the above regression analysis, as expected,there is inverse relationship between price and sales. It means higher the price, lower the sales. Precisely, on increasing price by 1 dollar, sales will decrease by around around 3.5."
   ]
  },
  {
   "cell_type": "markdown",
   "id": "bc59e0ef",
   "metadata": {},
   "source": [
    "19. Scenario: A survey is conducted to measure the satisfaction levels of customers with a new\n",
    "product. The data collected is as follows:  \n",
    "[7, 8, 9, 6, 8, 7, 9, 7, 8, 7]  \n",
    "Calculate the standard error of the mean satisfaction score."
   ]
  },
  {
   "cell_type": "code",
   "execution_count": 66,
   "id": "7768e32a",
   "metadata": {},
   "outputs": [
    {
     "name": "stdout",
     "output_type": "stream",
     "text": [
      "Sample Mean = 7.6\n",
      "Standard Error = 0.30550504633038933\n"
     ]
    }
   ],
   "source": [
    "import statistics\n",
    "import scipy.stats as st\n",
    "A = [7, 8, 9, 6, 8, 7, 9, 7, 8, 7]\n",
    "mean = statistics.mean(A)\n",
    "standard_error = st.sem(A)\n",
    "print(f\"Sample Mean = {mean}\\nStandard Error = {standard_error}\")"
   ]
  },
  {
   "cell_type": "markdown",
   "id": "453561e6",
   "metadata": {},
   "source": [
    "20. Scenario: A company wants to analyze the relationship between advertising expenditure\n",
    "and sales. The data collected is as follows:  \n",
    "Advertising Expenditure (in thousands): [10, 15, 12, 8, 14]  \n",
    "Sales (in thousands): [25, 30, 28, 20, 26]  \n",
    "Perform a multiple regression analysis to predict sales based on advertising expenditure."
   ]
  },
  {
   "cell_type": "code",
   "execution_count": 78,
   "id": "fd427b4a",
   "metadata": {},
   "outputs": [
    {
     "name": "stdout",
     "output_type": "stream",
     "text": [
      "                            OLS Regression Results                            \n",
      "==============================================================================\n",
      "Dep. Variable:                      y   R-squared:                       0.767\n",
      "Model:                            OLS   Adj. R-squared:                  0.689\n",
      "Method:                 Least Squares   F-statistic:                     9.872\n",
      "Date:                Tue, 11 Jul 2023   Prob (F-statistic):             0.0516\n",
      "Time:                        23:10:57   Log-Likelihood:                -9.5288\n",
      "No. Observations:                   5   AIC:                             23.06\n",
      "Df Residuals:                       3   BIC:                             22.28\n",
      "Df Model:                           1                                         \n",
      "Covariance Type:            nonrobust                                         \n",
      "==============================================================================\n",
      "                 coef    std err          t      P>|t|      [0.025      0.975]\n",
      "------------------------------------------------------------------------------\n",
      "const         12.2012      4.429      2.755      0.070      -1.893      26.296\n",
      "x1             1.1524      0.367      3.142      0.052      -0.015       2.320\n",
      "==============================================================================\n",
      "Omnibus:                          nan   Durbin-Watson:                   1.136\n",
      "Prob(Omnibus):                    nan   Jarque-Bera (JB):                0.546\n",
      "Skew:                          -0.267   Prob(JB):                        0.761\n",
      "Kurtosis:                       1.471   Cond. No.                         57.3\n",
      "==============================================================================\n",
      "\n",
      "Notes:\n",
      "[1] Standard Errors assume that the covariance matrix of the errors is correctly specified.\n"
     ]
    },
    {
     "name": "stderr",
     "output_type": "stream",
     "text": [
      "D:\\Anaconda\\lib\\site-packages\\statsmodels\\stats\\stattools.py:74: ValueWarning: omni_normtest is not valid with less than 8 observations; 5 samples were given.\n",
      "  warn(\"omni_normtest is not valid with less than 8 observations; %i \"\n"
     ]
    }
   ],
   "source": [
    "import scipy.stats as stats\n",
    "import statsmodels.api as sm\n",
    "ad_exp = [10, 15, 12, 8, 14]\n",
    "sales = [25, 30, 28, 20, 26]\n",
    "\n",
    "ad_exp = sm.add_constant(ad_exp)\n",
    "result = sm.OLS(sales, ad_exp).fit()\n",
    "print(result.summary())"
   ]
  },
  {
   "cell_type": "markdown",
   "id": "ab158fb1",
   "metadata": {},
   "source": [
    "**Conclusion:**  \n",
    "Based on the above regression analysis, there is positive relationship between advertising expenditure and sales. It means higher the advertising expenditure, higher the sales. Precisely, on increasing expenditure on advertising by 1000, sales will increase by around 1150."
   ]
  },
  {
   "cell_type": "code",
   "execution_count": null,
   "id": "ba6126e3",
   "metadata": {},
   "outputs": [],
   "source": []
  }
 ],
 "metadata": {
  "kernelspec": {
   "display_name": "Python 3 (ipykernel)",
   "language": "python",
   "name": "python3"
  },
  "language_info": {
   "codemirror_mode": {
    "name": "ipython",
    "version": 3
   },
   "file_extension": ".py",
   "mimetype": "text/x-python",
   "name": "python",
   "nbconvert_exporter": "python",
   "pygments_lexer": "ipython3",
   "version": "3.9.12"
  }
 },
 "nbformat": 4,
 "nbformat_minor": 5
}
