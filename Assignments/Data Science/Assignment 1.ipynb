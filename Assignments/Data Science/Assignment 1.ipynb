{
 "cells": [
  {
   "cell_type": "markdown",
   "id": "81e7be5c",
   "metadata": {},
   "source": [
    "## Assignment 1"
   ]
  },
  {
   "cell_type": "markdown",
   "id": "3e135a59",
   "metadata": {},
   "source": [
    "1. Write a Python program to reverse a string without using any built-in string reversal functions."
   ]
  },
  {
   "cell_type": "code",
   "execution_count": 1,
   "id": "90c687c8",
   "metadata": {},
   "outputs": [],
   "source": [
    "def reverse_string(string:str):\n",
    "    return string[::-1]"
   ]
  },
  {
   "cell_type": "code",
   "execution_count": 2,
   "id": "b46d8f3b",
   "metadata": {},
   "outputs": [
    {
     "data": {
      "text/plain": [
       "'hsnavihS'"
      ]
     },
     "execution_count": 2,
     "metadata": {},
     "output_type": "execute_result"
    }
   ],
   "source": [
    "reverse_string(\"Shivansh\")"
   ]
  },
  {
   "cell_type": "markdown",
   "id": "72d3b333",
   "metadata": {},
   "source": [
    "2. Implement a function to check if a given string is a palindrome."
   ]
  },
  {
   "cell_type": "code",
   "execution_count": 36,
   "id": "000aca10",
   "metadata": {},
   "outputs": [],
   "source": [
    "def str_pallindrome_check(string:str):\n",
    "    rev_str = string[::-1].lower()\n",
    "    if string.lower()==rev_str:\n",
    "        return \"Pallindrome\"\n",
    "    else:\n",
    "        return \"Not Pallindrome\""
   ]
  },
  {
   "cell_type": "code",
   "execution_count": 37,
   "id": "b2deb5e2",
   "metadata": {},
   "outputs": [
    {
     "data": {
      "text/plain": [
       "'Not Pallindrome'"
      ]
     },
     "execution_count": 37,
     "metadata": {},
     "output_type": "execute_result"
    }
   ],
   "source": [
    "str_pallindrome_check(\"Shivansh\")"
   ]
  },
  {
   "cell_type": "code",
   "execution_count": 38,
   "id": "8e7a0725",
   "metadata": {},
   "outputs": [
    {
     "data": {
      "text/plain": [
       "'Pallindrome'"
      ]
     },
     "execution_count": 38,
     "metadata": {},
     "output_type": "execute_result"
    }
   ],
   "source": [
    "str_pallindrome_check(\"Nitin\")"
   ]
  },
  {
   "cell_type": "code",
   "execution_count": 39,
   "id": "5ea52aa2",
   "metadata": {},
   "outputs": [
    {
     "data": {
      "text/plain": [
       "'Pallindrome'"
      ]
     },
     "execution_count": 39,
     "metadata": {},
     "output_type": "execute_result"
    }
   ],
   "source": [
    "str_pallindrome_check(\"WOW\")"
   ]
  },
  {
   "cell_type": "markdown",
   "id": "faeb8d75",
   "metadata": {},
   "source": [
    "3. Write a program to find the largest element in a given list."
   ]
  },
  {
   "cell_type": "code",
   "execution_count": 40,
   "id": "104b58e6",
   "metadata": {},
   "outputs": [],
   "source": [
    "def largest_ele(lst:list):\n",
    "    lst.sort()\n",
    "    return lst[-1]"
   ]
  },
  {
   "cell_type": "code",
   "execution_count": 42,
   "id": "43abf308",
   "metadata": {},
   "outputs": [
    {
     "data": {
      "text/plain": [
       "4235"
      ]
     },
     "execution_count": 42,
     "metadata": {},
     "output_type": "execute_result"
    }
   ],
   "source": [
    "ls = [123,4235,234,546,1231]\n",
    "largest_ele(ls)"
   ]
  },
  {
   "cell_type": "markdown",
   "id": "0a21b9ed",
   "metadata": {},
   "source": [
    "4. Implement a function to count the occurrence of each element in a list."
   ]
  },
  {
   "cell_type": "code",
   "execution_count": 150,
   "id": "ed96e762",
   "metadata": {},
   "outputs": [],
   "source": [
    "from collections import Counter\n",
    "def counter_ele(lst:list):\n",
    "    occurence = Counter(lst)\n",
    "    return occurence"
   ]
  },
  {
   "cell_type": "code",
   "execution_count": 151,
   "id": "6942bbb0",
   "metadata": {},
   "outputs": [
    {
     "data": {
      "text/plain": [
       "Counter({324: 2, 76: 4, 2345: 1, 768: 1, 'asd': 1, 'dfghsjlk': 1})"
      ]
     },
     "execution_count": 151,
     "metadata": {},
     "output_type": "execute_result"
    }
   ],
   "source": [
    "ls=[324,324,76,2345,768,76,76,76,\"asd\",\"dfghsjlk\"]\n",
    "counter_ele(ls)"
   ]
  },
  {
   "cell_type": "code",
   "execution_count": null,
   "id": "6574ff04",
   "metadata": {},
   "outputs": [],
   "source": []
  },
  {
   "cell_type": "markdown",
   "id": "8ef8a46d",
   "metadata": {},
   "source": [
    "5. Write a Python program to find the second largest number in a list.\n"
   ]
  },
  {
   "cell_type": "code",
   "execution_count": 152,
   "id": "c4a6b4e2",
   "metadata": {},
   "outputs": [],
   "source": [
    "def second_largest(lst:list):\n",
    "    lst = list(set(lst))\n",
    "    lst.sort()\n",
    "    return lst[-2]"
   ]
  },
  {
   "cell_type": "code",
   "execution_count": 153,
   "id": "cda935ec",
   "metadata": {},
   "outputs": [
    {
     "data": {
      "text/plain": [
       "1231"
      ]
     },
     "execution_count": 153,
     "metadata": {},
     "output_type": "execute_result"
    }
   ],
   "source": [
    "ls = [123,4235,234,546,1231]\n",
    "second_largest(ls)"
   ]
  },
  {
   "cell_type": "code",
   "execution_count": null,
   "id": "3029a5e3",
   "metadata": {},
   "outputs": [],
   "source": []
  },
  {
   "cell_type": "markdown",
   "id": "9e471714",
   "metadata": {},
   "source": [
    "6. Implement a function to remove duplicate elements from a list."
   ]
  },
  {
   "cell_type": "code",
   "execution_count": 43,
   "id": "f09ec0db",
   "metadata": {},
   "outputs": [],
   "source": [
    "def remove_duplicate(lst:list):\n",
    "    return list(set(lst))"
   ]
  },
  {
   "cell_type": "code",
   "execution_count": 44,
   "id": "e9a74807",
   "metadata": {},
   "outputs": [
    {
     "data": {
      "text/plain": [
       "[123, 547, 34, 'sad']"
      ]
     },
     "execution_count": 44,
     "metadata": {},
     "output_type": "execute_result"
    }
   ],
   "source": [
    "ls = [\"sad\",\"sad\",123,547,34,123]\n",
    "remove_duplicate(ls)"
   ]
  },
  {
   "cell_type": "markdown",
   "id": "3fd4b373",
   "metadata": {},
   "source": [
    "7. Write a program to calculate the factorial of a given number.\n"
   ]
  },
  {
   "cell_type": "code",
   "execution_count": 51,
   "id": "ba99341c",
   "metadata": {},
   "outputs": [],
   "source": [
    "def factorial(num:int):\n",
    "    summ=1\n",
    "    for i in range(1,num+1):\n",
    "        summ = summ*i\n",
    "    return summ"
   ]
  },
  {
   "cell_type": "code",
   "execution_count": 52,
   "id": "a9d95e92",
   "metadata": {},
   "outputs": [
    {
     "data": {
      "text/plain": [
       "1"
      ]
     },
     "execution_count": 52,
     "metadata": {},
     "output_type": "execute_result"
    }
   ],
   "source": [
    "factorial(0)"
   ]
  },
  {
   "cell_type": "code",
   "execution_count": 54,
   "id": "a29afd31",
   "metadata": {},
   "outputs": [
    {
     "data": {
      "text/plain": [
       "120"
      ]
     },
     "execution_count": 54,
     "metadata": {},
     "output_type": "execute_result"
    }
   ],
   "source": [
    "factorial(5)"
   ]
  },
  {
   "cell_type": "code",
   "execution_count": 55,
   "id": "0e690d5e",
   "metadata": {},
   "outputs": [
    {
     "data": {
      "text/plain": [
       "3628800"
      ]
     },
     "execution_count": 55,
     "metadata": {},
     "output_type": "execute_result"
    }
   ],
   "source": [
    "factorial(10)"
   ]
  },
  {
   "cell_type": "markdown",
   "id": "83bc8ed4",
   "metadata": {},
   "source": [
    "8. Implement a function to check if a given number is prime."
   ]
  },
  {
   "cell_type": "code",
   "execution_count": 67,
   "id": "69f85c89",
   "metadata": {},
   "outputs": [],
   "source": [
    "def prime_check(num:int):\n",
    "    if num == 0 or num == 1:\n",
    "        return \"Not Prime\"\n",
    "    elif num == 2:\n",
    "        return \"Prime\"\n",
    "    elif num%2 == 0:\n",
    "        return \"Not Prime\"\n",
    "    else:\n",
    "        for i in range(3,num+1,2):\n",
    "            if num%i==0:\n",
    "                return \"Not Prime\"\n",
    "            else:\n",
    "                return \"Prime\""
   ]
  },
  {
   "cell_type": "code",
   "execution_count": 68,
   "id": "1bd6b04f",
   "metadata": {},
   "outputs": [
    {
     "data": {
      "text/plain": [
       "'Not Prime'"
      ]
     },
     "execution_count": 68,
     "metadata": {},
     "output_type": "execute_result"
    }
   ],
   "source": [
    "prime_check(345)"
   ]
  },
  {
   "cell_type": "code",
   "execution_count": 69,
   "id": "5c8a7235",
   "metadata": {},
   "outputs": [
    {
     "data": {
      "text/plain": [
       "'Prime'"
      ]
     },
     "execution_count": 69,
     "metadata": {},
     "output_type": "execute_result"
    }
   ],
   "source": [
    "prime_check(7)"
   ]
  },
  {
   "cell_type": "code",
   "execution_count": null,
   "id": "9d2a0c0a",
   "metadata": {},
   "outputs": [],
   "source": []
  },
  {
   "cell_type": "markdown",
   "id": "03bd1f09",
   "metadata": {},
   "source": [
    "9. Write a Python program to sort a list of integers in ascending order."
   ]
  },
  {
   "cell_type": "code",
   "execution_count": 103,
   "id": "f0cd988c",
   "metadata": {},
   "outputs": [],
   "source": [
    "def sort_list(lst:list, asc=True):\n",
    "    \"\"\"\n",
    "    Returns sorted list in ascending order(default)\n",
    "    For descending, pass asc=False\n",
    "    \"\"\"\n",
    "    \n",
    "    if asc==True:\n",
    "        for i in range(len(lst)):\n",
    "            for j in range(len(lst)):\n",
    "                if lst[i]<lst[j]:\n",
    "                    lst[i], lst[j] = lst[j], lst[i]\n",
    "    elif asc==False:\n",
    "        for i in range(len(lst)):\n",
    "            for j in range(len(lst)):\n",
    "                if lst[i]>lst[j]:\n",
    "                    lst[i], lst[j] = lst[j], lst[i]\n",
    "    else:\n",
    "        raise Exception(\"Wrong Argument for argument 'asc'\")\n",
    "    return lst"
   ]
  },
  {
   "cell_type": "code",
   "execution_count": 106,
   "id": "1e4ee73f",
   "metadata": {},
   "outputs": [
    {
     "data": {
      "text/plain": [
       "[78, 123, 234, 546, 1231, 4235]"
      ]
     },
     "execution_count": 106,
     "metadata": {},
     "output_type": "execute_result"
    }
   ],
   "source": [
    "ls = [123,4235,234,546,1231,78]\n",
    "sort_list(ls, asc=True)"
   ]
  },
  {
   "cell_type": "code",
   "execution_count": null,
   "id": "c4f32fdd",
   "metadata": {},
   "outputs": [],
   "source": []
  },
  {
   "cell_type": "markdown",
   "id": "2299908f",
   "metadata": {},
   "source": [
    "10. Implement a function to find the sum of all numbers in a list."
   ]
  },
  {
   "cell_type": "code",
   "execution_count": 47,
   "id": "a9347469",
   "metadata": {},
   "outputs": [
    {
     "data": {
      "text/plain": [
       "6369"
      ]
     },
     "execution_count": 47,
     "metadata": {},
     "output_type": "execute_result"
    }
   ],
   "source": [
    "def sum_of_nums(lst:list):\n",
    "    summ=0\n",
    "    for i in range(len(lst)):\n",
    "        if type(lst[i])==int:\n",
    "            summ = summ+lst[i]\n",
    "    return summ\n",
    "\n",
    "ls = [123,4235,234,546,1231,\"sad\"]\n",
    "sum_of_nums(ls)"
   ]
  },
  {
   "cell_type": "code",
   "execution_count": 48,
   "id": "9beea1ff",
   "metadata": {},
   "outputs": [
    {
     "data": {
      "text/plain": [
       "827"
      ]
     },
     "execution_count": 48,
     "metadata": {},
     "output_type": "execute_result"
    }
   ],
   "source": [
    "ls = [\"sad\",\"sad\",123,547,34,123]\n",
    "sum_of_nums(ls)"
   ]
  },
  {
   "cell_type": "code",
   "execution_count": 49,
   "id": "b4a06019",
   "metadata": {},
   "outputs": [
    {
     "data": {
      "text/plain": [
       "0"
      ]
     },
     "execution_count": 49,
     "metadata": {},
     "output_type": "execute_result"
    }
   ],
   "source": [
    "ls = [\"sad\",\"sad\",\"happy\"]\n",
    "sum_of_nums(ls)"
   ]
  },
  {
   "cell_type": "markdown",
   "id": "0f17f5e4",
   "metadata": {},
   "source": [
    "11. Write a program to find the common elements between two lists.\n"
   ]
  },
  {
   "cell_type": "code",
   "execution_count": 85,
   "id": "bf442498",
   "metadata": {},
   "outputs": [],
   "source": [
    "def common_element(lst_1:list, lst_2:list):\n",
    "    common_ele=[]\n",
    "    \n",
    "    for i in lst_1:\n",
    "        count =lst_2.count(i)\n",
    "        \n",
    "        if count>0:\n",
    "            common_ele.append(i)\n",
    "    return common_ele"
   ]
  },
  {
   "cell_type": "code",
   "execution_count": 86,
   "id": "699fcbea",
   "metadata": {},
   "outputs": [
    {
     "data": {
      "text/plain": [
       "[56, 78]"
      ]
     },
     "execution_count": 86,
     "metadata": {},
     "output_type": "execute_result"
    }
   ],
   "source": [
    "ls1 = [12,56,78,3423]\n",
    "ls2 = [345,56,78,456456,4566]\n",
    "common_element(ls1,ls2)"
   ]
  },
  {
   "cell_type": "code",
   "execution_count": 87,
   "id": "5b0791da",
   "metadata": {},
   "outputs": [
    {
     "data": {
      "text/plain": [
       "[56, 78, 'abcd']"
      ]
     },
     "execution_count": 87,
     "metadata": {},
     "output_type": "execute_result"
    }
   ],
   "source": [
    "ls1 = [12,56,78,3423,\"abcd\", (1,2,3)]\n",
    "ls2 = [345,56,78,456456,4566,\"abcd\",\"efgh\"]\n",
    "common_element(ls1,ls2)"
   ]
  },
  {
   "cell_type": "code",
   "execution_count": null,
   "id": "07fe150f",
   "metadata": {},
   "outputs": [],
   "source": []
  },
  {
   "cell_type": "markdown",
   "id": "08a86a82",
   "metadata": {},
   "source": [
    "12. Implement a function to check if a given string is an anagram of another string.\n"
   ]
  },
  {
   "cell_type": "code",
   "execution_count": 89,
   "id": "f1101c3c",
   "metadata": {},
   "outputs": [],
   "source": [
    "def isAnagram(str1:str, str2:str):\n",
    "    str1 = list(str1)\n",
    "    str2 = list(str2)\n",
    "    str1.sort()\n",
    "    str2.sort()\n",
    "    \n",
    "    if str1==str2:\n",
    "        return \"Anagram\"\n",
    "    else:\n",
    "        return \"Not Anagram\""
   ]
  },
  {
   "cell_type": "code",
   "execution_count": 90,
   "id": "ab396b37",
   "metadata": {},
   "outputs": [
    {
     "data": {
      "text/plain": [
       "'Anagram'"
      ]
     },
     "execution_count": 90,
     "metadata": {},
     "output_type": "execute_result"
    }
   ],
   "source": [
    "isAnagram(\"abcd\",\"dbac\")"
   ]
  },
  {
   "cell_type": "code",
   "execution_count": 91,
   "id": "1acde30b",
   "metadata": {},
   "outputs": [
    {
     "data": {
      "text/plain": [
       "'Anagram'"
      ]
     },
     "execution_count": 91,
     "metadata": {},
     "output_type": "execute_result"
    }
   ],
   "source": [
    "isAnagram(\"listen\",\"silent\")"
   ]
  },
  {
   "cell_type": "code",
   "execution_count": 92,
   "id": "65874200",
   "metadata": {},
   "outputs": [
    {
     "data": {
      "text/plain": [
       "'Not Anagram'"
      ]
     },
     "execution_count": 92,
     "metadata": {},
     "output_type": "execute_result"
    }
   ],
   "source": [
    "isAnagram(\"rocky\",\"hockey\")"
   ]
  },
  {
   "cell_type": "markdown",
   "id": "ee8621dc",
   "metadata": {},
   "source": [
    "13. Write a Python program to generate all permutations of a given string.\n"
   ]
  },
  {
   "cell_type": "code",
   "execution_count": 121,
   "id": "9477b9e4",
   "metadata": {},
   "outputs": [],
   "source": [
    "def permutation(string:str):\n",
    "    if len(string)==1:\n",
    "        return [string]\n",
    "    \n",
    "    permutations=[]\n",
    "    for i in range(len(string)):\n",
    "        first_char = string[i]\n",
    "        rem_char = string[:i]+string[i+1:]\n",
    "        \n",
    "        for j in permutation(rem_char):\n",
    "            permutations.append(first_char+j)\n",
    "    \n",
    "    return permutations\n",
    "\n",
    "def gen_permutation(string:str):\n",
    "    permutations_list = set(permutation(string))\n",
    "    print(f\"Total no. of permutation for '{string}' = {len(permutations_list)}\")\n",
    "    print(f\"{'-'*20}\")\n",
    "    print(\"\\n\".join(permutations_list))"
   ]
  },
  {
   "cell_type": "code",
   "execution_count": 124,
   "id": "b1a11207",
   "metadata": {},
   "outputs": [
    {
     "name": "stdout",
     "output_type": "stream",
     "text": [
      "Total no. of permutation for 'abc' = 6\n",
      "--------------------\n",
      "cba\n",
      "cab\n",
      "acb\n",
      "abc\n",
      "bca\n",
      "bac\n"
     ]
    }
   ],
   "source": [
    "gen_permutation(\"abc\")"
   ]
  },
  {
   "cell_type": "code",
   "execution_count": 125,
   "id": "0383b4df",
   "metadata": {},
   "outputs": [
    {
     "name": "stdout",
     "output_type": "stream",
     "text": [
      "Total no. of permutation for 'horse' = 120\n",
      "--------------------\n",
      "ohrse\n",
      "resoh\n",
      "oshre\n",
      "rheos\n",
      "soher\n",
      "roshe\n",
      "esroh\n",
      "hroes\n",
      "esohr\n",
      "osrhe\n",
      "esorh\n",
      "rsheo\n",
      "orshe\n",
      "orhes\n",
      "ohsre\n",
      "ohers\n",
      "sreho\n",
      "erhos\n",
      "ehros\n",
      "osehr\n",
      "ersoh\n",
      "rshoe\n",
      "srhoe\n",
      "rseho\n",
      "rsohe\n",
      "ehsor\n",
      "herso\n",
      "reosh\n",
      "eorhs\n",
      "sohre\n",
      "ehrso\n",
      "eorsh\n",
      "oehrs\n",
      "rohse\n",
      "soehr\n",
      "ersho\n",
      "ehsro\n",
      "hsoer\n",
      "ohesr\n",
      "rehos\n",
      "rohes\n",
      "oserh\n",
      "hrose\n",
      "soerh\n",
      "hrsoe\n",
      "seroh\n",
      "ehosr\n",
      "heosr\n",
      "roesh\n",
      "hores\n",
      "rseoh\n",
      "rhoes\n",
      "shroe\n",
      "osher\n",
      "heros\n",
      "hseor\n",
      "eohrs\n",
      "sheor\n",
      "horse\n",
      "ehors\n",
      "eshro\n",
      "hsore\n",
      "rsoeh\n",
      "hesor\n",
      "shoer\n",
      "sorhe\n",
      "hreos\n",
      "erhso\n",
      "erohs\n",
      "erosh\n",
      "oehsr\n",
      "esrho\n",
      "rhsoe\n",
      "shore\n",
      "roehs\n",
      "sehro\n",
      "seohr\n",
      "srohe\n",
      "serho\n",
      "hsero\n",
      "rhseo\n",
      "oresh\n",
      "resho\n",
      "orehs\n",
      "rheso\n",
      "seorh\n",
      "oeshr\n",
      "eoshr\n",
      "hosre\n",
      "hesro\n",
      "sroeh\n",
      "ohres\n",
      "shero\n",
      "eshor\n",
      "srheo\n",
      "hreso\n",
      "hsroe\n",
      "eohsr\n",
      "sehor\n",
      "osreh\n",
      "hoesr\n",
      "orhse\n",
      "hoser\n",
      "rhose\n",
      "sreoh\n",
      "oesrh\n",
      "reohs\n",
      "orseh\n",
      "heors\n",
      "oersh\n",
      "eosrh\n",
      "oerhs\n",
      "hoers\n",
      "soreh\n",
      "hrseo\n",
      "shreo\n",
      "rehso\n",
      "ohser\n",
      "roseh\n",
      "hsreo\n"
     ]
    }
   ],
   "source": [
    "gen_permutation(\"horse\")"
   ]
  },
  {
   "cell_type": "code",
   "execution_count": null,
   "id": "ad9182d3",
   "metadata": {},
   "outputs": [],
   "source": []
  },
  {
   "cell_type": "markdown",
   "id": "f869c66c",
   "metadata": {},
   "source": [
    "14. Implement a function to calculate the Fibonacci sequence up to a given number of terms.\n"
   ]
  },
  {
   "cell_type": "code",
   "execution_count": 133,
   "id": "bebb3079",
   "metadata": {},
   "outputs": [],
   "source": [
    "def gen_Fibonacci(n:int):\n",
    "    a=0\n",
    "    b=1\n",
    "    for i in range(n):\n",
    "        print(a, end=' ')\n",
    "        a,b= b,a+b"
   ]
  },
  {
   "cell_type": "code",
   "execution_count": 134,
   "id": "b8beb9a7",
   "metadata": {},
   "outputs": [
    {
     "name": "stdout",
     "output_type": "stream",
     "text": [
      "0 1 1 2 3 "
     ]
    }
   ],
   "source": [
    "gen_Fibonacci(5)"
   ]
  },
  {
   "cell_type": "code",
   "execution_count": 135,
   "id": "e427b248",
   "metadata": {},
   "outputs": [
    {
     "name": "stdout",
     "output_type": "stream",
     "text": [
      "0 1 1 2 3 5 8 13 21 34 "
     ]
    }
   ],
   "source": [
    "gen_Fibonacci(10)"
   ]
  },
  {
   "cell_type": "markdown",
   "id": "60ad772c",
   "metadata": {},
   "source": [
    "15. Write a program to find the median of a list of numbers.\n"
   ]
  },
  {
   "cell_type": "code",
   "execution_count": 82,
   "id": "b3a4f4ee",
   "metadata": {},
   "outputs": [],
   "source": [
    "def median(lst:list):\n",
    "    n = len(lst)\n",
    "    lst.sort()\n",
    "    if n%2!=0 :\n",
    "        med_idx = (n+1)//2\n",
    "        median = lst[med_idx-1]\n",
    "    else:\n",
    "        median = (lst[(n//2)-1] + lst[(n//2+1)-1])//2\n",
    "    return median\n",
    "        "
   ]
  },
  {
   "cell_type": "code",
   "execution_count": 83,
   "id": "396a896a",
   "metadata": {},
   "outputs": [
    {
     "data": {
      "text/plain": [
       "546"
      ]
     },
     "execution_count": 83,
     "metadata": {},
     "output_type": "execute_result"
    }
   ],
   "source": [
    "ls = [123,4235,234,546,1231]\n",
    "median(ls)"
   ]
  },
  {
   "cell_type": "code",
   "execution_count": 84,
   "id": "ed4b75fe",
   "metadata": {},
   "outputs": [
    {
     "data": {
      "text/plain": [
       "390"
      ]
     },
     "execution_count": 84,
     "metadata": {},
     "output_type": "execute_result"
    }
   ],
   "source": [
    "ls = [123,4235,234,546,1231,78]\n",
    "median(ls)"
   ]
  },
  {
   "cell_type": "markdown",
   "id": "fb481fbb",
   "metadata": {},
   "source": [
    "16. Implement a function to check if a given list is sorted in non-decreasing order.\n"
   ]
  },
  {
   "cell_type": "code",
   "execution_count": 136,
   "id": "1435be27",
   "metadata": {},
   "outputs": [],
   "source": [
    "def sort_list(lst:list, asc=False):\n",
    "    \"\"\"\n",
    "    Returns sorted list in ascending order(default)\n",
    "    For descending, pass asc=False\n",
    "    \"\"\"\n",
    "    \n",
    "    if asc==True:\n",
    "        for i in range(len(lst)):\n",
    "            for j in range(len(lst)):\n",
    "                if lst[i]<lst[j]:\n",
    "                    lst[i], lst[j] = lst[j], lst[i]\n",
    "    elif asc==False:\n",
    "        for i in range(len(lst)):\n",
    "            for j in range(len(lst)):\n",
    "                if lst[i]>lst[j]:\n",
    "                    lst[i], lst[j] = lst[j], lst[i]\n",
    "    else:\n",
    "        raise Exception(\"Wrong Argument for argument 'asc'\")\n",
    "    return lst"
   ]
  },
  {
   "cell_type": "code",
   "execution_count": 137,
   "id": "4a54a754",
   "metadata": {},
   "outputs": [
    {
     "data": {
      "text/plain": [
       "[4235, 1231, 546, 234, 123, 78]"
      ]
     },
     "execution_count": 137,
     "metadata": {},
     "output_type": "execute_result"
    }
   ],
   "source": [
    "ls = [123,4235,234,546,1231,78]\n",
    "sort_list(ls, asc=False)"
   ]
  },
  {
   "cell_type": "markdown",
   "id": "cc9426ed",
   "metadata": {},
   "source": [
    "17. Write a Python program to find the intersection of two lists.\n"
   ]
  },
  {
   "cell_type": "code",
   "execution_count": 138,
   "id": "a85155cf",
   "metadata": {},
   "outputs": [],
   "source": [
    "def intersection(lst_1:list, lst_2:list):\n",
    "    common_ele=[]\n",
    "    \n",
    "    for i in lst_1:\n",
    "        count =lst_2.count(i)\n",
    "        \n",
    "        if count>0:\n",
    "            common_ele.append(i)\n",
    "    return common_ele"
   ]
  },
  {
   "cell_type": "code",
   "execution_count": 139,
   "id": "19dffa8b",
   "metadata": {},
   "outputs": [
    {
     "data": {
      "text/plain": [
       "[56, 78]"
      ]
     },
     "execution_count": 139,
     "metadata": {},
     "output_type": "execute_result"
    }
   ],
   "source": [
    "ls1 = [12,56,78,3423]\n",
    "ls2 = [345,56,78,456456,4566]\n",
    "intersection(ls1,ls2)"
   ]
  },
  {
   "cell_type": "markdown",
   "id": "53111cae",
   "metadata": {},
   "source": [
    "18. Implement a function to find the maximum subarray sum in a given list.\n"
   ]
  },
  {
   "cell_type": "code",
   "execution_count": null,
   "id": "1160a8a5",
   "metadata": {},
   "outputs": [],
   "source": []
  },
  {
   "cell_type": "markdown",
   "id": "da0a9e71",
   "metadata": {},
   "source": [
    "19. Write a program to remove all vowels from a given string.\n"
   ]
  },
  {
   "cell_type": "code",
   "execution_count": 144,
   "id": "dfd2c2cc",
   "metadata": {},
   "outputs": [],
   "source": [
    "def vowel_removal(string:str):\n",
    "    vowels=list(\"aeiouAEIOU\")\n",
    "    new_str=\"\"\n",
    "    for i in string:\n",
    "        if i not in vowels:\n",
    "            new_str=new_str+i\n",
    "    return new_str"
   ]
  },
  {
   "cell_type": "code",
   "execution_count": 148,
   "id": "fee9759c",
   "metadata": {},
   "outputs": [
    {
     "data": {
      "text/plain": [
       "'Shvnsh'"
      ]
     },
     "execution_count": 148,
     "metadata": {},
     "output_type": "execute_result"
    }
   ],
   "source": [
    "vowel_removal(\"Shivansh\")"
   ]
  },
  {
   "cell_type": "code",
   "execution_count": 149,
   "id": "656cabea",
   "metadata": {},
   "outputs": [
    {
     "data": {
      "text/plain": [
       "'Rnbw'"
      ]
     },
     "execution_count": 149,
     "metadata": {},
     "output_type": "execute_result"
    }
   ],
   "source": [
    "vowel_removal(\"Rainbow\")"
   ]
  },
  {
   "cell_type": "markdown",
   "id": "42f1e835",
   "metadata": {},
   "source": [
    "20. Implement a function to reverse the order of words in a given sentence."
   ]
  },
  {
   "cell_type": "code",
   "execution_count": 72,
   "id": "8619fd6a",
   "metadata": {},
   "outputs": [],
   "source": [
    "def reverse_word_order(sent:str):\n",
    "    sent = sent.split()\n",
    "    sent = sent[::-1]\n",
    "    rev_sent = \" \".join(sent)\n",
    "    return rev_sent"
   ]
  },
  {
   "cell_type": "code",
   "execution_count": 73,
   "id": "5a82549c",
   "metadata": {},
   "outputs": [
    {
     "data": {
      "text/plain": [
       "'you? are How Kaushal. Shivansh is name my Hello!!'"
      ]
     },
     "execution_count": 73,
     "metadata": {},
     "output_type": "execute_result"
    }
   ],
   "source": [
    "reverse_word_order(\"Hello!! my name is Shivansh Kaushal. How are you?\")"
   ]
  },
  {
   "cell_type": "markdown",
   "id": "58aa8a27",
   "metadata": {},
   "source": [
    "21. Write a Python program to check if two strings are anagrams of each other.\n"
   ]
  },
  {
   "cell_type": "code",
   "execution_count": 157,
   "id": "f0e1a82e",
   "metadata": {},
   "outputs": [],
   "source": [
    "def isAnagram(str1:str, str2:str):\n",
    "    str1 = list(str1)\n",
    "    str2 = list(str2)\n",
    "    str1.sort()\n",
    "    str2.sort()\n",
    "    \n",
    "    if str1==str2:\n",
    "        return \"Anagram\"\n",
    "    else:\n",
    "        return \"Not Anagram\""
   ]
  },
  {
   "cell_type": "code",
   "execution_count": 156,
   "id": "03e6c98f",
   "metadata": {},
   "outputs": [
    {
     "data": {
      "text/plain": [
       "'Anagram'"
      ]
     },
     "execution_count": 156,
     "metadata": {},
     "output_type": "execute_result"
    }
   ],
   "source": [
    "isAnagram(\"abcd\",\"dbac\")"
   ]
  },
  {
   "cell_type": "code",
   "execution_count": 155,
   "id": "5e8ab31d",
   "metadata": {},
   "outputs": [
    {
     "data": {
      "text/plain": [
       "'Anagram'"
      ]
     },
     "execution_count": 155,
     "metadata": {},
     "output_type": "execute_result"
    }
   ],
   "source": [
    "isAnagram(\"listen\",\"silent\")"
   ]
  },
  {
   "cell_type": "code",
   "execution_count": 158,
   "id": "36684cd6",
   "metadata": {},
   "outputs": [
    {
     "data": {
      "text/plain": [
       "'Not Anagram'"
      ]
     },
     "execution_count": 158,
     "metadata": {},
     "output_type": "execute_result"
    }
   ],
   "source": [
    "isAnagram(\"abcder\",\"dbac\")"
   ]
  },
  {
   "cell_type": "markdown",
   "id": "5d9e5934",
   "metadata": {},
   "source": [
    "22. Implement a function to find the first non-repeating character in a string.\n"
   ]
  },
  {
   "cell_type": "code",
   "execution_count": 163,
   "id": "f34ff29b",
   "metadata": {},
   "outputs": [],
   "source": [
    "def first_non_repeating(string:str):\n",
    "    str_list=list(string.lower())\n",
    "    for i in str_list:\n",
    "        if str_list.count(i)==1:\n",
    "            return i"
   ]
  },
  {
   "cell_type": "code",
   "execution_count": 164,
   "id": "1336dbb1",
   "metadata": {},
   "outputs": [
    {
     "data": {
      "text/plain": [
       "'i'"
      ]
     },
     "execution_count": 164,
     "metadata": {},
     "output_type": "execute_result"
    }
   ],
   "source": [
    "first_non_repeating(\"Shivansh\")"
   ]
  },
  {
   "cell_type": "code",
   "execution_count": 165,
   "id": "8c8be73b",
   "metadata": {},
   "outputs": [
    {
     "data": {
      "text/plain": [
       "'c'"
      ]
     },
     "execution_count": 165,
     "metadata": {},
     "output_type": "execute_result"
    }
   ],
   "source": [
    "first_non_repeating(\"aaabbbcdefggggjjjj\")"
   ]
  },
  {
   "cell_type": "markdown",
   "id": "ff0acc6b",
   "metadata": {},
   "source": [
    "23. Write a program to find the prime factors of a given number.\n"
   ]
  },
  {
   "cell_type": "code",
   "execution_count": null,
   "id": "ff97931e",
   "metadata": {},
   "outputs": [],
   "source": []
  },
  {
   "cell_type": "code",
   "execution_count": null,
   "id": "5cf5c288",
   "metadata": {},
   "outputs": [],
   "source": []
  },
  {
   "cell_type": "code",
   "execution_count": null,
   "id": "c2b2bb55",
   "metadata": {},
   "outputs": [],
   "source": []
  },
  {
   "cell_type": "markdown",
   "id": "b4a2fccd",
   "metadata": {},
   "source": [
    "24. Implement a function to check if a given number is a power of two.\n"
   ]
  },
  {
   "cell_type": "code",
   "execution_count": 166,
   "id": "7af43986",
   "metadata": {},
   "outputs": [],
   "source": [
    "def is_power_of_2(n:int):\n",
    "    if n==1:\n",
    "        return True\n",
    "    while (n!=1):\n",
    "        if n%2!=0:\n",
    "            return False\n",
    "        n = n//2\n",
    "    return True"
   ]
  },
  {
   "cell_type": "code",
   "execution_count": 167,
   "id": "51c094ed",
   "metadata": {},
   "outputs": [
    {
     "data": {
      "text/plain": [
       "True"
      ]
     },
     "execution_count": 167,
     "metadata": {},
     "output_type": "execute_result"
    }
   ],
   "source": [
    "is_power_of_2(8)"
   ]
  },
  {
   "cell_type": "code",
   "execution_count": 172,
   "id": "e4fb7851",
   "metadata": {},
   "outputs": [
    {
     "data": {
      "text/plain": [
       "False"
      ]
     },
     "execution_count": 172,
     "metadata": {},
     "output_type": "execute_result"
    }
   ],
   "source": [
    "is_power_of_2(104)"
   ]
  },
  {
   "cell_type": "code",
   "execution_count": 173,
   "id": "3e227745",
   "metadata": {},
   "outputs": [
    {
     "data": {
      "text/plain": [
       "True"
      ]
     },
     "execution_count": 173,
     "metadata": {},
     "output_type": "execute_result"
    }
   ],
   "source": [
    "is_power_of_2(1024)"
   ]
  },
  {
   "cell_type": "markdown",
   "id": "a2c768f0",
   "metadata": {},
   "source": [
    "25. Write a Python program to merge two sorted lists into a single sorted list.\n"
   ]
  },
  {
   "cell_type": "code",
   "execution_count": 174,
   "id": "a2ae912f",
   "metadata": {},
   "outputs": [],
   "source": [
    "def merge_n_sort(lst1, lst2):\n",
    "    lst1.sort()\n",
    "    lst2.sort()\n",
    "    lst1.extend(lst2)\n",
    "    lst1.sort()\n",
    "    return lst1"
   ]
  },
  {
   "cell_type": "code",
   "execution_count": 175,
   "id": "835ff8a7",
   "metadata": {},
   "outputs": [
    {
     "data": {
      "text/plain": [
       "[1, 2, 3, 4, 6, 34, 67, 89, 90, 1312]"
      ]
     },
     "execution_count": 175,
     "metadata": {},
     "output_type": "execute_result"
    }
   ],
   "source": [
    "l1 = [1,3,4,6,34]\n",
    "l2 = [2,67,89,90,1312]\n",
    "merge_n_sort(l1, l2)"
   ]
  },
  {
   "cell_type": "markdown",
   "id": "fea142f2",
   "metadata": {},
   "source": [
    "26. Implement a function to find the mode of a list of numbers.\n"
   ]
  },
  {
   "cell_type": "code",
   "execution_count": 176,
   "id": "9ce255c0",
   "metadata": {},
   "outputs": [],
   "source": [
    "import statistics\n",
    "def mode(lst):\n",
    "    return statistics.mode(lst)"
   ]
  },
  {
   "cell_type": "code",
   "execution_count": 178,
   "id": "cb6e98b2",
   "metadata": {},
   "outputs": [
    {
     "data": {
      "text/plain": [
       "12"
      ]
     },
     "execution_count": 178,
     "metadata": {},
     "output_type": "execute_result"
    }
   ],
   "source": [
    "ls=[12,64,12,8678,54656,12,64]\n",
    "mode(ls)"
   ]
  },
  {
   "cell_type": "code",
   "execution_count": null,
   "id": "f5e1b62d",
   "metadata": {},
   "outputs": [],
   "source": []
  },
  {
   "cell_type": "markdown",
   "id": "ee670c05",
   "metadata": {},
   "source": [
    "27. Write a program to find the greatest common divisor (GCD) of two numbers.\n"
   ]
  },
  {
   "cell_type": "code",
   "execution_count": 179,
   "id": "3784fd5c",
   "metadata": {},
   "outputs": [],
   "source": [
    "def gcd(num1:int, num2:int):\n",
    "    small = min(num1, num2)\n",
    "    large = max(num1 ,num2)\n",
    "    \n",
    "    while(small):\n",
    "        large, small = small, large%small\n",
    "    return abs(large)   "
   ]
  },
  {
   "cell_type": "code",
   "execution_count": 181,
   "id": "70456454",
   "metadata": {},
   "outputs": [
    {
     "data": {
      "text/plain": [
       "12"
      ]
     },
     "execution_count": 181,
     "metadata": {},
     "output_type": "execute_result"
    }
   ],
   "source": [
    "gcd(60,48)"
   ]
  },
  {
   "cell_type": "code",
   "execution_count": 182,
   "id": "7e49de46",
   "metadata": {},
   "outputs": [
    {
     "data": {
      "text/plain": [
       "3"
      ]
     },
     "execution_count": 182,
     "metadata": {},
     "output_type": "execute_result"
    }
   ],
   "source": [
    "gcd(489,2139)"
   ]
  },
  {
   "cell_type": "markdown",
   "id": "a2838e21",
   "metadata": {},
   "source": [
    "28. Implement a function to calculate the square root of a given number.\n"
   ]
  },
  {
   "cell_type": "code",
   "execution_count": 185,
   "id": "0819e74d",
   "metadata": {},
   "outputs": [],
   "source": [
    "import math\n",
    "def sqrt(num:int):\n",
    "    return round(math.sqrt(num),2)"
   ]
  },
  {
   "cell_type": "code",
   "execution_count": 187,
   "id": "3ddf43b0",
   "metadata": {},
   "outputs": [
    {
     "data": {
      "text/plain": [
       "28.0"
      ]
     },
     "execution_count": 187,
     "metadata": {},
     "output_type": "execute_result"
    }
   ],
   "source": [
    "sqrt(784)"
   ]
  },
  {
   "cell_type": "code",
   "execution_count": 188,
   "id": "33161518",
   "metadata": {},
   "outputs": [
    {
     "data": {
      "text/plain": [
       "36.0"
      ]
     },
     "execution_count": 188,
     "metadata": {},
     "output_type": "execute_result"
    }
   ],
   "source": [
    "sqrt(1296)"
   ]
  },
  {
   "cell_type": "markdown",
   "id": "9dcc8331",
   "metadata": {},
   "source": [
    "29. Write a Python program to check if a given string is a valid palindrome ignoring non-alphanumeric characters.\n"
   ]
  },
  {
   "cell_type": "code",
   "execution_count": null,
   "id": "849e525d",
   "metadata": {},
   "outputs": [],
   "source": [
    "def str_pallindrome_check(string:str):\n",
    "    rev_str = string[::-1].lower()\n",
    "    if string.lower()==rev_str:\n",
    "        return \"Pallindrome\"\n",
    "    else:\n",
    "        return \"Not Pallindrome\""
   ]
  },
  {
   "cell_type": "code",
   "execution_count": null,
   "id": "07f1281f",
   "metadata": {},
   "outputs": [],
   "source": []
  },
  {
   "cell_type": "code",
   "execution_count": null,
   "id": "480b7125",
   "metadata": {},
   "outputs": [],
   "source": []
  },
  {
   "cell_type": "markdown",
   "id": "eef96026",
   "metadata": {},
   "source": [
    "30. Implement a function to find the minimum element in a rotated sorted list.\n"
   ]
  },
  {
   "cell_type": "code",
   "execution_count": 189,
   "id": "d6a9c90b",
   "metadata": {},
   "outputs": [],
   "source": [
    "def min_in_rotated_list(lst:list):\n",
    "    minn = lst[0]\n",
    "    \n",
    "    for i in range(len(lst)):\n",
    "        if lst[i]<minn:\n",
    "            minn=lst[i]\n",
    "    return minn\n",
    "    "
   ]
  },
  {
   "cell_type": "code",
   "execution_count": 190,
   "id": "c4106791",
   "metadata": {},
   "outputs": [
    {
     "data": {
      "text/plain": [
       "1"
      ]
     },
     "execution_count": 190,
     "metadata": {},
     "output_type": "execute_result"
    }
   ],
   "source": [
    "ls=[5,6,1,2,3,4]\n",
    "min_in_rotated_list(ls)"
   ]
  },
  {
   "cell_type": "code",
   "execution_count": null,
   "id": "7d981072",
   "metadata": {},
   "outputs": [],
   "source": []
  },
  {
   "cell_type": "markdown",
   "id": "48cb1a88",
   "metadata": {},
   "source": [
    "31. Write a program to find the sum of all even numbers in a list.\n"
   ]
  },
  {
   "cell_type": "code",
   "execution_count": 195,
   "id": "cf5380c2",
   "metadata": {},
   "outputs": [],
   "source": [
    "def sum_of_even(lst:list):\n",
    "    summ=0\n",
    "    for i in lst:\n",
    "        if type(i)==int:\n",
    "            if i%2==0:\n",
    "                summ=summ+i\n",
    "    return summ"
   ]
  },
  {
   "cell_type": "code",
   "execution_count": 196,
   "id": "5773a3fb",
   "metadata": {},
   "outputs": [
    {
     "data": {
      "text/plain": [
       "532"
      ]
     },
     "execution_count": 196,
     "metadata": {},
     "output_type": "execute_result"
    }
   ],
   "source": [
    "ls=[\"dasd\",12,456,5,69,1,64,89]\n",
    "sum_of_even(ls)"
   ]
  },
  {
   "cell_type": "code",
   "execution_count": null,
   "id": "e1ec2d46",
   "metadata": {},
   "outputs": [],
   "source": []
  },
  {
   "cell_type": "markdown",
   "id": "4efd4a72",
   "metadata": {},
   "source": [
    "32. Implement a function to calculate the power of a number using recursion.\n"
   ]
  },
  {
   "cell_type": "code",
   "execution_count": 228,
   "id": "032eaa94",
   "metadata": {},
   "outputs": [],
   "source": [
    "def power_of_number(num, power): \n",
    "    if power==1:\n",
    "        return num\n",
    "    if power!=1:\n",
    "        return (num*power_of_number(num, power-1))"
   ]
  },
  {
   "cell_type": "code",
   "execution_count": 230,
   "id": "50861e59",
   "metadata": {},
   "outputs": [
    {
     "data": {
      "text/plain": [
       "65536"
      ]
     },
     "execution_count": 230,
     "metadata": {},
     "output_type": "execute_result"
    }
   ],
   "source": [
    "power(2,5)"
   ]
  },
  {
   "cell_type": "markdown",
   "id": "38d8a7b6",
   "metadata": {},
   "source": [
    "33. Write a Python program to remove duplicates from a list while preserving the order.\n"
   ]
  },
  {
   "cell_type": "code",
   "execution_count": 226,
   "id": "5b43c081",
   "metadata": {},
   "outputs": [],
   "source": [
    "def remove_duplicates(lst:list):\n",
    "    new_lst=[]\n",
    "    for i in lst:\n",
    "        if i not in new_lst:\n",
    "            new_lst.append(i)\n",
    "    return new_lst"
   ]
  },
  {
   "cell_type": "code",
   "execution_count": 227,
   "id": "8fbc6425",
   "metadata": {},
   "outputs": [
    {
     "data": {
      "text/plain": [
       "[1, 54, 987, 23, 45, 69, 'abcde', 'abc']"
      ]
     },
     "execution_count": 227,
     "metadata": {},
     "output_type": "execute_result"
    }
   ],
   "source": [
    "ls=[1,54,987,23,45,1,69,54,987,23,\"abcde\",\"abc\",\"abcde\"]\n",
    "remove_duplicates(ls)"
   ]
  },
  {
   "cell_type": "code",
   "execution_count": null,
   "id": "aca76c42",
   "metadata": {},
   "outputs": [],
   "source": []
  },
  {
   "cell_type": "markdown",
   "id": "689f5621",
   "metadata": {},
   "source": [
    "34. Implement a function to find the longest common prefix among a list of strings.\n"
   ]
  },
  {
   "cell_type": "markdown",
   "id": "49b60031",
   "metadata": {},
   "source": [
    "35. Write a program to check if a given number is a perfect square.\n"
   ]
  },
  {
   "cell_type": "code",
   "execution_count": 235,
   "id": "223a49a4",
   "metadata": {},
   "outputs": [],
   "source": [
    "import math\n",
    "def isPerfect_Square(num):\n",
    "    sqrt = int(math.sqrt(num))\n",
    "    if sqrt*sqrt == num:\n",
    "        return \"Perfect Square\"\n",
    "    else:\n",
    "        return \"Not Perfect Square\""
   ]
  },
  {
   "cell_type": "code",
   "execution_count": 237,
   "id": "c3dc909f",
   "metadata": {},
   "outputs": [
    {
     "data": {
      "text/plain": [
       "'Perfect Square'"
      ]
     },
     "execution_count": 237,
     "metadata": {},
     "output_type": "execute_result"
    }
   ],
   "source": [
    "isPerfect_Square(4)"
   ]
  },
  {
   "cell_type": "code",
   "execution_count": 238,
   "id": "94df4180",
   "metadata": {},
   "outputs": [
    {
     "data": {
      "text/plain": [
       "'Not Perfect Square'"
      ]
     },
     "execution_count": 238,
     "metadata": {},
     "output_type": "execute_result"
    }
   ],
   "source": [
    "isPerfect_Square(89)"
   ]
  },
  {
   "cell_type": "markdown",
   "id": "49006279",
   "metadata": {},
   "source": [
    "36. Implement a function to calculate the product of all elements in a list.\n"
   ]
  },
  {
   "cell_type": "code",
   "execution_count": 239,
   "id": "1debf3f0",
   "metadata": {},
   "outputs": [],
   "source": [
    "def product_of_elements(lst:list):\n",
    "    product=1\n",
    "    for i in lst:\n",
    "        product = product*i\n",
    "    return product"
   ]
  },
  {
   "cell_type": "code",
   "execution_count": 242,
   "id": "dd4d9137",
   "metadata": {},
   "outputs": [
    {
     "data": {
      "text/plain": [
       "55163430"
      ]
     },
     "execution_count": 242,
     "metadata": {},
     "output_type": "execute_result"
    }
   ],
   "source": [
    "ls=[1,54,987,23,45,1]\n",
    "product_of_elements(ls)"
   ]
  },
  {
   "cell_type": "markdown",
   "id": "32d7bc26",
   "metadata": {},
   "source": [
    "37. Write a Python program to reverse the order of words in a sentence while preserving the word order.\n"
   ]
  },
  {
   "cell_type": "code",
   "execution_count": null,
   "id": "ecb41f6d",
   "metadata": {},
   "outputs": [],
   "source": [
    "def reverse_word_order(sent:str):\n",
    "    sent = sent.split()\n",
    "    sent = sent[::-1]\n",
    "    rev_sent = \" \".join(sent)\n",
    "    return rev_sent"
   ]
  },
  {
   "cell_type": "code",
   "execution_count": 243,
   "id": "b8b8b71e",
   "metadata": {},
   "outputs": [
    {
     "data": {
      "text/plain": [
       "'Kaushal Shivansh is name my Hello'"
      ]
     },
     "execution_count": 243,
     "metadata": {},
     "output_type": "execute_result"
    }
   ],
   "source": [
    "reverse_word_order(\"Hello my name is Shivansh Kaushal\")"
   ]
  },
  {
   "cell_type": "code",
   "execution_count": null,
   "id": "26dfe792",
   "metadata": {},
   "outputs": [],
   "source": []
  },
  {
   "cell_type": "markdown",
   "id": "1e7d1791",
   "metadata": {},
   "source": [
    "38. Implement a function to find the missing number in a given list of consecutive numbers.\n"
   ]
  },
  {
   "cell_type": "code",
   "execution_count": 244,
   "id": "baee65d0",
   "metadata": {},
   "outputs": [],
   "source": [
    "from typing import List\n",
    "def missing_number(lst:List[int]):\n",
    "    minn = min(lst)\n",
    "    maxx = max(lst)\n",
    "    missing_num=[]\n",
    "    for i in range(minn, maxx+1):\n",
    "        if i not in lst:\n",
    "            missing_num.append(i)\n",
    "    return missing_num"
   ]
  },
  {
   "cell_type": "code",
   "execution_count": 245,
   "id": "a4bfcdc7",
   "metadata": {},
   "outputs": [
    {
     "data": {
      "text/plain": [
       "[12, 14, 19, 20, 21]"
      ]
     },
     "execution_count": 245,
     "metadata": {},
     "output_type": "execute_result"
    }
   ],
   "source": [
    "ls=[11,13,15,16,17,18,22]\n",
    "missing_number(ls)"
   ]
  },
  {
   "cell_type": "markdown",
   "id": "6a532e70",
   "metadata": {},
   "source": [
    "39. Write a program to find the sum of digits of a given number."
   ]
  },
  {
   "cell_type": "code",
   "execution_count": 193,
   "id": "1d004c10",
   "metadata": {},
   "outputs": [],
   "source": [
    "def sum_of_digits(num:int):\n",
    "    summ=0\n",
    "    while(num):\n",
    "        rem = num%10\n",
    "        summ = summ+rem\n",
    "        num//=10\n",
    "    return summ"
   ]
  },
  {
   "cell_type": "code",
   "execution_count": 194,
   "id": "a69a2fe4",
   "metadata": {},
   "outputs": [
    {
     "data": {
      "text/plain": [
       "25"
      ]
     },
     "execution_count": 194,
     "metadata": {},
     "output_type": "execute_result"
    }
   ],
   "source": [
    "sum_of_digits(14569)"
   ]
  },
  {
   "cell_type": "code",
   "execution_count": null,
   "id": "8becc358",
   "metadata": {},
   "outputs": [],
   "source": []
  },
  {
   "cell_type": "markdown",
   "id": "3bedf553",
   "metadata": {},
   "source": [
    "40. Implement a function to check if a given string is a valid palindrome considering case sensitivity.\n"
   ]
  },
  {
   "cell_type": "code",
   "execution_count": 246,
   "id": "6c097942",
   "metadata": {},
   "outputs": [],
   "source": [
    "def str_pallindrome_check(string:str):\n",
    "    rev_str = string[::-1]\n",
    "    if string==rev_str:\n",
    "        return \"Pallindrome\"\n",
    "    else:\n",
    "        return \"Not Pallindrome\""
   ]
  },
  {
   "cell_type": "code",
   "execution_count": 247,
   "id": "b2ed3f35",
   "metadata": {},
   "outputs": [
    {
     "data": {
      "text/plain": [
       "'Not Pallindrome'"
      ]
     },
     "execution_count": 247,
     "metadata": {},
     "output_type": "execute_result"
    }
   ],
   "source": [
    "str_pallindrome_check(\"Nitin\")"
   ]
  },
  {
   "cell_type": "code",
   "execution_count": 248,
   "id": "4b8e4313",
   "metadata": {},
   "outputs": [
    {
     "data": {
      "text/plain": [
       "'Pallindrome'"
      ]
     },
     "execution_count": 248,
     "metadata": {},
     "output_type": "execute_result"
    }
   ],
   "source": [
    "str_pallindrome_check(\"nitin\")"
   ]
  },
  {
   "cell_type": "code",
   "execution_count": 249,
   "id": "381564bb",
   "metadata": {},
   "outputs": [
    {
     "data": {
      "text/plain": [
       "'Not Pallindrome'"
      ]
     },
     "execution_count": 249,
     "metadata": {},
     "output_type": "execute_result"
    }
   ],
   "source": [
    "str_pallindrome_check(\"Shivansh\")"
   ]
  },
  {
   "cell_type": "markdown",
   "id": "51e894b7",
   "metadata": {},
   "source": [
    "41. Write a Python program to find the smallest missing positive integer in a list.\n"
   ]
  },
  {
   "cell_type": "code",
   "execution_count": 250,
   "id": "3b00a841",
   "metadata": {},
   "outputs": [],
   "source": [
    "from typing import List\n",
    "def missing_number(lst:List[int]):\n",
    "    minn = min(lst)\n",
    "    maxx = max(lst)\n",
    "    for i in range(minn, maxx+1):\n",
    "        if i not in lst:\n",
    "            return i"
   ]
  },
  {
   "cell_type": "code",
   "execution_count": 251,
   "id": "c5e58dbd",
   "metadata": {},
   "outputs": [
    {
     "data": {
      "text/plain": [
       "12"
      ]
     },
     "execution_count": 251,
     "metadata": {},
     "output_type": "execute_result"
    }
   ],
   "source": [
    "ls=[11,13,15,16,17,18,22]\n",
    "missing_number(ls)"
   ]
  },
  {
   "cell_type": "markdown",
   "id": "e494b207",
   "metadata": {},
   "source": [
    "42. Implement a function to find the longest palindrome substring in a given string.\n"
   ]
  },
  {
   "cell_type": "code",
   "execution_count": 253,
   "id": "951c677c",
   "metadata": {},
   "outputs": [
    {
     "ename": "IndentationError",
     "evalue": "expected an indented block (3803932586.py, line 9)",
     "output_type": "error",
     "traceback": [
      "\u001b[1;36m  Input \u001b[1;32mIn [253]\u001b[1;36m\u001b[0m\n\u001b[1;33m    \u001b[0m\n\u001b[1;37m    ^\u001b[0m\n\u001b[1;31mIndentationError\u001b[0m\u001b[1;31m:\u001b[0m expected an indented block\n"
     ]
    }
   ],
   "source": [
    "def str_pallindrome_check(string:str):\n",
    "    rev_str = string[::-1].lower()\n",
    "    if string.lower()==rev_str:\n",
    "        return True\n",
    "    else:\n",
    "        return False\n",
    "                    \n",
    "def longest_pallindrome_substring(string:str):\n",
    "    \n"
   ]
  },
  {
   "cell_type": "markdown",
   "id": "151076c5",
   "metadata": {},
   "source": [
    "43. Write a program to find the number of occurrences of a given element in a list."
   ]
  },
  {
   "cell_type": "code",
   "execution_count": 288,
   "id": "bede2192",
   "metadata": {},
   "outputs": [],
   "source": [
    "def count_occurrence(lst:list, ele):\n",
    "    count=0\n",
    "    for i in lst:\n",
    "        if ele == i:\n",
    "            count+=1\n",
    "    return count\n",
    "\n",
    "### lst.count(ele) --> will give occurence of element ele in list lst"
   ]
  },
  {
   "cell_type": "code",
   "execution_count": 290,
   "id": "8f814fdd",
   "metadata": {},
   "outputs": [
    {
     "data": {
      "text/plain": [
       "3"
      ]
     },
     "execution_count": 290,
     "metadata": {},
     "output_type": "execute_result"
    }
   ],
   "source": [
    "ls=[234,32,435,32,32,'sdfsd']\n",
    "count_occurrence(ls,32)"
   ]
  },
  {
   "cell_type": "markdown",
   "id": "ab36afec",
   "metadata": {},
   "source": [
    "44. Implement a function to check if a given number is a perfect number."
   ]
  },
  {
   "cell_type": "code",
   "execution_count": 281,
   "id": "23cb6940",
   "metadata": {},
   "outputs": [],
   "source": [
    "def isPerfectNumber(num):\n",
    "    summ = 1\n",
    "    i = 2\n",
    "    while i * i <= num:\n",
    "        if num % i == 0:\n",
    "            summ = summ + i + num/i\n",
    "        i += 1\n",
    "    if summ==num:\n",
    "        return \"Perfect Number\"\n",
    "    else:\n",
    "        return \"Non Perfect number\""
   ]
  },
  {
   "cell_type": "code",
   "execution_count": 282,
   "id": "bf379195",
   "metadata": {},
   "outputs": [
    {
     "data": {
      "text/plain": [
       "'Perfect Number'"
      ]
     },
     "execution_count": 282,
     "metadata": {},
     "output_type": "execute_result"
    }
   ],
   "source": [
    "isPerfectNumber(28)"
   ]
  },
  {
   "cell_type": "code",
   "execution_count": 283,
   "id": "014be0ec",
   "metadata": {},
   "outputs": [
    {
     "data": {
      "text/plain": [
       "'Perfect Number'"
      ]
     },
     "execution_count": 283,
     "metadata": {},
     "output_type": "execute_result"
    }
   ],
   "source": [
    "isPerfectNumber(8128)"
   ]
  },
  {
   "cell_type": "code",
   "execution_count": null,
   "id": "fa262ad5",
   "metadata": {},
   "outputs": [],
   "source": [
    "isPerfectNumber"
   ]
  },
  {
   "cell_type": "markdown",
   "id": "999dc222",
   "metadata": {},
   "source": [
    "45. Write a Python program to remove all duplicates from a string."
   ]
  },
  {
   "cell_type": "code",
   "execution_count": 286,
   "id": "30a81e34",
   "metadata": {},
   "outputs": [],
   "source": [
    "def str_remove_duplicates(string:str):\n",
    "    string= list(string)\n",
    "    new_str=[]\n",
    "    for i in string:\n",
    "        if i not in new_str:\n",
    "            new_str.append(i)\n",
    "    return \"\".join(new_str)\n",
    "            "
   ]
  },
  {
   "cell_type": "code",
   "execution_count": 287,
   "id": "413fd1ee",
   "metadata": {},
   "outputs": [
    {
     "data": {
      "text/plain": [
       "'helo wyuding'"
      ]
     },
     "execution_count": 287,
     "metadata": {},
     "output_type": "execute_result"
    }
   ],
   "source": [
    "str_remove_duplicates(\"hello how you doing\")"
   ]
  },
  {
   "cell_type": "code",
   "execution_count": null,
   "id": "9a37c90a",
   "metadata": {},
   "outputs": [],
   "source": []
  }
 ],
 "metadata": {
  "kernelspec": {
   "display_name": "Python 3 (ipykernel)",
   "language": "python",
   "name": "python3"
  },
  "language_info": {
   "codemirror_mode": {
    "name": "ipython",
    "version": 3
   },
   "file_extension": ".py",
   "mimetype": "text/x-python",
   "name": "python",
   "nbconvert_exporter": "python",
   "pygments_lexer": "ipython3",
   "version": "3.9.12"
  }
 },
 "nbformat": 4,
 "nbformat_minor": 5
}
